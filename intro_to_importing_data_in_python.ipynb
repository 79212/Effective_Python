{
  "nbformat": 4,
  "nbformat_minor": 0,
  "metadata": {
    "colab": {
      "name": "intro_to_importing_data_in_python.ipynb",
      "provenance": [],
      "authorship_tag": "ABX9TyMBXCYrUATxn0JTX1Gj26JZ",
      "include_colab_link": true
    },
    "kernelspec": {
      "name": "python3",
      "display_name": "Python 3"
    }
  },
  "cells": [
    {
      "cell_type": "markdown",
      "metadata": {
        "id": "view-in-github",
        "colab_type": "text"
      },
      "source": [
        "<a href=\"https://colab.research.google.com/github/Lawrence-Krukrubo/Effective_Python/blob/master/intro_to_importing_data_in_python.ipynb\" target=\"_parent\"><img src=\"https://colab.research.google.com/assets/colab-badge.svg\" alt=\"Open In Colab\"/></a>"
      ]
    },
    {
      "cell_type": "markdown",
      "metadata": {
        "id": "q8kuUIi9Uazl",
        "colab_type": "text"
      },
      "source": [
        "**We'd learn how to import data from a large variety of import data sources. For example:-<br>1. Flat files i.e .txt, .csv<br>2. Files native to other software such as .xls, Stata, SAS and Matlab files<br>3. Relational Databases such as Sqlite, Postgresql.<br>\n",
        "All these and some will be covered.**"
      ]
    },
    {
      "cell_type": "markdown",
      "metadata": {
        "id": "vbdQJty6VqFo",
        "colab_type": "text"
      },
      "source": [
        "First we start with basic text files, which are of two types:- The plain text such as a novel script and those containing records such as titanic.csv in which each row is a unique observation, and each column is a characteristic or feature such as titanic-passenger-class or sex or cabin."
      ]
    },
    {
      "cell_type": "markdown",
      "metadata": {
        "id": "5IdXTCy1Gx_s",
        "colab_type": "text"
      },
      "source": [
        "# Chapter One: Introduction and Flat Files."
      ]
    },
    {
      "cell_type": "markdown",
      "metadata": {
        "id": "5gh4WRAdWZGs",
        "colab_type": "text"
      },
      "source": [
        "### Reading a Text file:"
      ]
    },
    {
      "cell_type": "code",
      "metadata": {
        "id": "D524U-xbToL3",
        "colab_type": "code",
        "outputId": "07fbda07-a2c2-450f-ada6-d4a755de77f3",
        "colab": {
          "resources": {
            "http://localhost:8080/nbextensions/google.colab/files.js": {
              "data": "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",
              "ok": true,
              "headers": [
                [
                  "content-type",
                  "application/javascript"
                ]
              ],
              "status": 200,
              "status_text": ""
            }
          },
          "base_uri": "https://localhost:8080/",
          "height": 74
        }
      },
      "source": [
        "# Let's upload the moby_dick.txt file into colab.\n",
        "\n",
        "from google.colab import files\n",
        "uploaded = files.upload()"
      ],
      "execution_count": 0,
      "outputs": [
        {
          "output_type": "display_data",
          "data": {
            "text/html": [
              "\n",
              "     <input type=\"file\" id=\"files-53dae84a-8dfb-47dc-8f87-79e57bfb3ded\" name=\"files[]\" multiple disabled />\n",
              "     <output id=\"result-53dae84a-8dfb-47dc-8f87-79e57bfb3ded\">\n",
              "      Upload widget is only available when the cell has been executed in the\n",
              "      current browser session. Please rerun this cell to enable.\n",
              "      </output>\n",
              "      <script src=\"/nbextensions/google.colab/files.js\"></script> "
            ],
            "text/plain": [
              "<IPython.core.display.HTML object>"
            ]
          },
          "metadata": {
            "tags": []
          }
        },
        {
          "output_type": "stream",
          "text": [
            "Saving moby_dick.txt to moby_dick.txt\n"
          ],
          "name": "stdout"
        }
      ]
    },
    {
      "cell_type": "markdown",
      "metadata": {
        "id": "uuimGxm501hs",
        "colab_type": "text"
      },
      "source": [
        "Let's inspect the first 5 lines of the txt file"
      ]
    },
    {
      "cell_type": "code",
      "metadata": {
        "colab_type": "code",
        "outputId": "9164af65-4aa9-4978-946a-59718284f94c",
        "id": "CBOJkcDr0raS",
        "colab": {
          "base_uri": "https://localhost:8080/",
          "height": 101
        }
      },
      "source": [
        "! head -5 'moby_dick.txt'"
      ],
      "execution_count": 0,
      "outputs": [
        {
          "output_type": "stream",
          "text": [
            "CHAPTER 1. Loomings.\r\n",
            "\r\n",
            "Call me Ishmael. Some years ago--never mind how long precisely--having\r\n",
            "little or no money in my purse, and nothing particular to interest me on\r\n",
            "shore, I thought I would sail about a little and see the watery part of\r\n"
          ],
          "name": "stdout"
        }
      ]
    },
    {
      "cell_type": "code",
      "metadata": {
        "id": "5LIPdooiXWZ-",
        "colab_type": "code",
        "outputId": "5556a79a-0aaa-4e62-d45f-8db4b8d92a28",
        "colab": {
          "base_uri": "https://localhost:8080/",
          "height": 319
        }
      },
      "source": [
        "file_link = 'moby_dick.txt'\n",
        "with open(file_link, 'r') as new_file:\n",
        "    read_file = new_file.read()\n",
        "print(read_file)"
      ],
      "execution_count": 0,
      "outputs": [
        {
          "output_type": "stream",
          "text": [
            "CHAPTER 1. Loomings.\n",
            "\n",
            "Call me Ishmael. Some years ago--never mind how long precisely--having\n",
            "little or no money in my purse, and nothing particular to interest me on\n",
            "shore, I thought I would sail about a little and see the watery part of\n",
            "the world. It is a way I have of driving off the spleen and regulating\n",
            "the circulation. Whenever I find myself growing grim about the mouth;\n",
            "whenever it is a damp, drizzly November in my soul; whenever I find\n",
            "myself involuntarily pausing before coffin warehouses, and bringing up\n",
            "the rear of every funeral I meet; and especially whenever my hypos get\n",
            "such an upper hand of me, that it requires a strong moral principle to\n",
            "prevent me from deliberately stepping into the street, and methodically\n",
            "knocking people's hats off--then, I account it high time to get to sea\n",
            "as soon as I can. This is my substitute for pistol and ball. With a\n",
            "philosophical flourish Cato throws himself upon his sword; I quietly\n",
            "take to the ship. There is nothing surprising in this. If they but knew\n",
            "it, almost all men in their degree, some time or other, cherish very\n",
            "nearly the same feelings towards the ocean with me.\n"
          ],
          "name": "stdout"
        }
      ]
    },
    {
      "cell_type": "markdown",
      "metadata": {
        "id": "TCrRHADxaWVl",
        "colab_type": "text"
      },
      "source": [
        "Let'see the files in our current working directory"
      ]
    },
    {
      "cell_type": "code",
      "metadata": {
        "id": "w4nh2kmdYon6",
        "colab_type": "code",
        "outputId": "c052ff6a-9055-4ee5-a2c2-18ab7ba92cd7",
        "colab": {
          "base_uri": "https://localhost:8080/",
          "height": 34
        }
      },
      "source": [
        "! ls "
      ],
      "execution_count": 0,
      "outputs": [
        {
          "output_type": "stream",
          "text": [
            "moby_dick.txt  sample_data\n"
          ],
          "name": "stdout"
        }
      ]
    },
    {
      "cell_type": "markdown",
      "metadata": {
        "id": "Hb-sZlJ5ac8U",
        "colab_type": "text"
      },
      "source": [
        "### Importing text files line by line\n",
        "\n",
        "For large files, we may not want to print all of their content to the shell: you may wish to print only the first few lines. Enter the readline() method, which allows you to do this. When a file called file is open, you can print out the first line by executing file.readline(). If you execute the same command again, the second line will print, and so on."
      ]
    },
    {
      "cell_type": "code",
      "metadata": {
        "id": "zp_PmPvyae1b",
        "colab_type": "code",
        "outputId": "9a807d5b-029b-4388-9c17-e2d85738db27",
        "colab": {
          "base_uri": "https://localhost:8080/",
          "height": 118
        }
      },
      "source": [
        "# Read & print the first 3 lines of moby_dict.txt\n",
        "with open('moby_dick.txt', 'r') as files:\n",
        "    for i in range(3):\n",
        "        print(files.readline())"
      ],
      "execution_count": 0,
      "outputs": [
        {
          "output_type": "stream",
          "text": [
            "CHAPTER 1. Loomings.\n",
            "\n",
            "\n",
            "\n",
            "Call me Ishmael. Some years ago--never mind how long precisely--having\n",
            "\n"
          ],
          "name": "stdout"
        }
      ]
    },
    {
      "cell_type": "markdown",
      "metadata": {
        "id": "xFKWwqh2bi7W",
        "colab_type": "text"
      },
      "source": [
        "### The importance of flat files in data science"
      ]
    },
    {
      "cell_type": "markdown",
      "metadata": {
        "id": "ja2Lw-KObrhr",
        "colab_type": "text"
      },
      "source": [
        "After working with plain text files like moby_dick.txt, now we would look at flat files such as titanic.csv in which each row is a unique passenger on board and each column a feature or characteristic of each passenger such as age, gender, e.t.c.\n",
        "\n",
        "**Flat Files:** <br>Are basic text files containing records, that is table data without structured relationships. Flatfiles consist of records<br>This is in contrast to a relational database for example in which columns of distinct tables can be related. Note that a flatfile can have a header, which is usually the first row and describes the contents of the data columns.\n",
        "\n",
        "The reason that flat files are so important in Data Science is that Data Scientists really like to think in records or rows of attributes. Values in flat files may be separated by a tab or a comma or any other character. These separating characters are called a **delimiter**."
      ]
    },
    {
      "cell_type": "markdown",
      "metadata": {
        "id": "PJyt2gmcbmR4",
        "colab_type": "text"
      },
      "source": [
        "### How do we import Flat files?"
      ]
    },
    {
      "cell_type": "markdown",
      "metadata": {
        "id": "n0E1Mhtketdn",
        "colab_type": "text"
      },
      "source": [
        "If they consist entirely of numbers and we want to store them in a numpy array, we could very well use numpy. If instead we want to store the data in a dataframe, we can use pandas."
      ]
    },
    {
      "cell_type": "markdown",
      "metadata": {
        "id": "h6xSdDw1fusv",
        "colab_type": "text"
      },
      "source": [
        "**Why we like flat files and the Zen of Python...**<br>\n",
        "In PythonLand, there are currently hundreds of Python Enhancement Proposals, commonly referred to as PEPs. PEP8, for example, is a standard style guide for Python, written by our sensei Guido van Rossum himself. It is the basis for how we here at DataCamp ask our instructors to style their code. Another one of my favorites is PEP20, commonly called the Zen of Python. Its abstract is as follows:\n",
        "\n",
        "Import the zen of python below."
      ]
    },
    {
      "cell_type": "code",
      "metadata": {
        "id": "WswiN4W6foBp",
        "colab_type": "code",
        "outputId": "6f26b5cb-4619-4dc5-be9d-1cf7d008cc80",
        "colab": {
          "base_uri": "https://localhost:8080/",
          "height": 370
        }
      },
      "source": [
        "import this"
      ],
      "execution_count": 0,
      "outputs": [
        {
          "output_type": "stream",
          "text": [
            "The Zen of Python, by Tim Peters\n",
            "\n",
            "Beautiful is better than ugly.\n",
            "Explicit is better than implicit.\n",
            "Simple is better than complex.\n",
            "Complex is better than complicated.\n",
            "Flat is better than nested.\n",
            "Sparse is better than dense.\n",
            "Readability counts.\n",
            "Special cases aren't special enough to break the rules.\n",
            "Although practicality beats purity.\n",
            "Errors should never pass silently.\n",
            "Unless explicitly silenced.\n",
            "In the face of ambiguity, refuse the temptation to guess.\n",
            "There should be one-- and preferably only one --obvious way to do it.\n",
            "Although that way may not be obvious at first unless you're Dutch.\n",
            "Now is better than never.\n",
            "Although never is often better than *right* now.\n",
            "If the implementation is hard to explain, it's a bad idea.\n",
            "If the implementation is easy to explain, it may be a good idea.\n",
            "Namespaces are one honking great idea -- let's do more of those!\n"
          ],
          "name": "stdout"
        }
      ]
    },
    {
      "cell_type": "markdown",
      "metadata": {
        "id": "xMQ07WJXgq2q",
        "colab_type": "text"
      },
      "source": [
        "### Importing Flat files using Numpy"
      ]
    },
    {
      "cell_type": "markdown",
      "metadata": {
        "id": "oSHW-EiLgxF-",
        "colab_type": "text"
      },
      "source": [
        "If all data in the given flatfile are numerical, we could use the package numpy. <br>First: numpy arrays are the python standard for storing numerical data. they are efficient, fast and clean.<br>Second: numpy arrays are often essential for other packages such as scikit learn, a popular python ML library. Enter the numpy functions **loadtxt()** and **genfromtxt()**"
      ]
    },
    {
      "cell_type": "markdown",
      "metadata": {
        "id": "DXzC3g7bmDyN",
        "colab_type": "text"
      },
      "source": [
        "With numpy we can import pure numeric data or the numeric columns from a mixed data set by passing some attributes to the import statement\n",
        "```\n",
        "import numpy as np\n",
        "file_name  = 'MNIST.txt'\n",
        "data = np.loadtxt(file_name, delimiter=',', skiprows=1, usecols=[0,2])\n",
        "```\n",
        "The above codes imports the MNIST.txt data set as file_name, then it skips row 1, which is the string column-header row, since all we want is numeric data. Then we also specify that we import only the first and third columns. \n",
        "<br>\n",
        "```\n",
        "file_name  = 'MNIST.txt'\n",
        "data = np.loadtxt(file_name, delimiter=',', skiprows=1, usecols=[0,2], dtype=str)\n",
        "```\n",
        "Adding the dtype paarmeter gives us the ability to specify the output type of the data we are importing.<br>\n",
        "Lets see this in practice"
      ]
    },
    {
      "cell_type": "code",
      "metadata": {
        "id": "0sn3AaJlpIdx",
        "colab_type": "code",
        "outputId": "c087a021-6493-4eb7-b004-c21ccd10ba9c",
        "colab": {
          "base_uri": "https://localhost:8080/",
          "height": 70
        }
      },
      "source": [
        "import numpy as np\n",
        "import pandas as pd\n",
        "import matplotlib.pyplot as plt\n",
        "import seaborn as sns"
      ],
      "execution_count": 0,
      "outputs": [
        {
          "output_type": "stream",
          "text": [
            "/usr/local/lib/python3.6/dist-packages/statsmodels/tools/_testing.py:19: FutureWarning: pandas.util.testing is deprecated. Use the functions in the public API at pandas.testing instead.\n",
            "  import pandas.util.testing as tm\n"
          ],
          "name": "stderr"
        }
      ]
    },
    {
      "cell_type": "code",
      "metadata": {
        "id": "i07viL6-iJVA",
        "colab_type": "code",
        "outputId": "a8b14f77-574c-4e8b-a6b4-4d55406d861a",
        "colab": {
          "base_uri": "https://localhost:8080/",
          "height": 195
        }
      },
      "source": [
        "# Let's first use pandas to import the titanic data to see the head and dtypes\n",
        "data_link = 'https://raw.githubusercontent.com/Blackman9t/EDA/master/titanic_data.csv'\n",
        "pd.read_csv(data_link).head()"
      ],
      "execution_count": 0,
      "outputs": [
        {
          "output_type": "execute_result",
          "data": {
            "text/html": [
              "<div>\n",
              "<style scoped>\n",
              "    .dataframe tbody tr th:only-of-type {\n",
              "        vertical-align: middle;\n",
              "    }\n",
              "\n",
              "    .dataframe tbody tr th {\n",
              "        vertical-align: top;\n",
              "    }\n",
              "\n",
              "    .dataframe thead th {\n",
              "        text-align: right;\n",
              "    }\n",
              "</style>\n",
              "<table border=\"1\" class=\"dataframe\">\n",
              "  <thead>\n",
              "    <tr style=\"text-align: right;\">\n",
              "      <th></th>\n",
              "      <th>PassengerId</th>\n",
              "      <th>Survived</th>\n",
              "      <th>Pclass</th>\n",
              "      <th>Name</th>\n",
              "      <th>Sex</th>\n",
              "      <th>Age</th>\n",
              "      <th>SibSp</th>\n",
              "      <th>Parch</th>\n",
              "      <th>Ticket</th>\n",
              "      <th>Fare</th>\n",
              "      <th>Cabin</th>\n",
              "      <th>Embarked</th>\n",
              "    </tr>\n",
              "  </thead>\n",
              "  <tbody>\n",
              "    <tr>\n",
              "      <th>0</th>\n",
              "      <td>1</td>\n",
              "      <td>0</td>\n",
              "      <td>3</td>\n",
              "      <td>Braund, Mr. Owen Harris</td>\n",
              "      <td>male</td>\n",
              "      <td>22.0</td>\n",
              "      <td>1</td>\n",
              "      <td>0</td>\n",
              "      <td>A/5 21171</td>\n",
              "      <td>7.2500</td>\n",
              "      <td>NaN</td>\n",
              "      <td>S</td>\n",
              "    </tr>\n",
              "    <tr>\n",
              "      <th>1</th>\n",
              "      <td>2</td>\n",
              "      <td>1</td>\n",
              "      <td>1</td>\n",
              "      <td>Cumings, Mrs. John Bradley (Florence Briggs Th...</td>\n",
              "      <td>female</td>\n",
              "      <td>38.0</td>\n",
              "      <td>1</td>\n",
              "      <td>0</td>\n",
              "      <td>PC 17599</td>\n",
              "      <td>71.2833</td>\n",
              "      <td>C85</td>\n",
              "      <td>C</td>\n",
              "    </tr>\n",
              "    <tr>\n",
              "      <th>2</th>\n",
              "      <td>3</td>\n",
              "      <td>1</td>\n",
              "      <td>3</td>\n",
              "      <td>Heikkinen, Miss. Laina</td>\n",
              "      <td>female</td>\n",
              "      <td>26.0</td>\n",
              "      <td>0</td>\n",
              "      <td>0</td>\n",
              "      <td>STON/O2. 3101282</td>\n",
              "      <td>7.9250</td>\n",
              "      <td>NaN</td>\n",
              "      <td>S</td>\n",
              "    </tr>\n",
              "    <tr>\n",
              "      <th>3</th>\n",
              "      <td>4</td>\n",
              "      <td>1</td>\n",
              "      <td>1</td>\n",
              "      <td>Futrelle, Mrs. Jacques Heath (Lily May Peel)</td>\n",
              "      <td>female</td>\n",
              "      <td>35.0</td>\n",
              "      <td>1</td>\n",
              "      <td>0</td>\n",
              "      <td>113803</td>\n",
              "      <td>53.1000</td>\n",
              "      <td>C123</td>\n",
              "      <td>S</td>\n",
              "    </tr>\n",
              "    <tr>\n",
              "      <th>4</th>\n",
              "      <td>5</td>\n",
              "      <td>0</td>\n",
              "      <td>3</td>\n",
              "      <td>Allen, Mr. William Henry</td>\n",
              "      <td>male</td>\n",
              "      <td>35.0</td>\n",
              "      <td>0</td>\n",
              "      <td>0</td>\n",
              "      <td>373450</td>\n",
              "      <td>8.0500</td>\n",
              "      <td>NaN</td>\n",
              "      <td>S</td>\n",
              "    </tr>\n",
              "  </tbody>\n",
              "</table>\n",
              "</div>"
            ],
            "text/plain": [
              "   PassengerId  Survived  Pclass  ...     Fare Cabin  Embarked\n",
              "0            1         0       3  ...   7.2500   NaN         S\n",
              "1            2         1       1  ...  71.2833   C85         C\n",
              "2            3         1       3  ...   7.9250   NaN         S\n",
              "3            4         1       1  ...  53.1000  C123         S\n",
              "4            5         0       3  ...   8.0500   NaN         S\n",
              "\n",
              "[5 rows x 12 columns]"
            ]
          },
          "metadata": {
            "tags": []
          },
          "execution_count": 8
        }
      ]
    },
    {
      "cell_type": "markdown",
      "metadata": {
        "id": "MofKzgdWqb7c",
        "colab_type": "text"
      },
      "source": [
        "So to import this data in numpy, let's do so without the column header row and just the:- survived, Pclass and Fare cols"
      ]
    },
    {
      "cell_type": "code",
      "metadata": {
        "colab_type": "code",
        "id": "aV6_eEx50qox",
        "colab": {}
      },
      "source": [
        "titanic_np = np.loadtxt(data_link, delimiter = ',', skiprows=1, usecols=[1,2,10])  # Note that usecols param takes only integer values"
      ],
      "execution_count": 0,
      "outputs": []
    },
    {
      "cell_type": "code",
      "metadata": {
        "colab_type": "code",
        "outputId": "d8dc6143-ee42-42cc-ea48-487cf0062d2a",
        "id": "rPENzLIn0pxQ",
        "colab": {
          "base_uri": "https://localhost:8080/",
          "height": 134
        }
      },
      "source": [
        "titanic_np"
      ],
      "execution_count": 0,
      "outputs": [
        {
          "output_type": "execute_result",
          "data": {
            "text/plain": [
              "array([[ 0.    ,  3.    ,  7.25  ],\n",
              "       [ 1.    ,  1.    , 71.2833],\n",
              "       [ 1.    ,  3.    ,  7.925 ],\n",
              "       ...,\n",
              "       [ 0.    ,  3.    , 23.45  ],\n",
              "       [ 1.    ,  1.    , 30.    ],\n",
              "       [ 0.    ,  3.    ,  7.75  ]])"
            ]
          },
          "metadata": {
            "tags": []
          },
          "execution_count": 10
        }
      ]
    },
    {
      "cell_type": "code",
      "metadata": {
        "id": "8Ay-e6Cyuff8",
        "colab_type": "code",
        "outputId": "a4f9b378-d708-43e9-8116-d960c34216a1",
        "colab": {
          "base_uri": "https://localhost:8080/",
          "height": 34
        }
      },
      "source": [
        "titanic_np.dtype"
      ],
      "execution_count": 0,
      "outputs": [
        {
          "output_type": "execute_result",
          "data": {
            "text/plain": [
              "dtype('float64')"
            ]
          },
          "metadata": {
            "tags": []
          },
          "execution_count": 11
        }
      ]
    },
    {
      "cell_type": "markdown",
      "metadata": {
        "id": "UHCcflc9tc6i",
        "colab_type": "text"
      },
      "source": [
        "The above loads the titanic data set without the column header and with only the specified column index"
      ]
    },
    {
      "cell_type": "code",
      "metadata": {
        "id": "LAp4zGK5sWFp",
        "colab_type": "code",
        "colab": {}
      },
      "source": [
        "titanic_np = np.loadtxt(data_link, delimiter = ',', skiprows=1, usecols=[1,2,10], dtype=str)  # Note that usecols param takes only integer values"
      ],
      "execution_count": 0,
      "outputs": []
    },
    {
      "cell_type": "code",
      "metadata": {
        "id": "oitf2-0l15E8",
        "colab_type": "code",
        "outputId": "c2e5cee0-9db3-4b8f-b2da-98c1276b4a55",
        "colab": {
          "base_uri": "https://localhost:8080/",
          "height": 134
        }
      },
      "source": [
        "titanic_np"
      ],
      "execution_count": 0,
      "outputs": [
        {
          "output_type": "execute_result",
          "data": {
            "text/plain": [
              "array([['0', '3', '7.25'],\n",
              "       ['1', '1', '71.2833'],\n",
              "       ['1', '3', '7.925'],\n",
              "       ...,\n",
              "       ['0', '3', '23.45'],\n",
              "       ['1', '1', '30'],\n",
              "       ['0', '3', '7.75']], dtype='<U8')"
            ]
          },
          "metadata": {
            "tags": []
          },
          "execution_count": 13
        }
      ]
    },
    {
      "cell_type": "code",
      "metadata": {
        "id": "nKaZKHa0uVab",
        "colab_type": "code",
        "outputId": "765c47e0-d99a-4e97-b40b-c1912882d0f8",
        "colab": {
          "base_uri": "https://localhost:8080/",
          "height": 34
        }
      },
      "source": [
        "titanic_np.dtype"
      ],
      "execution_count": 0,
      "outputs": [
        {
          "output_type": "execute_result",
          "data": {
            "text/plain": [
              "dtype('<U8')"
            ]
          },
          "metadata": {
            "tags": []
          },
          "execution_count": 14
        }
      ]
    },
    {
      "cell_type": "markdown",
      "metadata": {
        "id": "H5p9IWZouuXI",
        "colab_type": "text"
      },
      "source": [
        "_**Note that although numpy can handle data of mixed types, it's not best practice to do so. Put mixed data types in a pandas data frame instead.**_"
      ]
    },
    {
      "cell_type": "markdown",
      "metadata": {
        "id": "D1wcLDhK4ztt",
        "colab_type": "text"
      },
      "source": [
        "## Working with mixed datatypes (1)\n",
        "Much of the time you will need to import datasets which have different datatypes in different columns; one column may contain strings and another floats, for example. The function np.loadtxt() will freak at this. There is another function, np.genfromtxt(), which can handle such structures. If we pass dtype=None to it, it will figure out what types each column should be"
      ]
    },
    {
      "cell_type": "code",
      "metadata": {
        "id": "um6DuSwx53aG",
        "colab_type": "code",
        "outputId": "64200229-e953-4aa0-9a6e-3123ebf76d5e",
        "colab": {
          "base_uri": "https://localhost:8080/",
          "height": 202
        }
      },
      "source": [
        "! wget 'https://raw.githubusercontent.com/Blackman9t/Machine_Learning/master/diabetes.csv'"
      ],
      "execution_count": 0,
      "outputs": [
        {
          "output_type": "stream",
          "text": [
            "--2020-05-05 16:33:34--  https://raw.githubusercontent.com/Blackman9t/Machine_Learning/master/diabetes.csv\n",
            "Resolving raw.githubusercontent.com (raw.githubusercontent.com)... 151.101.0.133, 151.101.64.133, 151.101.128.133, ...\n",
            "Connecting to raw.githubusercontent.com (raw.githubusercontent.com)|151.101.0.133|:443... connected.\n",
            "HTTP request sent, awaiting response... 200 OK\n",
            "Length: 791416 (773K) [text/plain]\n",
            "Saving to: ‘diabetes.csv’\n",
            "\n",
            "\rdiabetes.csv          0%[                    ]       0  --.-KB/s               \rdiabetes.csv        100%[===================>] 772.87K  --.-KB/s    in 0.08s   \n",
            "\n",
            "2020-05-05 16:33:35 (9.37 MB/s) - ‘diabetes.csv’ saved [791416/791416]\n",
            "\n"
          ],
          "name": "stdout"
        }
      ]
    },
    {
      "cell_type": "code",
      "metadata": {
        "id": "BmWcJgfl42Xj",
        "colab_type": "code",
        "outputId": "267e2f9e-760d-40b0-ab1f-b97a82e7b2ce",
        "colab": {
          "base_uri": "https://localhost:8080/",
          "height": 101
        }
      },
      "source": [
        "# let's preview the diabestes.csv dataset\n",
        "! head -5 'diabetes.csv'"
      ],
      "execution_count": 0,
      "outputs": [
        {
          "output_type": "stream",
          "text": [
            "PatientID,Pregnancies,PlasmaGlucose,DiastolicBloodPressure,TricepsThickness,SerumInsulin,BMI,DiabetesPedigree,Age,Diabetic\r\n",
            "1354778,0,171,80,34,23,43.50972593,1.213191354,21,0\r\n",
            "1147438,8,92,93,47,36,21.24057571,0.158364981,23,0\r\n",
            "1640031,7,115,47,52,35,41.51152348,0.079018568,23,0\r\n",
            "1883350,9,103,78,25,304,29.58219193,1.282869847,43,1\r\n"
          ],
          "name": "stdout"
        }
      ]
    },
    {
      "cell_type": "code",
      "metadata": {
        "id": "L2wrVyBG6s5p",
        "colab_type": "code",
        "colab": {}
      },
      "source": [
        "try:\n",
        "    data = np.genfromtxt('diabetes.csv', delimiter=',', names=True, dtype=None)\n",
        "except Exception as e:\n",
        "    print(type(e))"
      ],
      "execution_count": 0,
      "outputs": []
    },
    {
      "cell_type": "markdown",
      "metadata": {
        "id": "yzccHaJV7ZW1",
        "colab_type": "text"
      },
      "source": [
        "Here, the first argument is the filename, the second specifies the delimiter , and the third argument names tells us there is a header. Because the data are of different types, data is an object called a structured array. Because numpy arrays have to contain elements that are all the same type, the structured array solves this by being a 1D array, where each element of the array is a row of the flat file imported. You can test this by checking out the array's shape in the shell by executing np.shape(data)."
      ]
    },
    {
      "cell_type": "code",
      "metadata": {
        "id": "IVcEUR827aD6",
        "colab_type": "code",
        "outputId": "01905b37-50cc-4934-9d8e-f9339e51e42a",
        "colab": {
          "base_uri": "https://localhost:8080/",
          "height": 34
        }
      },
      "source": [
        "np.shape(data)"
      ],
      "execution_count": 0,
      "outputs": [
        {
          "output_type": "execute_result",
          "data": {
            "text/plain": [
              "(15000,)"
            ]
          },
          "metadata": {
            "tags": []
          },
          "execution_count": 18
        }
      ]
    },
    {
      "cell_type": "code",
      "metadata": {
        "id": "v1TKCYbDBBUF",
        "colab_type": "code",
        "outputId": "09b53a8e-8bb2-4a67-9961-c637380240f5",
        "colab": {
          "base_uri": "https://localhost:8080/",
          "height": 34
        }
      },
      "source": [
        "# Let's see the elements of the first row of data\n",
        "data[0]"
      ],
      "execution_count": 0,
      "outputs": [
        {
          "output_type": "execute_result",
          "data": {
            "text/plain": [
              "(1354778, 0, 171, 80, 34, 23, 43.50972593, 1.21319135, 21, 0)"
            ]
          },
          "metadata": {
            "tags": []
          },
          "execution_count": 19
        }
      ]
    },
    {
      "cell_type": "code",
      "metadata": {
        "id": "tREyIENVBWVO",
        "colab_type": "code",
        "outputId": "c81f0e09-a337-484f-cb4e-46029f31b756",
        "colab": {
          "base_uri": "https://localhost:8080/",
          "height": 138
        }
      },
      "source": [
        "# Let's see the elements of the first 5 rows of data\n",
        "data[:5]"
      ],
      "execution_count": 0,
      "outputs": [
        {
          "output_type": "execute_result",
          "data": {
            "text/plain": [
              "array([(1354778, 0, 171, 80, 34,  23, 43.50972593, 1.21319135, 21, 0),\n",
              "       (1147438, 8,  92, 93, 47,  36, 21.24057571, 0.15836498, 23, 0),\n",
              "       (1640031, 7, 115, 47, 52,  35, 41.51152348, 0.07901857, 23, 0),\n",
              "       (1883350, 9, 103, 78, 25, 304, 29.58219193, 1.28286985, 43, 1),\n",
              "       (1424119, 1,  85, 59, 27,  35, 42.60453585, 0.54954187, 22, 0)],\n",
              "      dtype=[('PatientID', '<i8'), ('Pregnancies', '<i8'), ('PlasmaGlucose', '<i8'), ('DiastolicBloodPressure', '<i8'), ('TricepsThickness', '<i8'), ('SerumInsulin', '<i8'), ('BMI', '<f8'), ('DiabetesPedigree', '<f8'), ('Age', '<i8'), ('Diabetic', '<i8')])"
            ]
          },
          "metadata": {
            "tags": []
          },
          "execution_count": 20
        }
      ]
    },
    {
      "cell_type": "code",
      "metadata": {
        "id": "MCpNgAQDAs3I",
        "colab_type": "code",
        "outputId": "27a0ee1b-2ac2-4643-d636-c321d28f4c9f",
        "colab": {
          "base_uri": "https://localhost:8080/",
          "height": 84
        }
      },
      "source": [
        "# Let's see the first 20 elements in the PlasmaGlucose column of data\n",
        "data['PlasmaGlucose'][:50]"
      ],
      "execution_count": 0,
      "outputs": [
        {
          "output_type": "execute_result",
          "data": {
            "text/plain": [
              "array([171,  92, 115, 103,  85,  82, 133,  67,  80,  72,  88,  94, 114,\n",
              "       110, 148, 109, 106, 156, 117, 102,  92, 118,  82, 124,  44, 104,\n",
              "       135, 163, 119,  70,  75, 152, 149, 123,  74,  45, 152,  85, 104,\n",
              "       108, 118,  85, 148,  76, 104, 165, 117, 104,  73, 115])"
            ]
          },
          "metadata": {
            "tags": []
          },
          "execution_count": 21
        }
      ]
    },
    {
      "cell_type": "markdown",
      "metadata": {
        "id": "2VESchUMBmul",
        "colab_type": "text"
      },
      "source": [
        "## Working with mixed datatypes (2)\n",
        "You have just used np.genfromtxt() to import data containing mixed datatypes. There is also another function np.recfromcsv() that behaves similarly to np.genfromtxt(), except that its default dtype is None. In this exercise, you'll practice using this to achieve the same result."
      ]
    },
    {
      "cell_type": "markdown",
      "metadata": {
        "id": "pd5mgYMPB4LL",
        "colab_type": "text"
      },
      "source": [
        "Import diabetes.csv using the function np.recfromcsv() and assign it to the variable, d. You'll only need to pass file to it because it has the defaults delimiter=',' and names=True in addition to dtype=None!"
      ]
    },
    {
      "cell_type": "code",
      "metadata": {
        "id": "ZD4t6U-JBpO2",
        "colab_type": "code",
        "colab": {}
      },
      "source": [
        "# function np.recfromcsv() has the defaults delimiter=',' and names=True in addition to dtype=None!\n",
        "# So we only pass it the file to read.\n",
        "d = np.recfromcsv('diabetes.csv')"
      ],
      "execution_count": 0,
      "outputs": []
    },
    {
      "cell_type": "code",
      "metadata": {
        "id": "J32-uUlNCb2e",
        "colab_type": "code",
        "outputId": "15f381d1-0cb3-40c1-8cc7-dc4f457dcf60",
        "colab": {
          "base_uri": "https://localhost:8080/",
          "height": 84
        }
      },
      "source": [
        "d['plasmaglucose'][:50]"
      ],
      "execution_count": 0,
      "outputs": [
        {
          "output_type": "execute_result",
          "data": {
            "text/plain": [
              "array([171,  92, 115, 103,  85,  82, 133,  67,  80,  72,  88,  94, 114,\n",
              "       110, 148, 109, 106, 156, 117, 102,  92, 118,  82, 124,  44, 104,\n",
              "       135, 163, 119,  70,  75, 152, 149, 123,  74,  45, 152,  85, 104,\n",
              "       108, 118,  85, 148,  76, 104, 165, 117, 104,  73, 115])"
            ]
          },
          "metadata": {
            "tags": []
          },
          "execution_count": 23
        }
      ]
    },
    {
      "cell_type": "markdown",
      "metadata": {
        "id": "2DrB4WAkEm9G",
        "colab_type": "text"
      },
      "source": [
        "## Using pandas to import flat files as DataFrames (1)\n",
        "In the last exercise, you were able to import flat files containing columns with different datatypes as numpy arrays. However, the DataFrame object in pandas is a more appropriate structure in which to store such data and, thankfully, we can easily import files of mixed data types as DataFrames using the pandas functions read_csv() and read_table()."
      ]
    },
    {
      "cell_type": "code",
      "metadata": {
        "id": "uH80PI4tCg-G",
        "colab_type": "code",
        "outputId": "347601c0-54ad-46f0-861c-a017262b74d2",
        "colab": {
          "base_uri": "https://localhost:8080/",
          "height": 195
        }
      },
      "source": [
        "titanic_df = pd.read_csv(data_link)\n",
        "titanic_df.head()"
      ],
      "execution_count": 0,
      "outputs": [
        {
          "output_type": "execute_result",
          "data": {
            "text/html": [
              "<div>\n",
              "<style scoped>\n",
              "    .dataframe tbody tr th:only-of-type {\n",
              "        vertical-align: middle;\n",
              "    }\n",
              "\n",
              "    .dataframe tbody tr th {\n",
              "        vertical-align: top;\n",
              "    }\n",
              "\n",
              "    .dataframe thead th {\n",
              "        text-align: right;\n",
              "    }\n",
              "</style>\n",
              "<table border=\"1\" class=\"dataframe\">\n",
              "  <thead>\n",
              "    <tr style=\"text-align: right;\">\n",
              "      <th></th>\n",
              "      <th>PassengerId</th>\n",
              "      <th>Survived</th>\n",
              "      <th>Pclass</th>\n",
              "      <th>Name</th>\n",
              "      <th>Sex</th>\n",
              "      <th>Age</th>\n",
              "      <th>SibSp</th>\n",
              "      <th>Parch</th>\n",
              "      <th>Ticket</th>\n",
              "      <th>Fare</th>\n",
              "      <th>Cabin</th>\n",
              "      <th>Embarked</th>\n",
              "    </tr>\n",
              "  </thead>\n",
              "  <tbody>\n",
              "    <tr>\n",
              "      <th>0</th>\n",
              "      <td>1</td>\n",
              "      <td>0</td>\n",
              "      <td>3</td>\n",
              "      <td>Braund, Mr. Owen Harris</td>\n",
              "      <td>male</td>\n",
              "      <td>22.0</td>\n",
              "      <td>1</td>\n",
              "      <td>0</td>\n",
              "      <td>A/5 21171</td>\n",
              "      <td>7.2500</td>\n",
              "      <td>NaN</td>\n",
              "      <td>S</td>\n",
              "    </tr>\n",
              "    <tr>\n",
              "      <th>1</th>\n",
              "      <td>2</td>\n",
              "      <td>1</td>\n",
              "      <td>1</td>\n",
              "      <td>Cumings, Mrs. John Bradley (Florence Briggs Th...</td>\n",
              "      <td>female</td>\n",
              "      <td>38.0</td>\n",
              "      <td>1</td>\n",
              "      <td>0</td>\n",
              "      <td>PC 17599</td>\n",
              "      <td>71.2833</td>\n",
              "      <td>C85</td>\n",
              "      <td>C</td>\n",
              "    </tr>\n",
              "    <tr>\n",
              "      <th>2</th>\n",
              "      <td>3</td>\n",
              "      <td>1</td>\n",
              "      <td>3</td>\n",
              "      <td>Heikkinen, Miss. Laina</td>\n",
              "      <td>female</td>\n",
              "      <td>26.0</td>\n",
              "      <td>0</td>\n",
              "      <td>0</td>\n",
              "      <td>STON/O2. 3101282</td>\n",
              "      <td>7.9250</td>\n",
              "      <td>NaN</td>\n",
              "      <td>S</td>\n",
              "    </tr>\n",
              "    <tr>\n",
              "      <th>3</th>\n",
              "      <td>4</td>\n",
              "      <td>1</td>\n",
              "      <td>1</td>\n",
              "      <td>Futrelle, Mrs. Jacques Heath (Lily May Peel)</td>\n",
              "      <td>female</td>\n",
              "      <td>35.0</td>\n",
              "      <td>1</td>\n",
              "      <td>0</td>\n",
              "      <td>113803</td>\n",
              "      <td>53.1000</td>\n",
              "      <td>C123</td>\n",
              "      <td>S</td>\n",
              "    </tr>\n",
              "    <tr>\n",
              "      <th>4</th>\n",
              "      <td>5</td>\n",
              "      <td>0</td>\n",
              "      <td>3</td>\n",
              "      <td>Allen, Mr. William Henry</td>\n",
              "      <td>male</td>\n",
              "      <td>35.0</td>\n",
              "      <td>0</td>\n",
              "      <td>0</td>\n",
              "      <td>373450</td>\n",
              "      <td>8.0500</td>\n",
              "      <td>NaN</td>\n",
              "      <td>S</td>\n",
              "    </tr>\n",
              "  </tbody>\n",
              "</table>\n",
              "</div>"
            ],
            "text/plain": [
              "   PassengerId  Survived  Pclass  ...     Fare Cabin  Embarked\n",
              "0            1         0       3  ...   7.2500   NaN         S\n",
              "1            2         1       1  ...  71.2833   C85         C\n",
              "2            3         1       3  ...   7.9250   NaN         S\n",
              "3            4         1       1  ...  53.1000  C123         S\n",
              "4            5         0       3  ...   8.0500   NaN         S\n",
              "\n",
              "[5 rows x 12 columns]"
            ]
          },
          "metadata": {
            "tags": []
          },
          "execution_count": 24
        }
      ]
    },
    {
      "cell_type": "markdown",
      "metadata": {
        "id": "rs4VqxkPFeQq",
        "colab_type": "text"
      },
      "source": [
        "### Using pandas to import flat files as DataFrames (2)\n",
        "In the last exercise, you were able to import flat files into a pandas DataFrame. As a bonus, it is then straightforward to retrieve the corresponding numpy array using the attribute values. You'll now have a chance to do this using the MNIST dataset, which is available as digits.csv."
      ]
    },
    {
      "cell_type": "code",
      "metadata": {
        "id": "5ebaSbb2Ff8f",
        "colab_type": "code",
        "outputId": "8c8cde5b-1732-4eb2-cfed-d5d7e1837ad4",
        "colab": {
          "base_uri": "https://localhost:8080/",
          "height": 202
        }
      },
      "source": [
        "! wget 'https://assets.datacamp.com/production/repositories/487/datasets/d6d1b84ef06151ff913b4173e2eca8e6d5fa959b/mnist_kaggle_some_rows.csv'"
      ],
      "execution_count": 0,
      "outputs": [
        {
          "output_type": "stream",
          "text": [
            "--2020-05-05 16:33:46--  https://assets.datacamp.com/production/repositories/487/datasets/d6d1b84ef06151ff913b4173e2eca8e6d5fa959b/mnist_kaggle_some_rows.csv\n",
            "Resolving assets.datacamp.com (assets.datacamp.com)... 13.249.87.104, 13.249.87.85, 13.249.87.121, ...\n",
            "Connecting to assets.datacamp.com (assets.datacamp.com)|13.249.87.104|:443... connected.\n",
            "HTTP request sent, awaiting response... 200 OK\n",
            "Length: 338477 (331K)\n",
            "Saving to: ‘mnist_kaggle_some_rows.csv’\n",
            "\n",
            "\r          mnist_kag   0%[                    ]       0  --.-KB/s               \rmnist_kaggle_some_r 100%[===================>] 330.54K  --.-KB/s    in 0.04s   \n",
            "\n",
            "2020-05-05 16:33:46 (8.96 MB/s) - ‘mnist_kaggle_some_rows.csv’ saved [338477/338477]\n",
            "\n"
          ],
          "name": "stdout"
        }
      ]
    },
    {
      "cell_type": "markdown",
      "metadata": {
        "id": "K08czbhaJKXr",
        "colab_type": "text"
      },
      "source": [
        "Import the first 5 rows of the file into a DataFrame using the function pd.read_csv() and assign the result to data. You'll need to use the arguments nrows and header (there is no header in this file)."
      ]
    },
    {
      "cell_type": "code",
      "metadata": {
        "id": "ujmiMzTzHCrj",
        "colab_type": "code",
        "outputId": "ad4970ad-4f7a-49aa-be1a-9774fea442a8",
        "colab": {
          "base_uri": "https://localhost:8080/",
          "height": 244
        }
      },
      "source": [
        "data = pd.read_csv('mnist_kaggle_some_rows.csv', header=None, nrows=5)\n",
        "data"
      ],
      "execution_count": 0,
      "outputs": [
        {
          "output_type": "execute_result",
          "data": {
            "text/html": [
              "<div>\n",
              "<style scoped>\n",
              "    .dataframe tbody tr th:only-of-type {\n",
              "        vertical-align: middle;\n",
              "    }\n",
              "\n",
              "    .dataframe tbody tr th {\n",
              "        vertical-align: top;\n",
              "    }\n",
              "\n",
              "    .dataframe thead th {\n",
              "        text-align: right;\n",
              "    }\n",
              "</style>\n",
              "<table border=\"1\" class=\"dataframe\">\n",
              "  <thead>\n",
              "    <tr style=\"text-align: right;\">\n",
              "      <th></th>\n",
              "      <th>0</th>\n",
              "      <th>1</th>\n",
              "      <th>2</th>\n",
              "      <th>3</th>\n",
              "      <th>4</th>\n",
              "      <th>5</th>\n",
              "      <th>6</th>\n",
              "      <th>7</th>\n",
              "      <th>8</th>\n",
              "      <th>9</th>\n",
              "      <th>10</th>\n",
              "      <th>11</th>\n",
              "      <th>12</th>\n",
              "      <th>13</th>\n",
              "      <th>14</th>\n",
              "      <th>15</th>\n",
              "      <th>16</th>\n",
              "      <th>17</th>\n",
              "      <th>18</th>\n",
              "      <th>19</th>\n",
              "      <th>20</th>\n",
              "      <th>21</th>\n",
              "      <th>22</th>\n",
              "      <th>23</th>\n",
              "      <th>24</th>\n",
              "      <th>25</th>\n",
              "      <th>26</th>\n",
              "      <th>27</th>\n",
              "      <th>28</th>\n",
              "      <th>29</th>\n",
              "      <th>30</th>\n",
              "      <th>31</th>\n",
              "      <th>32</th>\n",
              "      <th>33</th>\n",
              "      <th>34</th>\n",
              "      <th>35</th>\n",
              "      <th>36</th>\n",
              "      <th>37</th>\n",
              "      <th>38</th>\n",
              "      <th>39</th>\n",
              "      <th>...</th>\n",
              "      <th>745</th>\n",
              "      <th>746</th>\n",
              "      <th>747</th>\n",
              "      <th>748</th>\n",
              "      <th>749</th>\n",
              "      <th>750</th>\n",
              "      <th>751</th>\n",
              "      <th>752</th>\n",
              "      <th>753</th>\n",
              "      <th>754</th>\n",
              "      <th>755</th>\n",
              "      <th>756</th>\n",
              "      <th>757</th>\n",
              "      <th>758</th>\n",
              "      <th>759</th>\n",
              "      <th>760</th>\n",
              "      <th>761</th>\n",
              "      <th>762</th>\n",
              "      <th>763</th>\n",
              "      <th>764</th>\n",
              "      <th>765</th>\n",
              "      <th>766</th>\n",
              "      <th>767</th>\n",
              "      <th>768</th>\n",
              "      <th>769</th>\n",
              "      <th>770</th>\n",
              "      <th>771</th>\n",
              "      <th>772</th>\n",
              "      <th>773</th>\n",
              "      <th>774</th>\n",
              "      <th>775</th>\n",
              "      <th>776</th>\n",
              "      <th>777</th>\n",
              "      <th>778</th>\n",
              "      <th>779</th>\n",
              "      <th>780</th>\n",
              "      <th>781</th>\n",
              "      <th>782</th>\n",
              "      <th>783</th>\n",
              "      <th>784</th>\n",
              "    </tr>\n",
              "  </thead>\n",
              "  <tbody>\n",
              "    <tr>\n",
              "      <th>0</th>\n",
              "      <td>1.0</td>\n",
              "      <td>0.0</td>\n",
              "      <td>0.0</td>\n",
              "      <td>0.0</td>\n",
              "      <td>0.0</td>\n",
              "      <td>0.0</td>\n",
              "      <td>0.0</td>\n",
              "      <td>0.0</td>\n",
              "      <td>0.0</td>\n",
              "      <td>0.0</td>\n",
              "      <td>0.0</td>\n",
              "      <td>0.0</td>\n",
              "      <td>0.0</td>\n",
              "      <td>0.0</td>\n",
              "      <td>0.0</td>\n",
              "      <td>0.0</td>\n",
              "      <td>0.0</td>\n",
              "      <td>0.0</td>\n",
              "      <td>0.0</td>\n",
              "      <td>0.0</td>\n",
              "      <td>0.0</td>\n",
              "      <td>0.0</td>\n",
              "      <td>0.0</td>\n",
              "      <td>0.0</td>\n",
              "      <td>0.0</td>\n",
              "      <td>0.0</td>\n",
              "      <td>0.0</td>\n",
              "      <td>0.0</td>\n",
              "      <td>0.0</td>\n",
              "      <td>0.0</td>\n",
              "      <td>0.0</td>\n",
              "      <td>0.0</td>\n",
              "      <td>0.0</td>\n",
              "      <td>0.0</td>\n",
              "      <td>0.0</td>\n",
              "      <td>0.0</td>\n",
              "      <td>0.0</td>\n",
              "      <td>0.0</td>\n",
              "      <td>0.0</td>\n",
              "      <td>0.0</td>\n",
              "      <td>...</td>\n",
              "      <td>0.0</td>\n",
              "      <td>0.0</td>\n",
              "      <td>0.0</td>\n",
              "      <td>0.0</td>\n",
              "      <td>0.0</td>\n",
              "      <td>0.0</td>\n",
              "      <td>0.0</td>\n",
              "      <td>0.0</td>\n",
              "      <td>0.0</td>\n",
              "      <td>0.0</td>\n",
              "      <td>0.0</td>\n",
              "      <td>0.0</td>\n",
              "      <td>0.0</td>\n",
              "      <td>0.0</td>\n",
              "      <td>0.0</td>\n",
              "      <td>0.0</td>\n",
              "      <td>0.0</td>\n",
              "      <td>0.0</td>\n",
              "      <td>0.0</td>\n",
              "      <td>0.0</td>\n",
              "      <td>0.0</td>\n",
              "      <td>0.0</td>\n",
              "      <td>0.0</td>\n",
              "      <td>0.0</td>\n",
              "      <td>0.0</td>\n",
              "      <td>0.0</td>\n",
              "      <td>0.0</td>\n",
              "      <td>0.0</td>\n",
              "      <td>0.0</td>\n",
              "      <td>0.0</td>\n",
              "      <td>0.0</td>\n",
              "      <td>0.0</td>\n",
              "      <td>0.0</td>\n",
              "      <td>0.0</td>\n",
              "      <td>0.0</td>\n",
              "      <td>0.0</td>\n",
              "      <td>0.0</td>\n",
              "      <td>0.0</td>\n",
              "      <td>0.0</td>\n",
              "      <td>0.0</td>\n",
              "    </tr>\n",
              "    <tr>\n",
              "      <th>1</th>\n",
              "      <td>0.0</td>\n",
              "      <td>0.0</td>\n",
              "      <td>0.0</td>\n",
              "      <td>0.0</td>\n",
              "      <td>0.0</td>\n",
              "      <td>0.0</td>\n",
              "      <td>0.0</td>\n",
              "      <td>0.0</td>\n",
              "      <td>0.0</td>\n",
              "      <td>0.0</td>\n",
              "      <td>0.0</td>\n",
              "      <td>0.0</td>\n",
              "      <td>0.0</td>\n",
              "      <td>0.0</td>\n",
              "      <td>0.0</td>\n",
              "      <td>0.0</td>\n",
              "      <td>0.0</td>\n",
              "      <td>0.0</td>\n",
              "      <td>0.0</td>\n",
              "      <td>0.0</td>\n",
              "      <td>0.0</td>\n",
              "      <td>0.0</td>\n",
              "      <td>0.0</td>\n",
              "      <td>0.0</td>\n",
              "      <td>0.0</td>\n",
              "      <td>0.0</td>\n",
              "      <td>0.0</td>\n",
              "      <td>0.0</td>\n",
              "      <td>0.0</td>\n",
              "      <td>0.0</td>\n",
              "      <td>0.0</td>\n",
              "      <td>0.0</td>\n",
              "      <td>0.0</td>\n",
              "      <td>0.0</td>\n",
              "      <td>0.0</td>\n",
              "      <td>0.0</td>\n",
              "      <td>0.0</td>\n",
              "      <td>0.0</td>\n",
              "      <td>0.0</td>\n",
              "      <td>0.0</td>\n",
              "      <td>...</td>\n",
              "      <td>0.0</td>\n",
              "      <td>0.0</td>\n",
              "      <td>0.0</td>\n",
              "      <td>0.0</td>\n",
              "      <td>0.0</td>\n",
              "      <td>0.0</td>\n",
              "      <td>0.0</td>\n",
              "      <td>0.0</td>\n",
              "      <td>0.0</td>\n",
              "      <td>0.0</td>\n",
              "      <td>0.0</td>\n",
              "      <td>0.0</td>\n",
              "      <td>0.0</td>\n",
              "      <td>0.0</td>\n",
              "      <td>0.0</td>\n",
              "      <td>0.0</td>\n",
              "      <td>0.0</td>\n",
              "      <td>0.0</td>\n",
              "      <td>0.0</td>\n",
              "      <td>0.0</td>\n",
              "      <td>0.0</td>\n",
              "      <td>0.0</td>\n",
              "      <td>0.0</td>\n",
              "      <td>0.0</td>\n",
              "      <td>0.0</td>\n",
              "      <td>0.0</td>\n",
              "      <td>0.0</td>\n",
              "      <td>0.0</td>\n",
              "      <td>0.0</td>\n",
              "      <td>0.0</td>\n",
              "      <td>0.0</td>\n",
              "      <td>0.0</td>\n",
              "      <td>0.0</td>\n",
              "      <td>0.0</td>\n",
              "      <td>0.0</td>\n",
              "      <td>0.0</td>\n",
              "      <td>0.0</td>\n",
              "      <td>0.0</td>\n",
              "      <td>0.0</td>\n",
              "      <td>0.0</td>\n",
              "    </tr>\n",
              "    <tr>\n",
              "      <th>2</th>\n",
              "      <td>1.0</td>\n",
              "      <td>0.0</td>\n",
              "      <td>0.0</td>\n",
              "      <td>0.0</td>\n",
              "      <td>0.0</td>\n",
              "      <td>0.0</td>\n",
              "      <td>0.0</td>\n",
              "      <td>0.0</td>\n",
              "      <td>0.0</td>\n",
              "      <td>0.0</td>\n",
              "      <td>0.0</td>\n",
              "      <td>0.0</td>\n",
              "      <td>0.0</td>\n",
              "      <td>0.0</td>\n",
              "      <td>0.0</td>\n",
              "      <td>0.0</td>\n",
              "      <td>0.0</td>\n",
              "      <td>0.0</td>\n",
              "      <td>0.0</td>\n",
              "      <td>0.0</td>\n",
              "      <td>0.0</td>\n",
              "      <td>0.0</td>\n",
              "      <td>0.0</td>\n",
              "      <td>0.0</td>\n",
              "      <td>0.0</td>\n",
              "      <td>0.0</td>\n",
              "      <td>0.0</td>\n",
              "      <td>0.0</td>\n",
              "      <td>0.0</td>\n",
              "      <td>0.0</td>\n",
              "      <td>0.0</td>\n",
              "      <td>0.0</td>\n",
              "      <td>0.0</td>\n",
              "      <td>0.0</td>\n",
              "      <td>0.0</td>\n",
              "      <td>0.0</td>\n",
              "      <td>0.0</td>\n",
              "      <td>0.0</td>\n",
              "      <td>0.0</td>\n",
              "      <td>0.0</td>\n",
              "      <td>...</td>\n",
              "      <td>0.0</td>\n",
              "      <td>0.0</td>\n",
              "      <td>0.0</td>\n",
              "      <td>0.0</td>\n",
              "      <td>0.0</td>\n",
              "      <td>0.0</td>\n",
              "      <td>0.0</td>\n",
              "      <td>0.0</td>\n",
              "      <td>0.0</td>\n",
              "      <td>0.0</td>\n",
              "      <td>0.0</td>\n",
              "      <td>0.0</td>\n",
              "      <td>0.0</td>\n",
              "      <td>0.0</td>\n",
              "      <td>0.0</td>\n",
              "      <td>0.0</td>\n",
              "      <td>0.0</td>\n",
              "      <td>0.0</td>\n",
              "      <td>0.0</td>\n",
              "      <td>0.0</td>\n",
              "      <td>0.0</td>\n",
              "      <td>0.0</td>\n",
              "      <td>0.0</td>\n",
              "      <td>0.0</td>\n",
              "      <td>0.0</td>\n",
              "      <td>0.0</td>\n",
              "      <td>0.0</td>\n",
              "      <td>0.0</td>\n",
              "      <td>0.0</td>\n",
              "      <td>0.0</td>\n",
              "      <td>0.0</td>\n",
              "      <td>0.0</td>\n",
              "      <td>0.0</td>\n",
              "      <td>0.0</td>\n",
              "      <td>0.0</td>\n",
              "      <td>0.0</td>\n",
              "      <td>0.0</td>\n",
              "      <td>0.0</td>\n",
              "      <td>0.0</td>\n",
              "      <td>0.0</td>\n",
              "    </tr>\n",
              "    <tr>\n",
              "      <th>3</th>\n",
              "      <td>4.0</td>\n",
              "      <td>0.0</td>\n",
              "      <td>0.0</td>\n",
              "      <td>0.0</td>\n",
              "      <td>0.0</td>\n",
              "      <td>0.0</td>\n",
              "      <td>0.0</td>\n",
              "      <td>0.0</td>\n",
              "      <td>0.0</td>\n",
              "      <td>0.0</td>\n",
              "      <td>0.0</td>\n",
              "      <td>0.0</td>\n",
              "      <td>0.0</td>\n",
              "      <td>0.0</td>\n",
              "      <td>0.0</td>\n",
              "      <td>0.0</td>\n",
              "      <td>0.0</td>\n",
              "      <td>0.0</td>\n",
              "      <td>0.0</td>\n",
              "      <td>0.0</td>\n",
              "      <td>0.0</td>\n",
              "      <td>0.0</td>\n",
              "      <td>0.0</td>\n",
              "      <td>0.0</td>\n",
              "      <td>0.0</td>\n",
              "      <td>0.0</td>\n",
              "      <td>0.0</td>\n",
              "      <td>0.0</td>\n",
              "      <td>0.0</td>\n",
              "      <td>0.0</td>\n",
              "      <td>0.0</td>\n",
              "      <td>0.0</td>\n",
              "      <td>0.0</td>\n",
              "      <td>0.0</td>\n",
              "      <td>0.0</td>\n",
              "      <td>0.0</td>\n",
              "      <td>0.0</td>\n",
              "      <td>0.0</td>\n",
              "      <td>0.0</td>\n",
              "      <td>0.0</td>\n",
              "      <td>...</td>\n",
              "      <td>0.0</td>\n",
              "      <td>0.0</td>\n",
              "      <td>0.0</td>\n",
              "      <td>0.0</td>\n",
              "      <td>0.0</td>\n",
              "      <td>0.0</td>\n",
              "      <td>0.0</td>\n",
              "      <td>0.0</td>\n",
              "      <td>0.0</td>\n",
              "      <td>0.0</td>\n",
              "      <td>0.0</td>\n",
              "      <td>0.0</td>\n",
              "      <td>0.0</td>\n",
              "      <td>0.0</td>\n",
              "      <td>0.0</td>\n",
              "      <td>0.0</td>\n",
              "      <td>0.0</td>\n",
              "      <td>0.0</td>\n",
              "      <td>0.0</td>\n",
              "      <td>0.0</td>\n",
              "      <td>0.0</td>\n",
              "      <td>0.0</td>\n",
              "      <td>0.0</td>\n",
              "      <td>0.0</td>\n",
              "      <td>0.0</td>\n",
              "      <td>0.0</td>\n",
              "      <td>0.0</td>\n",
              "      <td>0.0</td>\n",
              "      <td>0.0</td>\n",
              "      <td>0.0</td>\n",
              "      <td>0.0</td>\n",
              "      <td>0.0</td>\n",
              "      <td>0.0</td>\n",
              "      <td>0.0</td>\n",
              "      <td>0.0</td>\n",
              "      <td>0.0</td>\n",
              "      <td>0.0</td>\n",
              "      <td>0.0</td>\n",
              "      <td>0.0</td>\n",
              "      <td>0.0</td>\n",
              "    </tr>\n",
              "    <tr>\n",
              "      <th>4</th>\n",
              "      <td>0.0</td>\n",
              "      <td>0.0</td>\n",
              "      <td>0.0</td>\n",
              "      <td>0.0</td>\n",
              "      <td>0.0</td>\n",
              "      <td>0.0</td>\n",
              "      <td>0.0</td>\n",
              "      <td>0.0</td>\n",
              "      <td>0.0</td>\n",
              "      <td>0.0</td>\n",
              "      <td>0.0</td>\n",
              "      <td>0.0</td>\n",
              "      <td>0.0</td>\n",
              "      <td>0.0</td>\n",
              "      <td>0.0</td>\n",
              "      <td>0.0</td>\n",
              "      <td>0.0</td>\n",
              "      <td>0.0</td>\n",
              "      <td>0.0</td>\n",
              "      <td>0.0</td>\n",
              "      <td>0.0</td>\n",
              "      <td>0.0</td>\n",
              "      <td>0.0</td>\n",
              "      <td>0.0</td>\n",
              "      <td>0.0</td>\n",
              "      <td>0.0</td>\n",
              "      <td>0.0</td>\n",
              "      <td>0.0</td>\n",
              "      <td>0.0</td>\n",
              "      <td>0.0</td>\n",
              "      <td>0.0</td>\n",
              "      <td>0.0</td>\n",
              "      <td>0.0</td>\n",
              "      <td>0.0</td>\n",
              "      <td>0.0</td>\n",
              "      <td>0.0</td>\n",
              "      <td>0.0</td>\n",
              "      <td>0.0</td>\n",
              "      <td>0.0</td>\n",
              "      <td>0.0</td>\n",
              "      <td>...</td>\n",
              "      <td>0.0</td>\n",
              "      <td>0.0</td>\n",
              "      <td>0.0</td>\n",
              "      <td>0.0</td>\n",
              "      <td>0.0</td>\n",
              "      <td>0.0</td>\n",
              "      <td>0.0</td>\n",
              "      <td>0.0</td>\n",
              "      <td>0.0</td>\n",
              "      <td>0.0</td>\n",
              "      <td>0.0</td>\n",
              "      <td>0.0</td>\n",
              "      <td>0.0</td>\n",
              "      <td>0.0</td>\n",
              "      <td>0.0</td>\n",
              "      <td>0.0</td>\n",
              "      <td>0.0</td>\n",
              "      <td>0.0</td>\n",
              "      <td>0.0</td>\n",
              "      <td>0.0</td>\n",
              "      <td>0.0</td>\n",
              "      <td>0.0</td>\n",
              "      <td>0.0</td>\n",
              "      <td>0.0</td>\n",
              "      <td>0.0</td>\n",
              "      <td>0.0</td>\n",
              "      <td>0.0</td>\n",
              "      <td>0.0</td>\n",
              "      <td>0.0</td>\n",
              "      <td>0.0</td>\n",
              "      <td>0.0</td>\n",
              "      <td>0.0</td>\n",
              "      <td>0.0</td>\n",
              "      <td>0.0</td>\n",
              "      <td>0.0</td>\n",
              "      <td>0.0</td>\n",
              "      <td>0.0</td>\n",
              "      <td>0.0</td>\n",
              "      <td>0.0</td>\n",
              "      <td>0.0</td>\n",
              "    </tr>\n",
              "  </tbody>\n",
              "</table>\n",
              "<p>5 rows × 785 columns</p>\n",
              "</div>"
            ],
            "text/plain": [
              "   0    1    2    3    4    5    6    ...  778  779  780  781  782  783  784\n",
              "0  1.0  0.0  0.0  0.0  0.0  0.0  0.0  ...  0.0  0.0  0.0  0.0  0.0  0.0  0.0\n",
              "1  0.0  0.0  0.0  0.0  0.0  0.0  0.0  ...  0.0  0.0  0.0  0.0  0.0  0.0  0.0\n",
              "2  1.0  0.0  0.0  0.0  0.0  0.0  0.0  ...  0.0  0.0  0.0  0.0  0.0  0.0  0.0\n",
              "3  4.0  0.0  0.0  0.0  0.0  0.0  0.0  ...  0.0  0.0  0.0  0.0  0.0  0.0  0.0\n",
              "4  0.0  0.0  0.0  0.0  0.0  0.0  0.0  ...  0.0  0.0  0.0  0.0  0.0  0.0  0.0\n",
              "\n",
              "[5 rows x 785 columns]"
            ]
          },
          "metadata": {
            "tags": []
          },
          "execution_count": 26
        }
      ]
    },
    {
      "cell_type": "code",
      "metadata": {
        "id": "8us-TNOvJYep",
        "colab_type": "code",
        "outputId": "c6b45cc7-1a86-4486-a0fa-b6a679a79d84",
        "colab": {
          "base_uri": "https://localhost:8080/",
          "height": 34
        }
      },
      "source": [
        "# Now convert data to a numpy array\n",
        "data_array = data.values\n",
        "type(data_array)"
      ],
      "execution_count": 0,
      "outputs": [
        {
          "output_type": "execute_result",
          "data": {
            "text/plain": [
              "numpy.ndarray"
            ]
          },
          "metadata": {
            "tags": []
          },
          "execution_count": 27
        }
      ]
    },
    {
      "cell_type": "markdown",
      "metadata": {
        "id": "CKhWLfxqJ1Zi",
        "colab_type": "text"
      },
      "source": [
        "### Customizing your pandas import\n",
        "The pandas package is also great at dealing with many of the issues you will encounter when importing data as a data scientist, such as comments occurring in flat files, empty lines and missing values. Note that missing values are also commonly referred to as NA or NaN. To wrap up this chapter, you're now going to import a slightly corrupted copy of the Titanic dataset titanic_corrupt.txt, which:-\n",
        "<br>\n",
        "\n",
        "contains comments after the character '#'<br>\n",
        "is tab-delimited.\n",
        "\n",
        "```\n",
        "# Import file: data\n",
        "data = pd.read_csv(file, sep='\\t', comment='#', na_values='Nothing')\n",
        "```\n"
      ]
    },
    {
      "cell_type": "markdown",
      "metadata": {
        "id": "hICoi2GlIZaz",
        "colab_type": "text"
      },
      "source": [
        "# Chapter Two: Importing data from other file types\n"
      ]
    },
    {
      "cell_type": "markdown",
      "metadata": {
        "id": "KIHYE6jEaLHP",
        "colab_type": "text"
      },
      "source": [
        "## Introduction to Other File Types:"
      ]
    },
    {
      "cell_type": "markdown",
      "metadata": {
        "id": "lNyMvudPa1Oz",
        "colab_type": "text"
      },
      "source": [
        "This chapter involves learning how to import:\n",
        "1. Excel flies\n",
        "2. MATLAB files\n",
        "3. SAS files\n",
        "4. Stata files\n",
        "5. HDF5 files... _these are becoming a more prevalent way to store large data sets. LIGO researchers used it to store their data._\n",
        "6. Pickled files... _this is a file type native to python. the concept of pickling a file is motivated by the fact that while it may be easy to save a numpy array or a pandas dataframe to a flat flie, there are many other data types such as dictionaries and lists, which isn't so obvious how to store them... Pickle to the rescue!_\n",
        "<br>If we want files to be human-readable it makes sense to save them in a clever manner. **JSON** files are appropriate for python dictionaries.\n",
        "<br>_Pickled files are serialized. This means they're converted into a sequence of bytes or bytestream._ \n",
        "<br>We'd learn how to import Pickled files too."
      ]
    },
    {
      "cell_type": "markdown",
      "metadata": {
        "id": "3l8MtpEzdwdp",
        "colab_type": "text"
      },
      "source": [
        "### Importing excel Sheets\n",
        "\n",
        "```\n",
        "import pandas as pd\n",
        "file = 'urbanpop.xlsx'\n",
        "data = pd.ExcelFile(file)\n",
        "print(data.sheet_names)\n",
        "```\n",
        "The data.sheet_names gives us the names of the sheets in the Excel file. for eaxmple,\n",
        "```\n",
        "['1960-1966', '1967-1974', '1975-2011']\n",
        "```\n",
        "If we want to load any of the above sheets as a pandas data frame, all we need do is either use the sheet name or its'index:\n",
        "```\n",
        "df1 = data.parse('1967-1974') # pass the sheet name as a string\n",
        "df2 = data.parse(0) # Here we pass the index of the sheet name as an Int.\n",
        "```\n",
        "Pandas is clever enough to know if you're telling it the sheet name or the index. \n",
        "<br> We'd also learn how to<br>\n",
        "A. Customize import statetments<br>\n",
        "B. Skip rows<br>\n",
        "C. Import certain columns<br>\n",
        "D. Change column names... _and more_"
      ]
    },
    {
      "cell_type": "markdown",
      "metadata": {
        "id": "AU6zXX5aQCH0",
        "colab_type": "text"
      },
      "source": [
        "### Not so Flat anymore \n",
        "In Chapter 1, you learned how to use the IPython magic command ! ls to explore your current working directory. You can also do this natively in Python using the library os, which consists of miscellaneous operating system interfaces.\n",
        "\n",
        "The first line of the following code imports the library os, the second line stores the name of the current directory in a string called wd and the third outputs the contents of the directory in a list to the shell."
      ]
    },
    {
      "cell_type": "code",
      "metadata": {
        "id": "EyND5naoQcBH",
        "colab_type": "code",
        "colab": {}
      },
      "source": [
        "# lets import the OS module\n",
        "import os"
      ],
      "execution_count": 0,
      "outputs": []
    },
    {
      "cell_type": "code",
      "metadata": {
        "id": "ci1Ro78zJq5M",
        "colab_type": "code",
        "outputId": "1985cb73-5f0f-4e5b-d78d-1a1f585d25e5",
        "colab": {
          "base_uri": "https://localhost:8080/",
          "height": 134
        }
      },
      "source": [
        "# lets save the name of the current working directory to a variable\n",
        "wd = os.getcwd()\n",
        "print(wd)\n",
        "\n",
        "# Finally let's list the files in the current working directory\n",
        "os.listdir(wd)"
      ],
      "execution_count": 0,
      "outputs": [
        {
          "output_type": "stream",
          "text": [
            "/content\n"
          ],
          "name": "stdout"
        },
        {
          "output_type": "execute_result",
          "data": {
            "text/plain": [
              "['.config',\n",
              " 'mnist_kaggle_some_rows.csv',\n",
              " 'moby_dick.txt',\n",
              " 'diabetes.csv',\n",
              " 'raw.githubusercontent.com',\n",
              " 'sample_data']"
            ]
          },
          "metadata": {
            "tags": []
          },
          "execution_count": 29
        }
      ]
    },
    {
      "cell_type": "markdown",
      "metadata": {
        "id": "C_KRXU0DSrO4",
        "colab_type": "text"
      },
      "source": [
        "### Loading a pickled file\n",
        "There are a number of datatypes that cannot be saved easily to flat files, such as lists and dictionaries. If you want your files to be human readable, you may want to save them as text files in a clever manner. JSONs, which you will see in a later chapter, are appropriate for Python dictionaries.\n",
        "\n",
        "However, if you merely want to be able to import them into Python, you can serialize them. All this means is converting the object into a sequence of bytes, or a bytestream.\n",
        "\n",
        "In this exercise, you'll import the pickle package, open a previously pickled data structure from a file and load it.\n",
        "\n",
        "```\n",
        "# Import pickle package\n",
        "import pickle\n",
        "\n",
        "# Open pickle file and load data: d\n",
        "with open('data.pkl', 'rb') as file:\n",
        "    d = pickle.load(file)\n",
        "\n",
        "# Print d\n",
        "print(d)\n",
        "\n",
        "# Print datatype of d\n",
        "print(type(d))\n",
        "```\n"
      ]
    },
    {
      "cell_type": "markdown",
      "metadata": {
        "id": "ASryTLyfY5wd",
        "colab_type": "text"
      },
      "source": [
        "### Listing sheets in Excel files\n",
        "Whether you like it or not, any working data scientist will need to deal with Excel spreadsheets at some point in time. You won't always want to do so in Excel, however!\n",
        "\n",
        "Here, you'll learn how to use pandas to import Excel spreadsheets and how to list the names of the sheets in any loaded .xlsx file.\n",
        "\n",
        "Recall from the video that, given an Excel file imported into a variable `spreadsheet`, you can retrieve a list of the sheet names using the attribute `spreadsheet.sheet_names`. This data contains age-adjusted mortality rates due to war in various countries over several years."
      ]
    },
    {
      "cell_type": "code",
      "metadata": {
        "id": "1UidOu4wSuSZ",
        "colab_type": "code",
        "colab": {}
      },
      "source": [
        "battle_link = 'https://assets.datacamp.com/production/repositories/487/datasets/5e8897e4624f8577ed0d33aeafbe7bd88bfc424b/battledeath.xlsx'"
      ],
      "execution_count": 0,
      "outputs": []
    },
    {
      "cell_type": "markdown",
      "metadata": {
        "id": "BqLlbFFEZxLI",
        "colab_type": "text"
      },
      "source": [
        "Let's load the excel file into an io.excel base file"
      ]
    },
    {
      "cell_type": "code",
      "metadata": {
        "id": "TM4wCjE5ZggH",
        "colab_type": "code",
        "outputId": "036b1d57-6e8a-4606-a008-e4f97b6869b5",
        "colab": {
          "base_uri": "https://localhost:8080/",
          "height": 34
        }
      },
      "source": [
        "xls = pd.ExcelFile(battle_link)\n",
        "type(xls)"
      ],
      "execution_count": 0,
      "outputs": [
        {
          "output_type": "execute_result",
          "data": {
            "text/plain": [
              "pandas.io.excel._base.ExcelFile"
            ]
          },
          "metadata": {
            "tags": []
          },
          "execution_count": 31
        }
      ]
    },
    {
      "cell_type": "code",
      "metadata": {
        "id": "CENjemEXaAyi",
        "colab_type": "code",
        "outputId": "02179cb8-7213-4af5-b131-9e1223462e57",
        "colab": {
          "base_uri": "https://localhost:8080/",
          "height": 34
        }
      },
      "source": [
        "# Let's print the sheet names \n",
        "xls.sheet_names"
      ],
      "execution_count": 0,
      "outputs": [
        {
          "output_type": "execute_result",
          "data": {
            "text/plain": [
              "['2002', '2004']"
            ]
          },
          "metadata": {
            "tags": []
          },
          "execution_count": 32
        }
      ]
    },
    {
      "cell_type": "markdown",
      "metadata": {
        "id": "hecUlfmZan9T",
        "colab_type": "text"
      },
      "source": [
        "### Importing sheets from Excel files\n",
        "In the previous exercises, you saw that the Excel file contains two sheets, '2002' and '2004'. The next step is to import these.\n",
        "\n",
        "In this exercise, you'll learn how to import any given sheet of your loaded .xlsx file as a DataFrame. You'll be able to do so by specifying either the sheet's name or its index."
      ]
    },
    {
      "cell_type": "markdown",
      "metadata": {
        "id": "GqBR7yOPbZ5-",
        "colab_type": "text"
      },
      "source": [
        "First let's load a sheet by its name"
      ]
    },
    {
      "cell_type": "code",
      "metadata": {
        "id": "l5JEmuMaaLEr",
        "colab_type": "code",
        "outputId": "5ddddb7c-c355-42e8-a13a-d0fd782480fb",
        "colab": {
          "base_uri": "https://localhost:8080/",
          "height": 195
        }
      },
      "source": [
        "# Load a sheet into a DataFrame by name: df1\n",
        "df1 = xls.parse('2004')\n",
        "\n",
        "# Print the head of the DataFrame df1\n",
        "df1.head()"
      ],
      "execution_count": 0,
      "outputs": [
        {
          "output_type": "execute_result",
          "data": {
            "text/html": [
              "<div>\n",
              "<style scoped>\n",
              "    .dataframe tbody tr th:only-of-type {\n",
              "        vertical-align: middle;\n",
              "    }\n",
              "\n",
              "    .dataframe tbody tr th {\n",
              "        vertical-align: top;\n",
              "    }\n",
              "\n",
              "    .dataframe thead th {\n",
              "        text-align: right;\n",
              "    }\n",
              "</style>\n",
              "<table border=\"1\" class=\"dataframe\">\n",
              "  <thead>\n",
              "    <tr style=\"text-align: right;\">\n",
              "      <th></th>\n",
              "      <th>War(country)</th>\n",
              "      <th>2004</th>\n",
              "    </tr>\n",
              "  </thead>\n",
              "  <tbody>\n",
              "    <tr>\n",
              "      <th>0</th>\n",
              "      <td>Afghanistan</td>\n",
              "      <td>9.451028</td>\n",
              "    </tr>\n",
              "    <tr>\n",
              "      <th>1</th>\n",
              "      <td>Albania</td>\n",
              "      <td>0.130354</td>\n",
              "    </tr>\n",
              "    <tr>\n",
              "      <th>2</th>\n",
              "      <td>Algeria</td>\n",
              "      <td>3.407277</td>\n",
              "    </tr>\n",
              "    <tr>\n",
              "      <th>3</th>\n",
              "      <td>Andorra</td>\n",
              "      <td>0.000000</td>\n",
              "    </tr>\n",
              "    <tr>\n",
              "      <th>4</th>\n",
              "      <td>Angola</td>\n",
              "      <td>2.597931</td>\n",
              "    </tr>\n",
              "  </tbody>\n",
              "</table>\n",
              "</div>"
            ],
            "text/plain": [
              "  War(country)      2004\n",
              "0  Afghanistan  9.451028\n",
              "1      Albania  0.130354\n",
              "2      Algeria  3.407277\n",
              "3      Andorra  0.000000\n",
              "4       Angola  2.597931"
            ]
          },
          "metadata": {
            "tags": []
          },
          "execution_count": 33
        }
      ]
    },
    {
      "cell_type": "markdown",
      "metadata": {
        "colab_type": "text",
        "id": "qrQoP1ChbmCD"
      },
      "source": [
        "Next let's load a sheet by its index"
      ]
    },
    {
      "cell_type": "code",
      "metadata": {
        "id": "4INEffWdbYgP",
        "colab_type": "code",
        "outputId": "edd23f20-38fc-4fe8-853b-be476ba233c1",
        "colab": {
          "base_uri": "https://localhost:8080/",
          "height": 195
        }
      },
      "source": [
        "# Load a sheet into a DataFrame by index: df2\n",
        "df2 = xls.parse(0)\n",
        "\n",
        "# Print the head of the DataFrame df2\n",
        "df2.head()"
      ],
      "execution_count": 0,
      "outputs": [
        {
          "output_type": "execute_result",
          "data": {
            "text/html": [
              "<div>\n",
              "<style scoped>\n",
              "    .dataframe tbody tr th:only-of-type {\n",
              "        vertical-align: middle;\n",
              "    }\n",
              "\n",
              "    .dataframe tbody tr th {\n",
              "        vertical-align: top;\n",
              "    }\n",
              "\n",
              "    .dataframe thead th {\n",
              "        text-align: right;\n",
              "    }\n",
              "</style>\n",
              "<table border=\"1\" class=\"dataframe\">\n",
              "  <thead>\n",
              "    <tr style=\"text-align: right;\">\n",
              "      <th></th>\n",
              "      <th>War, age-adjusted mortality due to</th>\n",
              "      <th>2002</th>\n",
              "    </tr>\n",
              "  </thead>\n",
              "  <tbody>\n",
              "    <tr>\n",
              "      <th>0</th>\n",
              "      <td>Afghanistan</td>\n",
              "      <td>36.083990</td>\n",
              "    </tr>\n",
              "    <tr>\n",
              "      <th>1</th>\n",
              "      <td>Albania</td>\n",
              "      <td>0.128908</td>\n",
              "    </tr>\n",
              "    <tr>\n",
              "      <th>2</th>\n",
              "      <td>Algeria</td>\n",
              "      <td>18.314120</td>\n",
              "    </tr>\n",
              "    <tr>\n",
              "      <th>3</th>\n",
              "      <td>Andorra</td>\n",
              "      <td>0.000000</td>\n",
              "    </tr>\n",
              "    <tr>\n",
              "      <th>4</th>\n",
              "      <td>Angola</td>\n",
              "      <td>18.964560</td>\n",
              "    </tr>\n",
              "  </tbody>\n",
              "</table>\n",
              "</div>"
            ],
            "text/plain": [
              "  War, age-adjusted mortality due to       2002\n",
              "0                        Afghanistan  36.083990\n",
              "1                            Albania   0.128908\n",
              "2                            Algeria  18.314120\n",
              "3                            Andorra   0.000000\n",
              "4                             Angola  18.964560"
            ]
          },
          "metadata": {
            "tags": []
          },
          "execution_count": 34
        }
      ]
    },
    {
      "cell_type": "markdown",
      "metadata": {
        "id": "asT5SddZcOc7",
        "colab_type": "text"
      },
      "source": [
        "### Customizing your spreadsheet import\n",
        "Here, you'll parse your spreadsheets and use additional arguments to skip rows, rename columns and select only particular columns.\n",
        "\n",
        "As before, you'll use the method parse(). This time, however, you'll add the additional arguments skiprows, names and usecols. These skip rows, name the columns and designate which columns to parse, respectively. All these arguments can be assigned to lists containing the specific row numbers, strings and column numbers, as appropriate."
      ]
    },
    {
      "cell_type": "code",
      "metadata": {
        "id": "yMgiwJ_ubwLo",
        "colab_type": "code",
        "outputId": "193d17a8-5eed-4c86-c5f7-7bde1aa269df",
        "colab": {
          "base_uri": "https://localhost:8080/",
          "height": 195
        }
      },
      "source": [
        "# Parse the first sheet and rename the columns: df1\n",
        "# Note that The values passed to skiprows and names all need to be of type list.\n",
        "df1 = xls.parse(0, skiprows=[1], names=['Country','AAM due to War (2002)'])\n",
        "\n",
        "# Print the head of the DataFrame df1\n",
        "df1.head()"
      ],
      "execution_count": 0,
      "outputs": [
        {
          "output_type": "execute_result",
          "data": {
            "text/html": [
              "<div>\n",
              "<style scoped>\n",
              "    .dataframe tbody tr th:only-of-type {\n",
              "        vertical-align: middle;\n",
              "    }\n",
              "\n",
              "    .dataframe tbody tr th {\n",
              "        vertical-align: top;\n",
              "    }\n",
              "\n",
              "    .dataframe thead th {\n",
              "        text-align: right;\n",
              "    }\n",
              "</style>\n",
              "<table border=\"1\" class=\"dataframe\">\n",
              "  <thead>\n",
              "    <tr style=\"text-align: right;\">\n",
              "      <th></th>\n",
              "      <th>Country</th>\n",
              "      <th>AAM due to War (2002)</th>\n",
              "    </tr>\n",
              "  </thead>\n",
              "  <tbody>\n",
              "    <tr>\n",
              "      <th>0</th>\n",
              "      <td>Albania</td>\n",
              "      <td>0.128908</td>\n",
              "    </tr>\n",
              "    <tr>\n",
              "      <th>1</th>\n",
              "      <td>Algeria</td>\n",
              "      <td>18.314120</td>\n",
              "    </tr>\n",
              "    <tr>\n",
              "      <th>2</th>\n",
              "      <td>Andorra</td>\n",
              "      <td>0.000000</td>\n",
              "    </tr>\n",
              "    <tr>\n",
              "      <th>3</th>\n",
              "      <td>Angola</td>\n",
              "      <td>18.964560</td>\n",
              "    </tr>\n",
              "    <tr>\n",
              "      <th>4</th>\n",
              "      <td>Antigua and Barbuda</td>\n",
              "      <td>0.000000</td>\n",
              "    </tr>\n",
              "  </tbody>\n",
              "</table>\n",
              "</div>"
            ],
            "text/plain": [
              "               Country  AAM due to War (2002)\n",
              "0              Albania               0.128908\n",
              "1              Algeria              18.314120\n",
              "2              Andorra               0.000000\n",
              "3               Angola              18.964560\n",
              "4  Antigua and Barbuda               0.000000"
            ]
          },
          "metadata": {
            "tags": []
          },
          "execution_count": 35
        }
      ]
    },
    {
      "cell_type": "code",
      "metadata": {
        "id": "_kB2RISgd-QC",
        "colab_type": "code",
        "outputId": "12d38ca3-0d1b-477b-a093-490717ad9172",
        "colab": {
          "base_uri": "https://localhost:8080/",
          "height": 195
        }
      },
      "source": [
        "# Parse the first column of the second sheet and rename the column: df2\n",
        "# Note The argument passed to usecols also needs to be of type list.\n",
        "df2 = xls.parse(1, usecols=[0], skiprows=[1], names=['Country'])\n",
        "\n",
        "# Print the head of the DataFrame df2\n",
        "df2.head()"
      ],
      "execution_count": 0,
      "outputs": [
        {
          "output_type": "execute_result",
          "data": {
            "text/html": [
              "<div>\n",
              "<style scoped>\n",
              "    .dataframe tbody tr th:only-of-type {\n",
              "        vertical-align: middle;\n",
              "    }\n",
              "\n",
              "    .dataframe tbody tr th {\n",
              "        vertical-align: top;\n",
              "    }\n",
              "\n",
              "    .dataframe thead th {\n",
              "        text-align: right;\n",
              "    }\n",
              "</style>\n",
              "<table border=\"1\" class=\"dataframe\">\n",
              "  <thead>\n",
              "    <tr style=\"text-align: right;\">\n",
              "      <th></th>\n",
              "      <th>Country</th>\n",
              "    </tr>\n",
              "  </thead>\n",
              "  <tbody>\n",
              "    <tr>\n",
              "      <th>0</th>\n",
              "      <td>Albania</td>\n",
              "    </tr>\n",
              "    <tr>\n",
              "      <th>1</th>\n",
              "      <td>Algeria</td>\n",
              "    </tr>\n",
              "    <tr>\n",
              "      <th>2</th>\n",
              "      <td>Andorra</td>\n",
              "    </tr>\n",
              "    <tr>\n",
              "      <th>3</th>\n",
              "      <td>Angola</td>\n",
              "    </tr>\n",
              "    <tr>\n",
              "      <th>4</th>\n",
              "      <td>Antigua and Barbuda</td>\n",
              "    </tr>\n",
              "  </tbody>\n",
              "</table>\n",
              "</div>"
            ],
            "text/plain": [
              "               Country\n",
              "0              Albania\n",
              "1              Algeria\n",
              "2              Andorra\n",
              "3               Angola\n",
              "4  Antigua and Barbuda"
            ]
          },
          "metadata": {
            "tags": []
          },
          "execution_count": 36
        }
      ]
    },
    {
      "cell_type": "markdown",
      "metadata": {
        "id": "Q_MUixekxaEN",
        "colab_type": "text"
      },
      "source": [
        "### Importing SAS/Stata files using pandas\n",
        "\n",
        "SAS files stand for Statistical Analysis Software<br>\n",
        "STATA is a contraction for for Statistics and Data\n"
      ]
    },
    {
      "cell_type": "markdown",
      "metadata": {
        "id": "agO-MJYOyU2E",
        "colab_type": "text"
      },
      "source": [
        "### Importing SAS files\n",
        "In this exercise, you'll figure out how to import a SAS file as a DataFrame using SAS7BDAT and pandas"
      ]
    },
    {
      "cell_type": "code",
      "metadata": {
        "id": "10Au-mP8d-DR",
        "colab_type": "code",
        "colab": {}
      },
      "source": [
        "# first let's import the SAS file library\n",
        "try:\n",
        "    from sas7bdat import SAS7BDAT\n",
        "except:\n",
        "    ! pip install sas7bdat\n",
        "    import SAS7BDAT"
      ],
      "execution_count": 0,
      "outputs": []
    },
    {
      "cell_type": "markdown",
      "metadata": {
        "id": "VStmov3r4fXx",
        "colab_type": "text"
      },
      "source": [
        "Let's load a SAS file from Data Camp"
      ]
    },
    {
      "cell_type": "code",
      "metadata": {
        "id": "E7tQjxkUd97o",
        "colab_type": "code",
        "outputId": "618c3d3a-7b7c-4b6f-aed3-3cb0cb4df420",
        "colab": {
          "base_uri": "https://localhost:8080/",
          "height": 218
        }
      },
      "source": [
        "! rm sales.sas7bdat\n",
        "! wget 'https://assets.datacamp.com/production/repositories/487/datasets/0300d44b3ac77accc4b9706af86e33037bda6861/sales.sas7bdat'"
      ],
      "execution_count": 0,
      "outputs": [
        {
          "output_type": "stream",
          "text": [
            "rm: cannot remove 'sales.sas7bdat': No such file or directory\n",
            "--2020-05-05 16:34:40--  https://assets.datacamp.com/production/repositories/487/datasets/0300d44b3ac77accc4b9706af86e33037bda6861/sales.sas7bdat\n",
            "Resolving assets.datacamp.com (assets.datacamp.com)... 52.84.125.108, 52.84.125.86, 52.84.125.55, ...\n",
            "Connecting to assets.datacamp.com (assets.datacamp.com)|52.84.125.108|:443... connected.\n",
            "HTTP request sent, awaiting response... 200 OK\n",
            "Length: 5120 (5.0K)\n",
            "Saving to: ‘sales.sas7bdat’\n",
            "\n",
            "sales.sas7bdat      100%[===================>]   5.00K  --.-KB/s    in 0s      \n",
            "\n",
            "2020-05-05 16:34:40 (175 MB/s) - ‘sales.sas7bdat’ saved [5120/5120]\n",
            "\n"
          ],
          "name": "stdout"
        }
      ]
    },
    {
      "cell_type": "markdown",
      "metadata": {
        "id": "kgJg1zkE2-5h",
        "colab_type": "text"
      },
      "source": [
        "We shall use the with() to read in the SAS7BDAT file object and pass it the to_data_frame() func"
      ]
    },
    {
      "cell_type": "code",
      "metadata": {
        "id": "5NPBaywnd9TA",
        "colab_type": "code",
        "colab": {}
      },
      "source": [
        "with SAS7BDAT('sales.sas7bdat') as files:\n",
        "    df_sas = files.to_data_frame()"
      ],
      "execution_count": 0,
      "outputs": []
    },
    {
      "cell_type": "code",
      "metadata": {
        "id": "W6tLv3NN2yt4",
        "colab_type": "code",
        "outputId": "8632e5da-0de6-4635-e812-678225f59e12",
        "colab": {
          "base_uri": "https://localhost:8080/",
          "height": 195
        }
      },
      "source": [
        "df_sas.head()"
      ],
      "execution_count": 0,
      "outputs": [
        {
          "output_type": "execute_result",
          "data": {
            "text/html": [
              "<div>\n",
              "<style scoped>\n",
              "    .dataframe tbody tr th:only-of-type {\n",
              "        vertical-align: middle;\n",
              "    }\n",
              "\n",
              "    .dataframe tbody tr th {\n",
              "        vertical-align: top;\n",
              "    }\n",
              "\n",
              "    .dataframe thead th {\n",
              "        text-align: right;\n",
              "    }\n",
              "</style>\n",
              "<table border=\"1\" class=\"dataframe\">\n",
              "  <thead>\n",
              "    <tr style=\"text-align: right;\">\n",
              "      <th></th>\n",
              "      <th>YEAR</th>\n",
              "      <th>P</th>\n",
              "      <th>S</th>\n",
              "    </tr>\n",
              "  </thead>\n",
              "  <tbody>\n",
              "    <tr>\n",
              "      <th>0</th>\n",
              "      <td>1950.0</td>\n",
              "      <td>12.9</td>\n",
              "      <td>181.899994</td>\n",
              "    </tr>\n",
              "    <tr>\n",
              "      <th>1</th>\n",
              "      <td>1951.0</td>\n",
              "      <td>11.9</td>\n",
              "      <td>245.000000</td>\n",
              "    </tr>\n",
              "    <tr>\n",
              "      <th>2</th>\n",
              "      <td>1952.0</td>\n",
              "      <td>10.7</td>\n",
              "      <td>250.199997</td>\n",
              "    </tr>\n",
              "    <tr>\n",
              "      <th>3</th>\n",
              "      <td>1953.0</td>\n",
              "      <td>11.3</td>\n",
              "      <td>265.899994</td>\n",
              "    </tr>\n",
              "    <tr>\n",
              "      <th>4</th>\n",
              "      <td>1954.0</td>\n",
              "      <td>11.2</td>\n",
              "      <td>248.500000</td>\n",
              "    </tr>\n",
              "  </tbody>\n",
              "</table>\n",
              "</div>"
            ],
            "text/plain": [
              "     YEAR     P           S\n",
              "0  1950.0  12.9  181.899994\n",
              "1  1951.0  11.9  245.000000\n",
              "2  1952.0  10.7  250.199997\n",
              "3  1953.0  11.3  265.899994\n",
              "4  1954.0  11.2  248.500000"
            ]
          },
          "metadata": {
            "tags": []
          },
          "execution_count": 41
        }
      ]
    },
    {
      "cell_type": "markdown",
      "metadata": {
        "id": "Y9jRW5Ai4HSz",
        "colab_type": "text"
      },
      "source": [
        "Lets plot a histogram of the P column"
      ]
    },
    {
      "cell_type": "code",
      "metadata": {
        "id": "bovjDjEG21md",
        "colab_type": "code",
        "outputId": "f20dcaa5-2a26-4240-d10d-58ead55b3090",
        "colab": {
          "base_uri": "https://localhost:8080/",
          "height": 265
        }
      },
      "source": [
        "df_sas.P.hist()\n",
        "plt.ylabel('count')\n",
        "plt.show()"
      ],
      "execution_count": 0,
      "outputs": [
        {
          "output_type": "display_data",
          "data": {
            "image/png": "[encoded data removed]",
            "text/plain": [
              "<Figure size 432x288 with 1 Axes>"
            ]
          },
          "metadata": {
            "tags": [],
            "needs_background": "light"
          }
        }
      ]
    },
    {
      "cell_type": "markdown",
      "metadata": {
        "id": "rOG8-3a24nAy",
        "colab_type": "text"
      },
      "source": [
        "### Using read_stata to import Stata files\n",
        "\n",
        "Let's now load a STATA file from Datacamp"
      ]
    },
    {
      "cell_type": "code",
      "metadata": {
        "id": "KpSdHIHE4vGI",
        "colab_type": "code",
        "outputId": "6225ffbc-a6e6-465e-bdee-c65af0311271",
        "colab": {
          "base_uri": "https://localhost:8080/",
          "height": 218
        }
      },
      "source": [
        "! rm disarea.dta\n",
        "! wget https://assets.datacamp.com/production/repositories/487/datasets/c4129edae533cf2683d8995f6dcdbcf5f41520ba/disarea.dta"
      ],
      "execution_count": 0,
      "outputs": [
        {
          "output_type": "stream",
          "text": [
            "rm: cannot remove 'disarea.dta': No such file or directory\n",
            "--2020-05-05 16:34:44--  https://assets.datacamp.com/production/repositories/487/datasets/c4129edae533cf2683d8995f6dcdbcf5f41520ba/disarea.dta\n",
            "Resolving assets.datacamp.com (assets.datacamp.com)... 99.84.160.78, 99.84.160.128, 99.84.160.35, ...\n",
            "Connecting to assets.datacamp.com (assets.datacamp.com)|99.84.160.78|:443... connected.\n",
            "HTTP request sent, awaiting response... 200 OK\n",
            "Length: 26316 (26K)\n",
            "Saving to: ‘disarea.dta’\n",
            "\n",
            "disarea.dta         100%[===================>]  25.70K  --.-KB/s    in 0.003s  \n",
            "\n",
            "2020-05-05 16:34:44 (9.81 MB/s) - ‘disarea.dta’ saved [26316/26316]\n",
            "\n"
          ],
          "name": "stdout"
        }
      ]
    },
    {
      "cell_type": "code",
      "metadata": {
        "id": "hQ7XlSxI47Rq",
        "colab_type": "code",
        "outputId": "c794c42a-1cd5-42c5-b8c3-d0ba8e38cc65",
        "colab": {
          "base_uri": "https://localhost:8080/",
          "height": 232
        }
      },
      "source": [
        "# we use the pd.read_stata function directly on the file\n",
        "df = pd.read_stata('disarea.dta')\n",
        "df.head()"
      ],
      "execution_count": 0,
      "outputs": [
        {
          "output_type": "execute_result",
          "data": {
            "text/html": [
              "<div>\n",
              "<style scoped>\n",
              "    .dataframe tbody tr th:only-of-type {\n",
              "        vertical-align: middle;\n",
              "    }\n",
              "\n",
              "    .dataframe tbody tr th {\n",
              "        vertical-align: top;\n",
              "    }\n",
              "\n",
              "    .dataframe thead th {\n",
              "        text-align: right;\n",
              "    }\n",
              "</style>\n",
              "<table border=\"1\" class=\"dataframe\">\n",
              "  <thead>\n",
              "    <tr style=\"text-align: right;\">\n",
              "      <th></th>\n",
              "      <th>wbcode</th>\n",
              "      <th>country</th>\n",
              "      <th>disa1</th>\n",
              "      <th>disa2</th>\n",
              "      <th>disa3</th>\n",
              "      <th>disa4</th>\n",
              "      <th>disa5</th>\n",
              "      <th>disa6</th>\n",
              "      <th>disa7</th>\n",
              "      <th>disa8</th>\n",
              "      <th>disa9</th>\n",
              "      <th>disa10</th>\n",
              "      <th>disa11</th>\n",
              "      <th>disa12</th>\n",
              "      <th>disa13</th>\n",
              "      <th>disa14</th>\n",
              "      <th>disa15</th>\n",
              "      <th>disa16</th>\n",
              "      <th>disa17</th>\n",
              "      <th>disa18</th>\n",
              "      <th>disa19</th>\n",
              "      <th>disa20</th>\n",
              "      <th>disa21</th>\n",
              "      <th>disa22</th>\n",
              "      <th>disa23</th>\n",
              "      <th>disa24</th>\n",
              "      <th>disa25</th>\n",
              "    </tr>\n",
              "  </thead>\n",
              "  <tbody>\n",
              "    <tr>\n",
              "      <th>0</th>\n",
              "      <td>AFG</td>\n",
              "      <td>Afghanistan</td>\n",
              "      <td>0.00</td>\n",
              "      <td>0.00</td>\n",
              "      <td>0.76</td>\n",
              "      <td>0.73</td>\n",
              "      <td>0.0</td>\n",
              "      <td>0.00</td>\n",
              "      <td>0.00</td>\n",
              "      <td>0.0</td>\n",
              "      <td>0.00</td>\n",
              "      <td>0.00</td>\n",
              "      <td>0.0</td>\n",
              "      <td>0.0</td>\n",
              "      <td>0.06</td>\n",
              "      <td>0.0</td>\n",
              "      <td>0.00</td>\n",
              "      <td>0.0</td>\n",
              "      <td>0.0</td>\n",
              "      <td>0.0</td>\n",
              "      <td>0.00</td>\n",
              "      <td>0.00</td>\n",
              "      <td>0.0</td>\n",
              "      <td>0.00</td>\n",
              "      <td>0.02</td>\n",
              "      <td>0.00</td>\n",
              "      <td>0.00</td>\n",
              "    </tr>\n",
              "    <tr>\n",
              "      <th>1</th>\n",
              "      <td>AGO</td>\n",
              "      <td>Angola</td>\n",
              "      <td>0.32</td>\n",
              "      <td>0.02</td>\n",
              "      <td>0.56</td>\n",
              "      <td>0.00</td>\n",
              "      <td>0.0</td>\n",
              "      <td>0.00</td>\n",
              "      <td>0.56</td>\n",
              "      <td>0.0</td>\n",
              "      <td>0.00</td>\n",
              "      <td>0.13</td>\n",
              "      <td>0.0</td>\n",
              "      <td>0.0</td>\n",
              "      <td>0.00</td>\n",
              "      <td>0.0</td>\n",
              "      <td>0.06</td>\n",
              "      <td>0.0</td>\n",
              "      <td>0.4</td>\n",
              "      <td>0.0</td>\n",
              "      <td>0.61</td>\n",
              "      <td>0.00</td>\n",
              "      <td>0.0</td>\n",
              "      <td>0.99</td>\n",
              "      <td>0.98</td>\n",
              "      <td>0.61</td>\n",
              "      <td>0.00</td>\n",
              "    </tr>\n",
              "    <tr>\n",
              "      <th>2</th>\n",
              "      <td>ALB</td>\n",
              "      <td>Albania</td>\n",
              "      <td>0.00</td>\n",
              "      <td>0.00</td>\n",
              "      <td>0.02</td>\n",
              "      <td>0.00</td>\n",
              "      <td>0.0</td>\n",
              "      <td>0.00</td>\n",
              "      <td>0.00</td>\n",
              "      <td>0.0</td>\n",
              "      <td>0.00</td>\n",
              "      <td>0.00</td>\n",
              "      <td>0.0</td>\n",
              "      <td>0.0</td>\n",
              "      <td>0.00</td>\n",
              "      <td>0.0</td>\n",
              "      <td>0.99</td>\n",
              "      <td>0.0</td>\n",
              "      <td>0.0</td>\n",
              "      <td>0.0</td>\n",
              "      <td>0.00</td>\n",
              "      <td>0.00</td>\n",
              "      <td>0.0</td>\n",
              "      <td>0.00</td>\n",
              "      <td>0.00</td>\n",
              "      <td>0.00</td>\n",
              "      <td>0.16</td>\n",
              "    </tr>\n",
              "    <tr>\n",
              "      <th>3</th>\n",
              "      <td>ARE</td>\n",
              "      <td>United Arab Emirates</td>\n",
              "      <td>0.00</td>\n",
              "      <td>0.00</td>\n",
              "      <td>0.00</td>\n",
              "      <td>0.00</td>\n",
              "      <td>0.0</td>\n",
              "      <td>0.00</td>\n",
              "      <td>0.00</td>\n",
              "      <td>0.0</td>\n",
              "      <td>0.00</td>\n",
              "      <td>0.00</td>\n",
              "      <td>0.0</td>\n",
              "      <td>0.0</td>\n",
              "      <td>0.00</td>\n",
              "      <td>0.0</td>\n",
              "      <td>0.00</td>\n",
              "      <td>0.0</td>\n",
              "      <td>0.0</td>\n",
              "      <td>0.0</td>\n",
              "      <td>0.00</td>\n",
              "      <td>0.00</td>\n",
              "      <td>0.0</td>\n",
              "      <td>0.00</td>\n",
              "      <td>0.00</td>\n",
              "      <td>0.00</td>\n",
              "      <td>0.00</td>\n",
              "    </tr>\n",
              "    <tr>\n",
              "      <th>4</th>\n",
              "      <td>ARG</td>\n",
              "      <td>Argentina</td>\n",
              "      <td>0.00</td>\n",
              "      <td>0.24</td>\n",
              "      <td>0.24</td>\n",
              "      <td>0.00</td>\n",
              "      <td>0.0</td>\n",
              "      <td>0.23</td>\n",
              "      <td>0.00</td>\n",
              "      <td>0.0</td>\n",
              "      <td>0.19</td>\n",
              "      <td>0.00</td>\n",
              "      <td>0.0</td>\n",
              "      <td>0.0</td>\n",
              "      <td>0.00</td>\n",
              "      <td>0.0</td>\n",
              "      <td>0.23</td>\n",
              "      <td>0.0</td>\n",
              "      <td>0.0</td>\n",
              "      <td>0.0</td>\n",
              "      <td>0.00</td>\n",
              "      <td>0.05</td>\n",
              "      <td>0.0</td>\n",
              "      <td>0.00</td>\n",
              "      <td>0.01</td>\n",
              "      <td>0.00</td>\n",
              "      <td>0.11</td>\n",
              "    </tr>\n",
              "  </tbody>\n",
              "</table>\n",
              "</div>"
            ],
            "text/plain": [
              "  wbcode               country  disa1  disa2  ...  disa22  disa23  disa24  disa25\n",
              "0    AFG           Afghanistan   0.00   0.00  ...    0.00    0.02    0.00    0.00\n",
              "1    AGO                Angola   0.32   0.02  ...    0.99    0.98    0.61    0.00\n",
              "2    ALB               Albania   0.00   0.00  ...    0.00    0.00    0.00    0.16\n",
              "3    ARE  United Arab Emirates   0.00   0.00  ...    0.00    0.00    0.00    0.00\n",
              "4    ARG             Argentina   0.00   0.24  ...    0.00    0.01    0.00    0.11\n",
              "\n",
              "[5 rows x 27 columns]"
            ]
          },
          "metadata": {
            "tags": []
          },
          "execution_count": 44
        }
      ]
    },
    {
      "cell_type": "code",
      "metadata": {
        "id": "E4ifzZH45hdo",
        "colab_type": "code",
        "outputId": "5b9faba0-befe-4653-8a88-243c3a1c9433",
        "colab": {
          "base_uri": "https://localhost:8080/",
          "height": 279
        }
      },
      "source": [
        "# Plot histogram of one column of the DataFrame\n",
        "df.disa10.hist()\n",
        "plt.xlabel('Extent of disease')\n",
        "plt.ylabel('Number of countries')\n",
        "plt.show()"
      ],
      "execution_count": 0,
      "outputs": [
        {
          "output_type": "display_data",
          "data": {
            "image/png": "[encoded data removed]",
            "text/plain": [
              "<Figure size 432x288 with 1 Axes>"
            ]
          },
          "metadata": {
            "tags": [],
            "needs_background": "light"
          }
        }
      ]
    },
    {
      "cell_type": "markdown",
      "metadata": {
        "id": "9VSBQlik6Dvj",
        "colab_type": "text"
      },
      "source": [
        "### Importing HDF5 files into pandas\n",
        "\n",
        "According to the 2013 O'reilly book `Python and HDF5 by Andrew Collette`, in the Python world, concensus is rapidly converging on `Hierarchical Data Format Version 5` AKA `HDF5` as the standard mechanism for storing large quantities of numerical data. It;s now becoming common to deal with data sets hundreds of Gigabytes or Terabytes in size. `HDF5` itself can scale up to **Exabytes** of data."
      ]
    },
    {
      "cell_type": "markdown",
      "metadata": {
        "id": "46gBYES97xjm",
        "colab_type": "text"
      },
      "source": [
        "<h4>What is the structure of HDF5 files?</h4>\n",
        "\n",
        "We can explore its hierarchical structure just like Python dictionaries using the method keys(). \n",
        "```\n",
        "for key in data.keys():\n",
        "    print(key)\n",
        "```\n",
        "This would return the existing keys in the data set. Each of these is an HDF group. They are like directories. \n",
        "<br>Note that the HDF5 project is actively maintained by the HDF Group based in Champaign Illinois and formerly part of the university of Illinois, Urbana Champaign."
      ]
    },
    {
      "cell_type": "markdown",
      "metadata": {
        "id": "HR22wL9f-eMt",
        "colab_type": "text"
      },
      "source": [
        "Let's load the LIGO HDF5 dta set. LIGO stands for `Laser Interferometer Gravitational-Wave Observatory Project`. \n",
        "<br>This project lead to the validation of Einsteins Theory of Gravitational waves."
      ]
    },
    {
      "cell_type": "code",
      "metadata": {
        "id": "qD0_ABHl-n_w",
        "colab_type": "code",
        "outputId": "278df5e8-2fa4-4f87-9c24-688b6c598731",
        "colab": {
          "base_uri": "https://localhost:8080/",
          "height": 218
        }
      },
      "source": [
        "! rm L-L1_LOSC_4_V1-1126259446-32.hdf5\n",
        "! wget https://assets.datacamp.com/production/repositories/487/datasets/ab9107b749b832daada36bfaa718d9a591a0d69c/L-L1_LOSC_4_V1-1126259446-32.hdf5 "
      ],
      "execution_count": 0,
      "outputs": [
        {
          "output_type": "stream",
          "text": [
            "rm: cannot remove 'L-L1_LOSC_4_V1-1126259446-32.hdf5': No such file or directory\n",
            "--2020-05-05 16:34:51--  https://assets.datacamp.com/production/repositories/487/datasets/ab9107b749b832daada36bfaa718d9a591a0d69c/L-L1_LOSC_4_V1-1126259446-32.hdf5\n",
            "Resolving assets.datacamp.com (assets.datacamp.com)... 99.84.251.54, 99.84.251.68, 99.84.251.16, ...\n",
            "Connecting to assets.datacamp.com (assets.datacamp.com)|99.84.251.54|:443... connected.\n",
            "HTTP request sent, awaiting response... 200 OK\n",
            "Length: 994831 (972K)\n",
            "Saving to: ‘L-L1_LOSC_4_V1-1126259446-32.hdf5’\n",
            "\n",
            "L-L1_LOSC_4_V1-1126 100%[===================>] 971.51K  --.-KB/s    in 0.05s   \n",
            "\n",
            "2020-05-05 16:34:51 (18.5 MB/s) - ‘L-L1_LOSC_4_V1-1126259446-32.hdf5’ saved [994831/994831]\n",
            "\n"
          ],
          "name": "stdout"
        }
      ]
    },
    {
      "cell_type": "markdown",
      "metadata": {
        "id": "mDGupBm3BKi3",
        "colab_type": "text"
      },
      "source": [
        "### Using h5py to import HDF5 files\n",
        "The hdf5 file is already in your working directory. In this exercise, you'll import it using the h5py library. You'll also print out its datatype to confirm you have imported it correctly. You'll then study the structure of the file in order to see precisely what HDF groups it contains."
      ]
    },
    {
      "cell_type": "code",
      "metadata": {
        "id": "dcyHvgpD_UiX",
        "colab_type": "code",
        "outputId": "990d4def-4849-4f62-9449-3326e9f75555",
        "colab": {
          "base_uri": "https://localhost:8080/",
          "height": 34
        }
      },
      "source": [
        "try:\n",
        "    import h5py\n",
        "    print('h5py imported')\n",
        "except:\n",
        "    ! pip install h5py\n",
        "    import h5py"
      ],
      "execution_count": 0,
      "outputs": [
        {
          "output_type": "stream",
          "text": [
            "h5py imported\n"
          ],
          "name": "stdout"
        }
      ]
    },
    {
      "cell_type": "code",
      "metadata": {
        "id": "5JeqPExB_UVU",
        "colab_type": "code",
        "colab": {}
      },
      "source": [
        "file_ = 'L-L1_LOSC_4_V1-1126259446-32.hdf5'"
      ],
      "execution_count": 0,
      "outputs": []
    },
    {
      "cell_type": "code",
      "metadata": {
        "id": "Tx-CQ9aZ_USY",
        "colab_type": "code",
        "colab": {}
      },
      "source": [
        "# Let's load the file as read only into the variable data\n",
        "data = h5py.File(file_, 'r')"
      ],
      "execution_count": 0,
      "outputs": []
    },
    {
      "cell_type": "code",
      "metadata": {
        "id": "9JOXlIm2H4I4",
        "colab_type": "code",
        "outputId": "23912748-d6b0-4e58-d41c-414038b1f2f5",
        "colab": {
          "base_uri": "https://localhost:8080/",
          "height": 34
        }
      },
      "source": [
        "# Print the datatype of the loaded file\n",
        "type(data)"
      ],
      "execution_count": 0,
      "outputs": [
        {
          "output_type": "execute_result",
          "data": {
            "text/plain": [
              "h5py._hl.files.File"
            ]
          },
          "metadata": {
            "tags": []
          },
          "execution_count": 50
        }
      ]
    },
    {
      "cell_type": "code",
      "metadata": {
        "id": "tunt2Y7W1bIo",
        "colab_type": "code",
        "outputId": "ca1f184b-7dd9-4057-cfe9-d7ef55335798",
        "colab": {
          "base_uri": "https://localhost:8080/",
          "height": 34
        }
      },
      "source": [
        "# Print the keys of the file\n",
        "data.keys()"
      ],
      "execution_count": 0,
      "outputs": [
        {
          "output_type": "execute_result",
          "data": {
            "text/plain": [
              "<KeysViewHDF5 ['meta', 'quality', 'strain']>"
            ]
          },
          "metadata": {
            "tags": []
          },
          "execution_count": 51
        }
      ]
    },
    {
      "cell_type": "markdown",
      "metadata": {
        "id": "CjtzSXh-1__l",
        "colab_type": "text"
      },
      "source": [
        "### Extracting data from your HDF5 file\n",
        "In this exercise, you'll extract some of the LIGO experiment's actual data from the HDF5 file and you'll visualize it.\n",
        "\n",
        "To do so, you'll need to first explore the HDF5 group 'strain'."
      ]
    },
    {
      "cell_type": "code",
      "metadata": {
        "id": "98sLmDx-2C0f",
        "colab_type": "code",
        "outputId": "cc162689-c3d2-49af-e257-8be63a97e7f4",
        "colab": {
          "base_uri": "https://localhost:8080/",
          "height": 34
        }
      },
      "source": [
        "group_strain = data['strain']\n",
        "\n",
        "for key in group_strain.keys():\n",
        "    print(key)"
      ],
      "execution_count": 0,
      "outputs": [
        {
          "output_type": "stream",
          "text": [
            "Strain\n"
          ],
          "name": "stdout"
        }
      ]
    },
    {
      "cell_type": "code",
      "metadata": {
        "id": "-V40mEbE3uhN",
        "colab_type": "code",
        "outputId": "05cb39fe-0ebe-44a1-e3c0-5e09365c03e4",
        "colab": {
          "base_uri": "https://localhost:8080/",
          "height": 84
        }
      },
      "source": [
        "strain = data['strain']['Strain'].value  # Let's convert the Starin data to a numpy array.\n",
        "strain"
      ],
      "execution_count": 0,
      "outputs": [
        {
          "output_type": "stream",
          "text": [
            "/usr/local/lib/python3.6/dist-packages/ipykernel_launcher.py:1: H5pyDeprecationWarning: dataset.value has been deprecated. Use dataset[()] instead.\n",
            "  \"\"\"Entry point for launching an IPython kernel.\n"
          ],
          "name": "stderr"
        },
        {
          "output_type": "execute_result",
          "data": {
            "text/plain": [
              "array([-1.77955839e-18, -1.76552067e-18, -1.71049117e-18, ...,\n",
              "       -1.76375155e-18, -1.72364846e-18, -1.71969299e-18])"
            ]
          },
          "metadata": {
            "tags": []
          },
          "execution_count": 53
        }
      ]
    },
    {
      "cell_type": "code",
      "metadata": {
        "id": "XdXNLbOp7jJX",
        "colab_type": "code",
        "outputId": "c4aab918-c7a0-4cc3-f256-405e27711556",
        "colab": {
          "base_uri": "https://localhost:8080/",
          "height": 34
        }
      },
      "source": [
        "type(strain)"
      ],
      "execution_count": 0,
      "outputs": [
        {
          "output_type": "execute_result",
          "data": {
            "text/plain": [
              "numpy.ndarray"
            ]
          },
          "metadata": {
            "tags": []
          },
          "execution_count": 54
        }
      ]
    },
    {
      "cell_type": "markdown",
      "metadata": {
        "id": "XaJExKqv7OFR",
        "colab_type": "text"
      },
      "source": [
        "Let's see a data frame of the Strain values"
      ]
    },
    {
      "cell_type": "code",
      "metadata": {
        "id": "3deiBwMv66U2",
        "colab_type": "code",
        "outputId": "1b45596c-f4f2-467c-e3c8-7d115dc265d2",
        "colab": {
          "base_uri": "https://localhost:8080/",
          "height": 195
        }
      },
      "source": [
        "df = pd.DataFrame(strain, columns=['value'])\n",
        "df.head()"
      ],
      "execution_count": 0,
      "outputs": [
        {
          "output_type": "execute_result",
          "data": {
            "text/html": [
              "<div>\n",
              "<style scoped>\n",
              "    .dataframe tbody tr th:only-of-type {\n",
              "        vertical-align: middle;\n",
              "    }\n",
              "\n",
              "    .dataframe tbody tr th {\n",
              "        vertical-align: top;\n",
              "    }\n",
              "\n",
              "    .dataframe thead th {\n",
              "        text-align: right;\n",
              "    }\n",
              "</style>\n",
              "<table border=\"1\" class=\"dataframe\">\n",
              "  <thead>\n",
              "    <tr style=\"text-align: right;\">\n",
              "      <th></th>\n",
              "      <th>value</th>\n",
              "    </tr>\n",
              "  </thead>\n",
              "  <tbody>\n",
              "    <tr>\n",
              "      <th>0</th>\n",
              "      <td>-1.779558e-18</td>\n",
              "    </tr>\n",
              "    <tr>\n",
              "      <th>1</th>\n",
              "      <td>-1.765521e-18</td>\n",
              "    </tr>\n",
              "    <tr>\n",
              "      <th>2</th>\n",
              "      <td>-1.710491e-18</td>\n",
              "    </tr>\n",
              "    <tr>\n",
              "      <th>3</th>\n",
              "      <td>-1.667375e-18</td>\n",
              "    </tr>\n",
              "    <tr>\n",
              "      <th>4</th>\n",
              "      <td>-1.689567e-18</td>\n",
              "    </tr>\n",
              "  </tbody>\n",
              "</table>\n",
              "</div>"
            ],
            "text/plain": [
              "          value\n",
              "0 -1.779558e-18\n",
              "1 -1.765521e-18\n",
              "2 -1.710491e-18\n",
              "3 -1.667375e-18\n",
              "4 -1.689567e-18"
            ]
          },
          "metadata": {
            "tags": []
          },
          "execution_count": 55
        }
      ]
    },
    {
      "cell_type": "markdown",
      "metadata": {
        "id": "iliXbiX37Ybb",
        "colab_type": "text"
      },
      "source": [
        "Plotting the data"
      ]
    },
    {
      "cell_type": "code",
      "metadata": {
        "id": "MxIcjhJd6cCh",
        "colab_type": "code",
        "colab": {}
      },
      "source": [
        "# Set number of time points to sample: num_samples\n",
        "num_samples = 10000\n",
        "\n",
        "# Set time vector\n",
        "time = np.arange(0, 1, 1/num_samples)"
      ],
      "execution_count": 0,
      "outputs": []
    },
    {
      "cell_type": "code",
      "metadata": {
        "id": "UmoDGPN_6SZY",
        "colab_type": "code",
        "outputId": "9ba1186a-93a1-4215-ee49-9addfe62b6cd",
        "colab": {
          "base_uri": "https://localhost:8080/",
          "height": 290
        }
      },
      "source": [
        "# Plot data\n",
        "plt.plot(time, strain[:num_samples])\n",
        "plt.xlabel('GPS Time (s)')\n",
        "plt.ylabel('strain')\n",
        "plt.show()"
      ],
      "execution_count": 0,
      "outputs": [
        {
          "output_type": "display_data",
          "data": {
            "image/png": "[encoded data removed]",
            "text/plain": [
              "<Figure size 432x288 with 1 Axes>"
            ]
          },
          "metadata": {
            "tags": [],
            "needs_background": "light"
          }
        }
      ]
    },
    {
      "cell_type": "markdown",
      "metadata": {
        "id": "PysEX_Zo8HKu",
        "colab_type": "text"
      },
      "source": [
        "### Importing Matlab files\n",
        "\n",
        "Matlab, short for Matrix Laboratory is a numerical computing environment that is an industry standard in the disciplines of engineering and science.\n",
        "\n",
        "**SCIPY to the rescue!!**\n",
        "We import .mat files from matlab into python using Scipy\n",
        "```\n",
        "scipy.io.loadmat()  # read .mat files\n",
        "scipy.io.savemat()  # write .mat files\n",
        "```\n",
        "Another example\n",
        "```\n",
        "import scipy.io\n",
        "file_name = 'workspace.mat'\n",
        "mat = scipy.io.loadmat(filename)\n",
        "print(type(mat))\n",
        "<class 'dict'>\n",
        "\n",
        "# How this dict object relates to a Matlab workspace is straight forward:- \n",
        "The keys of the python dict are the Matlab variable names and the values of the python dict are the objects that are assigned to the variables.\n",
        "```"
      ]
    },
    {
      "cell_type": "markdown",
      "metadata": {
        "id": "ATnyQsyODguk",
        "colab_type": "text"
      },
      "source": [
        "### Loading .mat files\n",
        "In this exercise, you'll figure out how to load a MATLAB file using scipy.io.loadmat() and you'll discover what Python datatype it yields.\n",
        "\n",
        "Download the 'albeck_gene_expression.mat' is in your working directory. This file contains gene expression data from the Albeck Lab at UC Davis. You can find the data and some great documentation here."
      ]
    },
    {
      "cell_type": "markdown",
      "metadata": {
        "id": "XvOUQBC0DBeX",
        "colab_type": "text"
      },
      "source": [
        "Let's download a .mat file from DataCamp home"
      ]
    },
    {
      "cell_type": "code",
      "metadata": {
        "id": "F0d_Tk2K8b4p",
        "colab_type": "code",
        "outputId": "e992b845-d164-462e-fcea-fce710db9dde",
        "colab": {
          "base_uri": "https://localhost:8080/",
          "height": 218
        }
      },
      "source": [
        "! rm ja_data2.mat\n",
        "! wget https://assets.datacamp.com/production/repositories/487/datasets/2fc0beea2d8cc7c93d79e79344a6e9e66f65d1fe/ja_data2.mat"
      ],
      "execution_count": 0,
      "outputs": [
        {
          "output_type": "stream",
          "text": [
            "rm: cannot remove 'ja_data2.mat': No such file or directory\n",
            "--2020-05-05 16:34:56--  https://assets.datacamp.com/production/repositories/487/datasets/2fc0beea2d8cc7c93d79e79344a6e9e66f65d1fe/ja_data2.mat\n",
            "Resolving assets.datacamp.com (assets.datacamp.com)... 52.84.125.108, 52.84.125.86, 52.84.125.55, ...\n",
            "Connecting to assets.datacamp.com (assets.datacamp.com)|52.84.125.108|:443... connected.\n",
            "HTTP request sent, awaiting response... 200 OK\n",
            "Length: 1310845 (1.2M)\n",
            "Saving to: ‘ja_data2.mat’\n",
            "\n",
            "ja_data2.mat        100%[===================>]   1.25M  --.-KB/s    in 0.07s   \n",
            "\n",
            "2020-05-05 16:34:56 (18.1 MB/s) - ‘ja_data2.mat’ saved [1310845/1310845]\n",
            "\n"
          ],
          "name": "stdout"
        }
      ]
    },
    {
      "cell_type": "code",
      "metadata": {
        "id": "v7GrNr9lDxqm",
        "colab_type": "code",
        "colab": {}
      },
      "source": [
        "import scipy.io"
      ],
      "execution_count": 0,
      "outputs": []
    },
    {
      "cell_type": "code",
      "metadata": {
        "id": "MNa3bYKSDxm4",
        "colab_type": "code",
        "colab": {}
      },
      "source": [
        "# let's load the .mat file in\n",
        "mat = scipy.io.loadmat('ja_data2.mat')"
      ],
      "execution_count": 0,
      "outputs": []
    },
    {
      "cell_type": "code",
      "metadata": {
        "id": "MBh5kZ9zDxkj",
        "colab_type": "code",
        "outputId": "45db0c79-3285-4430-a337-0391775d5fa0",
        "colab": {
          "base_uri": "https://localhost:8080/",
          "height": 34
        }
      },
      "source": [
        "# Print the type of mat object\n",
        "print(type(mat))"
      ],
      "execution_count": 0,
      "outputs": [
        {
          "output_type": "stream",
          "text": [
            "<class 'dict'>\n"
          ],
          "name": "stdout"
        }
      ]
    },
    {
      "cell_type": "markdown",
      "metadata": {
        "id": "Z1mk7RVqFhBU",
        "colab_type": "text"
      },
      "source": [
        "### The structure of .mat in Python\n",
        "Here, you'll discover what is in the MATLAB dictionary that you loaded in the previous exercise.\n",
        "\n",
        "The file 'albeck_gene_expression.mat' is already loaded into the variable mat. The following libraries have already been imported as follows:\n",
        "\n",
        "Once again, this file contains gene expression data from the Albeck Lab at UCDavis. You can find the data and some great documentation here."
      ]
    },
    {
      "cell_type": "code",
      "metadata": {
        "id": "m_slNe0MDxgY",
        "colab_type": "code",
        "outputId": "f2a5b8e2-7713-4aaf-a91b-1652cfd5874d",
        "colab": {
          "base_uri": "https://localhost:8080/",
          "height": 185
        }
      },
      "source": [
        "# It's a dictionary so let's see the keys or variable names.\n",
        "\n",
        "for key in mat.keys():\n",
        "    print(key)"
      ],
      "execution_count": 0,
      "outputs": [
        {
          "output_type": "stream",
          "text": [
            "__header__\n",
            "__version__\n",
            "__globals__\n",
            "rfpCyt\n",
            "rfpNuc\n",
            "cfpNuc\n",
            "cfpCyt\n",
            "yfpNuc\n",
            "yfpCyt\n",
            "CYratioCyt\n"
          ],
          "name": "stdout"
        }
      ]
    },
    {
      "cell_type": "code",
      "metadata": {
        "id": "c05tIdz7Dxeb",
        "colab_type": "code",
        "outputId": "bd24e3d9-cf58-460c-e077-ab0e02eb60aa",
        "colab": {
          "base_uri": "https://localhost:8080/",
          "height": 34
        }
      },
      "source": [
        "# Let's see what type of object the CyratioCyt object is\n",
        "print(type(mat['CYratioCyt']))"
      ],
      "execution_count": 0,
      "outputs": [
        {
          "output_type": "stream",
          "text": [
            "<class 'numpy.ndarray'>\n"
          ],
          "name": "stdout"
        }
      ]
    },
    {
      "cell_type": "code",
      "metadata": {
        "id": "OJpYhEpCGcv2",
        "colab_type": "code",
        "outputId": "ea48bc33-4512-47bb-a129-e5c6704061e8",
        "colab": {
          "base_uri": "https://localhost:8080/",
          "height": 34
        }
      },
      "source": [
        "# Since it's a Numpy array, lets see its shape and possibly read it in pandas\n",
        "mat['CYratioCyt'].shape"
      ],
      "execution_count": 0,
      "outputs": [
        {
          "output_type": "execute_result",
          "data": {
            "text/plain": [
              "(200, 137)"
            ]
          },
          "metadata": {
            "tags": []
          },
          "execution_count": 64
        }
      ]
    },
    {
      "cell_type": "code",
      "metadata": {
        "id": "-soRsnk9Gjx5",
        "colab_type": "code",
        "outputId": "d89fafa4-914d-4c41-ac76-22be16bb36ea",
        "colab": {
          "base_uri": "https://localhost:8080/",
          "height": 244
        }
      },
      "source": [
        "Cy_df = pd.DataFrame(mat['CYratioCyt'])\n",
        "Cy_df.head()"
      ],
      "execution_count": 0,
      "outputs": [
        {
          "output_type": "execute_result",
          "data": {
            "text/html": [
              "<div>\n",
              "<style scoped>\n",
              "    .dataframe tbody tr th:only-of-type {\n",
              "        vertical-align: middle;\n",
              "    }\n",
              "\n",
              "    .dataframe tbody tr th {\n",
              "        vertical-align: top;\n",
              "    }\n",
              "\n",
              "    .dataframe thead th {\n",
              "        text-align: right;\n",
              "    }\n",
              "</style>\n",
              "<table border=\"1\" class=\"dataframe\">\n",
              "  <thead>\n",
              "    <tr style=\"text-align: right;\">\n",
              "      <th></th>\n",
              "      <th>0</th>\n",
              "      <th>1</th>\n",
              "      <th>2</th>\n",
              "      <th>3</th>\n",
              "      <th>4</th>\n",
              "      <th>5</th>\n",
              "      <th>6</th>\n",
              "      <th>7</th>\n",
              "      <th>8</th>\n",
              "      <th>9</th>\n",
              "      <th>10</th>\n",
              "      <th>11</th>\n",
              "      <th>12</th>\n",
              "      <th>13</th>\n",
              "      <th>14</th>\n",
              "      <th>15</th>\n",
              "      <th>16</th>\n",
              "      <th>17</th>\n",
              "      <th>18</th>\n",
              "      <th>19</th>\n",
              "      <th>20</th>\n",
              "      <th>21</th>\n",
              "      <th>22</th>\n",
              "      <th>23</th>\n",
              "      <th>24</th>\n",
              "      <th>25</th>\n",
              "      <th>26</th>\n",
              "      <th>27</th>\n",
              "      <th>28</th>\n",
              "      <th>29</th>\n",
              "      <th>30</th>\n",
              "      <th>31</th>\n",
              "      <th>32</th>\n",
              "      <th>33</th>\n",
              "      <th>34</th>\n",
              "      <th>35</th>\n",
              "      <th>36</th>\n",
              "      <th>37</th>\n",
              "      <th>38</th>\n",
              "      <th>39</th>\n",
              "      <th>...</th>\n",
              "      <th>97</th>\n",
              "      <th>98</th>\n",
              "      <th>99</th>\n",
              "      <th>100</th>\n",
              "      <th>101</th>\n",
              "      <th>102</th>\n",
              "      <th>103</th>\n",
              "      <th>104</th>\n",
              "      <th>105</th>\n",
              "      <th>106</th>\n",
              "      <th>107</th>\n",
              "      <th>108</th>\n",
              "      <th>109</th>\n",
              "      <th>110</th>\n",
              "      <th>111</th>\n",
              "      <th>112</th>\n",
              "      <th>113</th>\n",
              "      <th>114</th>\n",
              "      <th>115</th>\n",
              "      <th>116</th>\n",
              "      <th>117</th>\n",
              "      <th>118</th>\n",
              "      <th>119</th>\n",
              "      <th>120</th>\n",
              "      <th>121</th>\n",
              "      <th>122</th>\n",
              "      <th>123</th>\n",
              "      <th>124</th>\n",
              "      <th>125</th>\n",
              "      <th>126</th>\n",
              "      <th>127</th>\n",
              "      <th>128</th>\n",
              "      <th>129</th>\n",
              "      <th>130</th>\n",
              "      <th>131</th>\n",
              "      <th>132</th>\n",
              "      <th>133</th>\n",
              "      <th>134</th>\n",
              "      <th>135</th>\n",
              "      <th>136</th>\n",
              "    </tr>\n",
              "  </thead>\n",
              "  <tbody>\n",
              "    <tr>\n",
              "      <th>0</th>\n",
              "      <td>0.0</td>\n",
              "      <td>1.530715</td>\n",
              "      <td>1.542970</td>\n",
              "      <td>1.543835</td>\n",
              "      <td>1.540612</td>\n",
              "      <td>1.539414</td>\n",
              "      <td>1.539082</td>\n",
              "      <td>1.546358</td>\n",
              "      <td>1.539163</td>\n",
              "      <td>1.538064</td>\n",
              "      <td>1.533514</td>\n",
              "      <td>1.535195</td>\n",
              "      <td>1.538650</td>\n",
              "      <td>1.533588</td>\n",
              "      <td>1.536760</td>\n",
              "      <td>1.534632</td>\n",
              "      <td>1.528644</td>\n",
              "      <td>1.528978</td>\n",
              "      <td>1.528967</td>\n",
              "      <td>1.521200</td>\n",
              "      <td>1.522763</td>\n",
              "      <td>1.529848</td>\n",
              "      <td>1.528085</td>\n",
              "      <td>1.532275</td>\n",
              "      <td>1.527329</td>\n",
              "      <td>1.526166</td>\n",
              "      <td>1.518129</td>\n",
              "      <td>1.523026</td>\n",
              "      <td>1.511491</td>\n",
              "      <td>1.507169</td>\n",
              "      <td>1.511268</td>\n",
              "      <td>1.504137</td>\n",
              "      <td>1.485858</td>\n",
              "      <td>1.252042</td>\n",
              "      <td>1.204481</td>\n",
              "      <td>1.342498</td>\n",
              "      <td>1.425758</td>\n",
              "      <td>1.465310</td>\n",
              "      <td>1.471561</td>\n",
              "      <td>1.488464</td>\n",
              "      <td>...</td>\n",
              "      <td>1.295696</td>\n",
              "      <td>1.306028</td>\n",
              "      <td>1.317568</td>\n",
              "      <td>1.315843</td>\n",
              "      <td>1.314783</td>\n",
              "      <td>1.315167</td>\n",
              "      <td>1.309955</td>\n",
              "      <td>1.308457</td>\n",
              "      <td>1.300091</td>\n",
              "      <td>1.296639</td>\n",
              "      <td>1.293874</td>\n",
              "      <td>1.297416</td>\n",
              "      <td>1.300500</td>\n",
              "      <td>1.310643</td>\n",
              "      <td>1.308980</td>\n",
              "      <td>1.306885</td>\n",
              "      <td>1.296918</td>\n",
              "      <td>1.293604</td>\n",
              "      <td>1.293860</td>\n",
              "      <td>1.284470</td>\n",
              "      <td>1.275110</td>\n",
              "      <td>1.271594</td>\n",
              "      <td>1.227985</td>\n",
              "      <td>1.102513</td>\n",
              "      <td>1.045241</td>\n",
              "      <td>1.047702</td>\n",
              "      <td>1.054769</td>\n",
              "      <td>1.066338</td>\n",
              "      <td>1.092667</td>\n",
              "      <td>1.132249</td>\n",
              "      <td>1.182672</td>\n",
              "      <td>1.227834</td>\n",
              "      <td>1.270177</td>\n",
              "      <td>1.302606</td>\n",
              "      <td>1.326556</td>\n",
              "      <td>1.344318</td>\n",
              "      <td>1.346707</td>\n",
              "      <td>1.349901</td>\n",
              "      <td>1.353300</td>\n",
              "      <td>1.349222</td>\n",
              "    </tr>\n",
              "    <tr>\n",
              "      <th>1</th>\n",
              "      <td>0.0</td>\n",
              "      <td>1.286056</td>\n",
              "      <td>1.293857</td>\n",
              "      <td>1.291514</td>\n",
              "      <td>1.301411</td>\n",
              "      <td>1.293554</td>\n",
              "      <td>1.294566</td>\n",
              "      <td>1.292169</td>\n",
              "      <td>1.294739</td>\n",
              "      <td>1.284011</td>\n",
              "      <td>1.291492</td>\n",
              "      <td>1.272801</td>\n",
              "      <td>1.277248</td>\n",
              "      <td>0.000000</td>\n",
              "      <td>0.000000</td>\n",
              "      <td>1.254792</td>\n",
              "      <td>1.273026</td>\n",
              "      <td>1.280400</td>\n",
              "      <td>1.272759</td>\n",
              "      <td>1.265431</td>\n",
              "      <td>1.262443</td>\n",
              "      <td>1.259495</td>\n",
              "      <td>1.262304</td>\n",
              "      <td>1.248887</td>\n",
              "      <td>1.246410</td>\n",
              "      <td>1.248446</td>\n",
              "      <td>1.239674</td>\n",
              "      <td>1.242063</td>\n",
              "      <td>1.244209</td>\n",
              "      <td>1.264539</td>\n",
              "      <td>1.270134</td>\n",
              "      <td>1.272589</td>\n",
              "      <td>1.236682</td>\n",
              "      <td>1.240196</td>\n",
              "      <td>1.240410</td>\n",
              "      <td>1.239358</td>\n",
              "      <td>1.247394</td>\n",
              "      <td>1.267230</td>\n",
              "      <td>1.264449</td>\n",
              "      <td>1.243326</td>\n",
              "      <td>...</td>\n",
              "      <td>1.282904</td>\n",
              "      <td>1.274848</td>\n",
              "      <td>1.278360</td>\n",
              "      <td>1.291723</td>\n",
              "      <td>1.285830</td>\n",
              "      <td>1.287132</td>\n",
              "      <td>1.285096</td>\n",
              "      <td>1.299681</td>\n",
              "      <td>1.291570</td>\n",
              "      <td>1.285322</td>\n",
              "      <td>1.286846</td>\n",
              "      <td>1.294430</td>\n",
              "      <td>1.292439</td>\n",
              "      <td>1.296801</td>\n",
              "      <td>1.294814</td>\n",
              "      <td>1.300684</td>\n",
              "      <td>1.301237</td>\n",
              "      <td>1.298162</td>\n",
              "      <td>1.291067</td>\n",
              "      <td>1.296663</td>\n",
              "      <td>1.303636</td>\n",
              "      <td>1.295251</td>\n",
              "      <td>1.283958</td>\n",
              "      <td>1.294177</td>\n",
              "      <td>1.305211</td>\n",
              "      <td>1.299002</td>\n",
              "      <td>1.292965</td>\n",
              "      <td>1.296468</td>\n",
              "      <td>1.298347</td>\n",
              "      <td>1.297784</td>\n",
              "      <td>1.297658</td>\n",
              "      <td>1.301694</td>\n",
              "      <td>1.315260</td>\n",
              "      <td>1.302534</td>\n",
              "      <td>1.299958</td>\n",
              "      <td>1.307488</td>\n",
              "      <td>1.301615</td>\n",
              "      <td>1.313073</td>\n",
              "      <td>1.300397</td>\n",
              "      <td>1.305639</td>\n",
              "    </tr>\n",
              "    <tr>\n",
              "      <th>2</th>\n",
              "      <td>0.0</td>\n",
              "      <td>1.327312</td>\n",
              "      <td>1.328846</td>\n",
              "      <td>1.335871</td>\n",
              "      <td>1.330013</td>\n",
              "      <td>1.330874</td>\n",
              "      <td>1.332512</td>\n",
              "      <td>1.324902</td>\n",
              "      <td>1.323474</td>\n",
              "      <td>1.316244</td>\n",
              "      <td>1.314658</td>\n",
              "      <td>1.263178</td>\n",
              "      <td>1.255742</td>\n",
              "      <td>1.254180</td>\n",
              "      <td>1.261845</td>\n",
              "      <td>1.279424</td>\n",
              "      <td>1.297059</td>\n",
              "      <td>1.292452</td>\n",
              "      <td>1.264719</td>\n",
              "      <td>1.237447</td>\n",
              "      <td>1.217798</td>\n",
              "      <td>1.217401</td>\n",
              "      <td>1.214400</td>\n",
              "      <td>1.226454</td>\n",
              "      <td>1.245748</td>\n",
              "      <td>1.258317</td>\n",
              "      <td>1.273642</td>\n",
              "      <td>1.241766</td>\n",
              "      <td>1.229410</td>\n",
              "      <td>1.225850</td>\n",
              "      <td>1.233364</td>\n",
              "      <td>1.227157</td>\n",
              "      <td>1.224394</td>\n",
              "      <td>1.222519</td>\n",
              "      <td>1.231648</td>\n",
              "      <td>1.249536</td>\n",
              "      <td>1.258538</td>\n",
              "      <td>1.252587</td>\n",
              "      <td>1.224598</td>\n",
              "      <td>1.215967</td>\n",
              "      <td>...</td>\n",
              "      <td>1.239364</td>\n",
              "      <td>1.237215</td>\n",
              "      <td>1.239283</td>\n",
              "      <td>1.242485</td>\n",
              "      <td>1.241035</td>\n",
              "      <td>1.252747</td>\n",
              "      <td>1.241792</td>\n",
              "      <td>1.248768</td>\n",
              "      <td>1.236400</td>\n",
              "      <td>1.236406</td>\n",
              "      <td>1.241759</td>\n",
              "      <td>1.246582</td>\n",
              "      <td>1.239272</td>\n",
              "      <td>1.246142</td>\n",
              "      <td>1.239899</td>\n",
              "      <td>1.248251</td>\n",
              "      <td>1.233257</td>\n",
              "      <td>1.237251</td>\n",
              "      <td>1.234774</td>\n",
              "      <td>1.239687</td>\n",
              "      <td>1.240533</td>\n",
              "      <td>1.233892</td>\n",
              "      <td>1.234107</td>\n",
              "      <td>1.231738</td>\n",
              "      <td>1.235609</td>\n",
              "      <td>1.231596</td>\n",
              "      <td>1.223083</td>\n",
              "      <td>1.231286</td>\n",
              "      <td>1.236963</td>\n",
              "      <td>1.233777</td>\n",
              "      <td>1.236642</td>\n",
              "      <td>1.233099</td>\n",
              "      <td>1.242091</td>\n",
              "      <td>1.239804</td>\n",
              "      <td>1.236164</td>\n",
              "      <td>1.242267</td>\n",
              "      <td>1.239264</td>\n",
              "      <td>1.248876</td>\n",
              "      <td>1.245062</td>\n",
              "      <td>1.258258</td>\n",
              "    </tr>\n",
              "    <tr>\n",
              "      <th>3</th>\n",
              "      <td>0.0</td>\n",
              "      <td>1.289753</td>\n",
              "      <td>1.310276</td>\n",
              "      <td>1.304953</td>\n",
              "      <td>1.301973</td>\n",
              "      <td>1.299540</td>\n",
              "      <td>1.296687</td>\n",
              "      <td>1.294289</td>\n",
              "      <td>1.285355</td>\n",
              "      <td>1.271334</td>\n",
              "      <td>1.250825</td>\n",
              "      <td>1.092466</td>\n",
              "      <td>1.074704</td>\n",
              "      <td>1.049950</td>\n",
              "      <td>1.068769</td>\n",
              "      <td>1.220948</td>\n",
              "      <td>1.302905</td>\n",
              "      <td>1.311002</td>\n",
              "      <td>1.246450</td>\n",
              "      <td>1.183147</td>\n",
              "      <td>1.044561</td>\n",
              "      <td>1.059834</td>\n",
              "      <td>1.060754</td>\n",
              "      <td>1.060654</td>\n",
              "      <td>1.125482</td>\n",
              "      <td>1.223406</td>\n",
              "      <td>1.273523</td>\n",
              "      <td>1.146819</td>\n",
              "      <td>1.059513</td>\n",
              "      <td>1.051933</td>\n",
              "      <td>1.041295</td>\n",
              "      <td>1.056479</td>\n",
              "      <td>1.062334</td>\n",
              "      <td>1.066950</td>\n",
              "      <td>1.097881</td>\n",
              "      <td>1.214639</td>\n",
              "      <td>1.267342</td>\n",
              "      <td>1.277193</td>\n",
              "      <td>1.084718</td>\n",
              "      <td>1.051737</td>\n",
              "      <td>...</td>\n",
              "      <td>0.953002</td>\n",
              "      <td>0.939424</td>\n",
              "      <td>0.944679</td>\n",
              "      <td>0.986941</td>\n",
              "      <td>0.998724</td>\n",
              "      <td>0.966442</td>\n",
              "      <td>0.941939</td>\n",
              "      <td>0.931763</td>\n",
              "      <td>0.969185</td>\n",
              "      <td>0.988218</td>\n",
              "      <td>0.969970</td>\n",
              "      <td>0.929999</td>\n",
              "      <td>0.935493</td>\n",
              "      <td>0.947520</td>\n",
              "      <td>0.960308</td>\n",
              "      <td>0.966401</td>\n",
              "      <td>0.940491</td>\n",
              "      <td>0.926372</td>\n",
              "      <td>0.930031</td>\n",
              "      <td>0.949692</td>\n",
              "      <td>0.951700</td>\n",
              "      <td>0.961522</td>\n",
              "      <td>0.926401</td>\n",
              "      <td>0.920598</td>\n",
              "      <td>0.930784</td>\n",
              "      <td>0.941701</td>\n",
              "      <td>0.965199</td>\n",
              "      <td>0.927106</td>\n",
              "      <td>0.917138</td>\n",
              "      <td>0.917168</td>\n",
              "      <td>0.950915</td>\n",
              "      <td>0.978052</td>\n",
              "      <td>0.980964</td>\n",
              "      <td>0.926710</td>\n",
              "      <td>0.927700</td>\n",
              "      <td>0.938188</td>\n",
              "      <td>0.977979</td>\n",
              "      <td>0.994292</td>\n",
              "      <td>0.966389</td>\n",
              "      <td>0.931045</td>\n",
              "    </tr>\n",
              "    <tr>\n",
              "      <th>4</th>\n",
              "      <td>0.0</td>\n",
              "      <td>1.403470</td>\n",
              "      <td>1.406892</td>\n",
              "      <td>1.410363</td>\n",
              "      <td>1.396433</td>\n",
              "      <td>1.397918</td>\n",
              "      <td>1.394087</td>\n",
              "      <td>1.388421</td>\n",
              "      <td>1.385351</td>\n",
              "      <td>1.373177</td>\n",
              "      <td>1.370967</td>\n",
              "      <td>1.312493</td>\n",
              "      <td>1.165230</td>\n",
              "      <td>1.094706</td>\n",
              "      <td>1.077751</td>\n",
              "      <td>1.092196</td>\n",
              "      <td>1.272698</td>\n",
              "      <td>1.389888</td>\n",
              "      <td>1.427614</td>\n",
              "      <td>1.240387</td>\n",
              "      <td>1.132880</td>\n",
              "      <td>1.139047</td>\n",
              "      <td>1.082376</td>\n",
              "      <td>1.118377</td>\n",
              "      <td>1.233729</td>\n",
              "      <td>1.305615</td>\n",
              "      <td>1.265499</td>\n",
              "      <td>1.188453</td>\n",
              "      <td>1.164155</td>\n",
              "      <td>1.085095</td>\n",
              "      <td>1.108729</td>\n",
              "      <td>1.230372</td>\n",
              "      <td>1.344869</td>\n",
              "      <td>1.268270</td>\n",
              "      <td>1.147487</td>\n",
              "      <td>1.069946</td>\n",
              "      <td>1.075708</td>\n",
              "      <td>1.092741</td>\n",
              "      <td>1.232061</td>\n",
              "      <td>1.340223</td>\n",
              "      <td>...</td>\n",
              "      <td>1.145667</td>\n",
              "      <td>1.139234</td>\n",
              "      <td>1.073853</td>\n",
              "      <td>1.077087</td>\n",
              "      <td>1.123339</td>\n",
              "      <td>1.134253</td>\n",
              "      <td>1.079605</td>\n",
              "      <td>1.067891</td>\n",
              "      <td>1.112085</td>\n",
              "      <td>1.125024</td>\n",
              "      <td>1.087397</td>\n",
              "      <td>1.074220</td>\n",
              "      <td>1.103883</td>\n",
              "      <td>1.116754</td>\n",
              "      <td>1.078456</td>\n",
              "      <td>1.076700</td>\n",
              "      <td>1.105191</td>\n",
              "      <td>1.100640</td>\n",
              "      <td>1.070529</td>\n",
              "      <td>1.078723</td>\n",
              "      <td>1.098109</td>\n",
              "      <td>1.095191</td>\n",
              "      <td>1.078545</td>\n",
              "      <td>1.080218</td>\n",
              "      <td>1.083076</td>\n",
              "      <td>1.094594</td>\n",
              "      <td>1.096252</td>\n",
              "      <td>1.089559</td>\n",
              "      <td>1.090279</td>\n",
              "      <td>1.094243</td>\n",
              "      <td>1.088814</td>\n",
              "      <td>1.091509</td>\n",
              "      <td>1.086506</td>\n",
              "      <td>1.094067</td>\n",
              "      <td>1.095045</td>\n",
              "      <td>1.101930</td>\n",
              "      <td>1.100378</td>\n",
              "      <td>1.094534</td>\n",
              "      <td>1.089303</td>\n",
              "      <td>1.086006</td>\n",
              "    </tr>\n",
              "  </tbody>\n",
              "</table>\n",
              "<p>5 rows × 137 columns</p>\n",
              "</div>"
            ],
            "text/plain": [
              "   0         1         2         3    ...       133       134       135       136\n",
              "0  0.0  1.530715  1.542970  1.543835  ...  1.346707  1.349901  1.353300  1.349222\n",
              "1  0.0  1.286056  1.293857  1.291514  ...  1.301615  1.313073  1.300397  1.305639\n",
              "2  0.0  1.327312  1.328846  1.335871  ...  1.239264  1.248876  1.245062  1.258258\n",
              "3  0.0  1.289753  1.310276  1.304953  ...  0.977979  0.994292  0.966389  0.931045\n",
              "4  0.0  1.403470  1.406892  1.410363  ...  1.100378  1.094534  1.089303  1.086006\n",
              "\n",
              "[5 rows x 137 columns]"
            ]
          },
          "metadata": {
            "tags": []
          },
          "execution_count": 65
        }
      ]
    },
    {
      "cell_type": "markdown",
      "metadata": {
        "id": "Dz2ocp5GHOTJ",
        "colab_type": "text"
      },
      "source": [
        "### Subset the array and plot it\n",
        "\n"
      ]
    },
    {
      "cell_type": "code",
      "metadata": {
        "id": "YONjaSA0HVXw",
        "colab_type": "code",
        "outputId": "74432ffb-f3bb-4f81-e707-8a837bedad12",
        "colab": {
          "base_uri": "https://localhost:8080/",
          "height": 294
        }
      },
      "source": [
        "data = mat['CYratioCyt'][25, 5:]\n",
        "fig = plt.figure()\n",
        "plt.plot(data)\n",
        "plt.xlabel('time (min.)')\n",
        "plt.ylabel('normalized fluorescence (measure of expression)')\n",
        "plt.show()"
      ],
      "execution_count": 0,
      "outputs": [
        {
          "output_type": "display_data",
          "data": {
            "image/png": "[encoded data removed]",
            "text/plain": [
              "<Figure size 432x288 with 1 Axes>"
            ]
          },
          "metadata": {
            "tags": [],
            "needs_background": "light"
          }
        }
      ]
    },
    {
      "cell_type": "markdown",
      "metadata": {
        "id": "sl2JgblCIqqr",
        "colab_type": "text"
      },
      "source": [
        "# Chapter Three: Working with relational databases in Python"
      ]
    },
    {
      "cell_type": "code",
      "metadata": {
        "id": "SXQjatCuS61Z",
        "colab_type": "code",
        "colab": {}
      },
      "source": [
        "import numpy as np\n",
        "import pandas as pd\n",
        "import matplotlib.pyplot as plt"
      ],
      "execution_count": 0,
      "outputs": []
    },
    {
      "cell_type": "markdown",
      "metadata": {
        "id": "odoolaALJIE8",
        "colab_type": "text"
      },
      "source": [
        "### What is a relational database?\n",
        "\n",
        "It's a type of data base that's based on the relational model of data, first described by `Ted Codd` in the late 1960s. A data base consists of tables. A table generally represents one entity type.\n",
        "<br>A table does look like a data frame and that's the point. In a relational data base table, each row or record represents an instance of the entity type, each column represents an attribute of each instance. In this sense,  a table is entirely analogous to a Data Frame.\n",
        "<br>It's essential that each row has a Unique identifier known as a primary key, to access the row in case. \n",
        "<br>Recall that a database consists of many tables, the really cool thing about a relational DB is not just the bunch of tables, but the fact that the tables are linked. The relational model has been widely adopted.\n",
        "<br>`Codds' 12 Rules` also known as `Codds 12 commandments`which he developed in the early 1980s' describe what a relational DBMS should adhere to eb considered relational. His rules are actually 13, but it's zero indexed so first rule is index zero.\n",
        "<br>Amongst the most popular RDBMS are `PostgreSQL`, `MySQL` and `SQLite`, all of which use the SQL query language.  "
      ]
    },
    {
      "cell_type": "markdown",
      "metadata": {
        "id": "VW_ceUo3OhJ9",
        "colab_type": "text"
      },
      "source": [
        "Creating a database engine\n",
        "Here, you're going to fire up your very first SQL engine. You'll create an engine to connect to the SQLite database 'Chinook.sqlite', which is in your working directory. Remember that to create an engine to connect to 'Northwind.sqlite', Hugo executed the command\n",
        "\n",
        "engine = create_engine('sqlite:///Northwind.sqlite')\n",
        "Here, 'sqlite:///Northwind.sqlite' is called the connection string to the SQLite database Northwind.sqlite. A little bit of background on the Chinook database: the Chinook database contains information about a semi-fictional digital media store in which media data is real and customer, employee and sales data has been manually created."
      ]
    },
    {
      "cell_type": "markdown",
      "metadata": {
        "id": "aoTeZ1gOWqFz",
        "colab_type": "text"
      },
      "source": [
        "The term 'Querying' is just a fancy way of saying, getting data out from te database."
      ]
    },
    {
      "cell_type": "code",
      "metadata": {
        "id": "c1tHv7BaPGXg",
        "colab_type": "code",
        "outputId": "f978af70-87fd-4e90-bae8-603138c49b28",
        "colab": {
          "base_uri": "https://localhost:8080/",
          "height": 218
        }
      },
      "source": [
        "! rm Chinook.sqlite\n",
        "! wget https://assets.datacamp.com/production/repositories/487/datasets/ec8aa8bc9ffea6b4e2729e1a0a2d4aea2f300b3a/Chinook.sqlite"
      ],
      "execution_count": 0,
      "outputs": [
        {
          "output_type": "stream",
          "text": [
            "rm: cannot remove 'Chinook.sqlite': No such file or directory\n",
            "--2020-05-06 00:04:29--  https://assets.datacamp.com/production/repositories/487/datasets/ec8aa8bc9ffea6b4e2729e1a0a2d4aea2f300b3a/Chinook.sqlite\n",
            "Resolving assets.datacamp.com (assets.datacamp.com)... 54.239.180.64, 54.239.180.69, 54.239.180.125, ...\n",
            "Connecting to assets.datacamp.com (assets.datacamp.com)|54.239.180.64|:443... connected.\n",
            "HTTP request sent, awaiting response... 200 OK\n",
            "Length: 1091584 (1.0M)\n",
            "Saving to: ‘Chinook.sqlite’\n",
            "\n",
            "Chinook.sqlite      100%[===================>]   1.04M  --.-KB/s    in 0.07s   \n",
            "\n",
            "2020-05-06 00:04:29 (16.0 MB/s) - ‘Chinook.sqlite’ saved [1091584/1091584]\n",
            "\n"
          ],
          "name": "stdout"
        }
      ]
    },
    {
      "cell_type": "code",
      "metadata": {
        "id": "jxp2La7RPlrd",
        "colab_type": "code",
        "colab": {}
      },
      "source": [
        "# Import necessary module\n",
        "from sqlalchemy import create_engine"
      ],
      "execution_count": 0,
      "outputs": []
    },
    {
      "cell_type": "code",
      "metadata": {
        "id": "9No21uXPQd6-",
        "colab_type": "code",
        "colab": {}
      },
      "source": [
        "# Create engine: engine\n",
        "engine = create_engine('sqlite:///Chinook.sqlite')"
      ],
      "execution_count": 0,
      "outputs": []
    },
    {
      "cell_type": "markdown",
      "metadata": {
        "id": "53tAXnAwQzxp",
        "colab_type": "text"
      },
      "source": [
        "What are the tables in the database?\n",
        "save the table names to a list using the method table_names() on the engine and then you will print the list."
      ]
    },
    {
      "cell_type": "code",
      "metadata": {
        "id": "zK1jiXBwWGie",
        "colab_type": "code",
        "outputId": "8588c6e0-d484-4735-fb18-b7246edb1577",
        "colab": {
          "base_uri": "https://localhost:8080/",
          "height": 202
        }
      },
      "source": [
        "table_names = engine.table_names()\n",
        "table_names"
      ],
      "execution_count": 0,
      "outputs": [
        {
          "output_type": "execute_result",
          "data": {
            "text/plain": [
              "['Album',\n",
              " 'Artist',\n",
              " 'Customer',\n",
              " 'Employee',\n",
              " 'Genre',\n",
              " 'Invoice',\n",
              " 'InvoiceLine',\n",
              " 'MediaType',\n",
              " 'Playlist',\n",
              " 'PlaylistTrack',\n",
              " 'Track']"
            ]
          },
          "metadata": {
            "tags": []
          },
          "execution_count": 6
        }
      ]
    },
    {
      "cell_type": "markdown",
      "metadata": {
        "id": "S5nhXI5IXq2j",
        "colab_type": "text"
      },
      "source": [
        "Now to read data from the Chinnok Database we downloaded with wget, we need the following\n",
        "1. To instantiate a create_engine_object() which we have done \n",
        "2. A connection object to the engine object\n",
        "3. A connection execute object to pass the sql query to the connection object \n",
        "4. pandas to store the retrieved data as a data frame\n",
        "5. Close the connection\n",
        "\n",
        "See an example of the steps below:\n",
        "```\n",
        "from sqlalchemy import create engine\n",
        "\n",
        "engine = create_engine('sqlite:///Chinook.sqlite')  \n",
        "con = engine.connect()\n",
        "rs = con.execute('select * from Album')\n",
        "df = pd.DataFrame(rs.fetchall())\n",
        "df.columns = rs.keys() # To set column names to the header in the table\n",
        "con.close()\n",
        "```"
      ]
    },
    {
      "cell_type": "markdown",
      "metadata": {
        "id": "B4n-uIzEuwBu",
        "colab_type": "text"
      },
      "source": [
        "Let's do so in code"
      ]
    },
    {
      "cell_type": "code",
      "metadata": {
        "id": "kxq04ifZuxnJ",
        "colab_type": "code",
        "outputId": "4d3443b0-3e81-4742-a4e2-2753e5407327",
        "colab": {
          "base_uri": "https://localhost:8080/",
          "height": 195
        }
      },
      "source": [
        "# Open engine connection: con\n",
        "con = engine.connect()\n",
        "\n",
        "# Perform query: rs\n",
        "rs = con.execute(\"select * from Album\")\n",
        "\n",
        "# Save results of the query to DataFrame: df\n",
        "album_df = pd.DataFrame(rs.fetchall())\n",
        "\n",
        "# Close connection\n",
        "con.close()\n",
        "\n",
        "# Print head of DataFrame df\n",
        "album_df.head()"
      ],
      "execution_count": 0,
      "outputs": [
        {
          "output_type": "execute_result",
          "data": {
            "text/html": [
              "<div>\n",
              "<style scoped>\n",
              "    .dataframe tbody tr th:only-of-type {\n",
              "        vertical-align: middle;\n",
              "    }\n",
              "\n",
              "    .dataframe tbody tr th {\n",
              "        vertical-align: top;\n",
              "    }\n",
              "\n",
              "    .dataframe thead th {\n",
              "        text-align: right;\n",
              "    }\n",
              "</style>\n",
              "<table border=\"1\" class=\"dataframe\">\n",
              "  <thead>\n",
              "    <tr style=\"text-align: right;\">\n",
              "      <th></th>\n",
              "      <th>0</th>\n",
              "      <th>1</th>\n",
              "      <th>2</th>\n",
              "    </tr>\n",
              "  </thead>\n",
              "  <tbody>\n",
              "    <tr>\n",
              "      <th>0</th>\n",
              "      <td>1</td>\n",
              "      <td>For Those About To Rock We Salute You</td>\n",
              "      <td>1</td>\n",
              "    </tr>\n",
              "    <tr>\n",
              "      <th>1</th>\n",
              "      <td>2</td>\n",
              "      <td>Balls to the Wall</td>\n",
              "      <td>2</td>\n",
              "    </tr>\n",
              "    <tr>\n",
              "      <th>2</th>\n",
              "      <td>3</td>\n",
              "      <td>Restless and Wild</td>\n",
              "      <td>2</td>\n",
              "    </tr>\n",
              "    <tr>\n",
              "      <th>3</th>\n",
              "      <td>4</td>\n",
              "      <td>Let There Be Rock</td>\n",
              "      <td>1</td>\n",
              "    </tr>\n",
              "    <tr>\n",
              "      <th>4</th>\n",
              "      <td>5</td>\n",
              "      <td>Big Ones</td>\n",
              "      <td>3</td>\n",
              "    </tr>\n",
              "  </tbody>\n",
              "</table>\n",
              "</div>"
            ],
            "text/plain": [
              "   0                                      1  2\n",
              "0  1  For Those About To Rock We Salute You  1\n",
              "1  2                      Balls to the Wall  2\n",
              "2  3                      Restless and Wild  2\n",
              "3  4                      Let There Be Rock  1\n",
              "4  5                               Big Ones  3"
            ]
          },
          "metadata": {
            "tags": []
          },
          "execution_count": 7
        }
      ]
    },
    {
      "cell_type": "markdown",
      "metadata": {
        "id": "5tpxtSQ8w6D7",
        "colab_type": "text"
      },
      "source": [
        "It looks okay, but the column names dont seem right. Let's set it to the headers in the table"
      ]
    },
    {
      "cell_type": "code",
      "metadata": {
        "id": "2Cc0r1rnxKSq",
        "colab_type": "code",
        "outputId": "a987acd6-8fb2-42fc-f00b-3ec213bbb81a",
        "colab": {
          "base_uri": "https://localhost:8080/",
          "height": 195
        }
      },
      "source": [
        "# Open engine connection: con\n",
        "con = engine.connect()\n",
        "\n",
        "# Perform query: rs\n",
        "rs = con.execute(\"select * from Album\")\n",
        "\n",
        "# Save results of the query to DataFrame: df\n",
        "album_df = pd.DataFrame(rs.fetchall())\n",
        "\n",
        "# set column names\n",
        "album_df.columns = rs.keys()\n",
        "\n",
        "# Close connection\n",
        "con.close()\n",
        "\n",
        "# Print head of DataFrame df\n",
        "album_df.head()"
      ],
      "execution_count": 0,
      "outputs": [
        {
          "output_type": "execute_result",
          "data": {
            "text/html": [
              "<div>\n",
              "<style scoped>\n",
              "    .dataframe tbody tr th:only-of-type {\n",
              "        vertical-align: middle;\n",
              "    }\n",
              "\n",
              "    .dataframe tbody tr th {\n",
              "        vertical-align: top;\n",
              "    }\n",
              "\n",
              "    .dataframe thead th {\n",
              "        text-align: right;\n",
              "    }\n",
              "</style>\n",
              "<table border=\"1\" class=\"dataframe\">\n",
              "  <thead>\n",
              "    <tr style=\"text-align: right;\">\n",
              "      <th></th>\n",
              "      <th>AlbumId</th>\n",
              "      <th>Title</th>\n",
              "      <th>ArtistId</th>\n",
              "    </tr>\n",
              "  </thead>\n",
              "  <tbody>\n",
              "    <tr>\n",
              "      <th>0</th>\n",
              "      <td>1</td>\n",
              "      <td>For Those About To Rock We Salute You</td>\n",
              "      <td>1</td>\n",
              "    </tr>\n",
              "    <tr>\n",
              "      <th>1</th>\n",
              "      <td>2</td>\n",
              "      <td>Balls to the Wall</td>\n",
              "      <td>2</td>\n",
              "    </tr>\n",
              "    <tr>\n",
              "      <th>2</th>\n",
              "      <td>3</td>\n",
              "      <td>Restless and Wild</td>\n",
              "      <td>2</td>\n",
              "    </tr>\n",
              "    <tr>\n",
              "      <th>3</th>\n",
              "      <td>4</td>\n",
              "      <td>Let There Be Rock</td>\n",
              "      <td>1</td>\n",
              "    </tr>\n",
              "    <tr>\n",
              "      <th>4</th>\n",
              "      <td>5</td>\n",
              "      <td>Big Ones</td>\n",
              "      <td>3</td>\n",
              "    </tr>\n",
              "  </tbody>\n",
              "</table>\n",
              "</div>"
            ],
            "text/plain": [
              "   AlbumId                                  Title  ArtistId\n",
              "0        1  For Those About To Rock We Salute You         1\n",
              "1        2                      Balls to the Wall         2\n",
              "2        3                      Restless and Wild         2\n",
              "3        4                      Let There Be Rock         1\n",
              "4        5                               Big Ones         3"
            ]
          },
          "metadata": {
            "tags": []
          },
          "execution_count": 8
        }
      ]
    },
    {
      "cell_type": "markdown",
      "metadata": {
        "id": "4Aylr9R2x46S",
        "colab_type": "text"
      },
      "source": [
        "Perfect!!"
      ]
    },
    {
      "cell_type": "markdown",
      "metadata": {
        "id": "xf0xPJ3SvDih",
        "colab_type": "text"
      },
      "source": [
        "### Customizing the Hello World of SQL Queries\n",
        "Congratulations on executing your first SQL query! Now you're going to figure out how to customize your query in order to:\n",
        "\n",
        "Select specified columns from a table;<br>\n",
        "Select a specified number of rows;<br>\n",
        "Import column names from the database table.\n",
        "\n",
        "The code looks like this\n",
        "```\n",
        "engine = create_engine('sqlite:///Northwind.sqlite')\n",
        "\n",
        "with engine.connect() as con:\n",
        "    rs = con.execute(\"SELECT OrderID, OrderDate, ShipName FROM Orders\")\n",
        "    df = pd.DataFrame(rs.fetchmany(size=5))  # we use fetchmany to select num of rows\n",
        "    df.columns = rs.keys()\n",
        "```\n"
      ]
    },
    {
      "cell_type": "markdown",
      "metadata": {
        "id": "JNFlH5FOy7cd",
        "colab_type": "text"
      },
      "source": [
        "Let's see the Employee table column names so we can select a few of them"
      ]
    },
    {
      "cell_type": "code",
      "metadata": {
        "id": "Ywz3DGKvvQ8C",
        "colab_type": "code",
        "outputId": "edc87f70-d2ee-4be9-e70e-2e9dd31e4176",
        "colab": {
          "base_uri": "https://localhost:8080/",
          "height": 34
        }
      },
      "source": [
        "# Establish a connection to the sqlite engine\n",
        "con = engine.connect()\n",
        "\n",
        "# Execute an sql query ad save the result in rs\n",
        "rs = con.execute('Select * from Employee')\n",
        "\n",
        "# Print the keys\n",
        "print(rs.keys())"
      ],
      "execution_count": 0,
      "outputs": [
        {
          "output_type": "stream",
          "text": [
            "['EmployeeId', 'LastName', 'FirstName', 'Title', 'ReportsTo', 'BirthDate', 'HireDate', 'Address', 'City', 'State', 'Country', 'PostalCode', 'Phone', 'Fax', 'Email']\n"
          ],
          "name": "stdout"
        }
      ]
    },
    {
      "cell_type": "markdown",
      "metadata": {
        "id": "aCuiNf0R0FDJ",
        "colab_type": "text"
      },
      "source": [
        "Now Execute the SQL query that selects the columns FirstName, LastName and Title from the Employee table. Store the results in the variable rs."
      ]
    },
    {
      "cell_type": "code",
      "metadata": {
        "id": "Ait0byjl0RPN",
        "colab_type": "code",
        "outputId": "f8da97cc-b12e-4e48-d077-6c3b9fb9b4f2",
        "colab": {
          "base_uri": "https://localhost:8080/",
          "height": 195
        }
      },
      "source": [
        "with engine.connect() as con:\n",
        "    rs = con.execute(\"select FirstName, LastName, Title from Employee\")\n",
        "    employee_df = pd.DataFrame(rs.fetchmany(5), columns=rs.keys()) # we fetch only 5 rows with their headers\n",
        "employee_df"
      ],
      "execution_count": 0,
      "outputs": [
        {
          "output_type": "execute_result",
          "data": {
            "text/html": [
              "<div>\n",
              "<style scoped>\n",
              "    .dataframe tbody tr th:only-of-type {\n",
              "        vertical-align: middle;\n",
              "    }\n",
              "\n",
              "    .dataframe tbody tr th {\n",
              "        vertical-align: top;\n",
              "    }\n",
              "\n",
              "    .dataframe thead th {\n",
              "        text-align: right;\n",
              "    }\n",
              "</style>\n",
              "<table border=\"1\" class=\"dataframe\">\n",
              "  <thead>\n",
              "    <tr style=\"text-align: right;\">\n",
              "      <th></th>\n",
              "      <th>FirstName</th>\n",
              "      <th>LastName</th>\n",
              "      <th>Title</th>\n",
              "    </tr>\n",
              "  </thead>\n",
              "  <tbody>\n",
              "    <tr>\n",
              "      <th>0</th>\n",
              "      <td>Andrew</td>\n",
              "      <td>Adams</td>\n",
              "      <td>General Manager</td>\n",
              "    </tr>\n",
              "    <tr>\n",
              "      <th>1</th>\n",
              "      <td>Nancy</td>\n",
              "      <td>Edwards</td>\n",
              "      <td>Sales Manager</td>\n",
              "    </tr>\n",
              "    <tr>\n",
              "      <th>2</th>\n",
              "      <td>Jane</td>\n",
              "      <td>Peacock</td>\n",
              "      <td>Sales Support Agent</td>\n",
              "    </tr>\n",
              "    <tr>\n",
              "      <th>3</th>\n",
              "      <td>Margaret</td>\n",
              "      <td>Park</td>\n",
              "      <td>Sales Support Agent</td>\n",
              "    </tr>\n",
              "    <tr>\n",
              "      <th>4</th>\n",
              "      <td>Steve</td>\n",
              "      <td>Johnson</td>\n",
              "      <td>Sales Support Agent</td>\n",
              "    </tr>\n",
              "  </tbody>\n",
              "</table>\n",
              "</div>"
            ],
            "text/plain": [
              "  FirstName LastName                Title\n",
              "0    Andrew    Adams      General Manager\n",
              "1     Nancy  Edwards        Sales Manager\n",
              "2      Jane  Peacock  Sales Support Agent\n",
              "3  Margaret     Park  Sales Support Agent\n",
              "4     Steve  Johnson  Sales Support Agent"
            ]
          },
          "metadata": {
            "tags": []
          },
          "execution_count": 10
        }
      ]
    },
    {
      "cell_type": "code",
      "metadata": {
        "id": "ad0RJvUA1yXb",
        "colab_type": "code",
        "outputId": "683cd055-fc6c-40e7-9277-2f041d3fd11c",
        "colab": {
          "base_uri": "https://localhost:8080/",
          "height": 34
        }
      },
      "source": [
        "len(employee_df)"
      ],
      "execution_count": 0,
      "outputs": [
        {
          "output_type": "execute_result",
          "data": {
            "text/plain": [
              "5"
            ]
          },
          "metadata": {
            "tags": []
          },
          "execution_count": 11
        }
      ]
    },
    {
      "cell_type": "markdown",
      "metadata": {
        "id": "nVBsQQbA5ikp",
        "colab_type": "text"
      },
      "source": [
        "Now let's read in the entire Employee table"
      ]
    },
    {
      "cell_type": "code",
      "metadata": {
        "id": "k3hqNtvr5yVt",
        "colab_type": "code",
        "outputId": "dbda6974-a81b-426a-9246-9e773d59e1b0",
        "colab": {
          "base_uri": "https://localhost:8080/",
          "height": 553
        }
      },
      "source": [
        "with engine.connect() as con:\n",
        "    rs = con.execute(\"select * from Employee\")\n",
        "    employee_df = pd.DataFrame(rs.fetchall(), columns=rs.keys()) # we fetch all rows\n",
        "employee_df"
      ],
      "execution_count": 0,
      "outputs": [
        {
          "output_type": "execute_result",
          "data": {
            "text/html": [
              "<div>\n",
              "<style scoped>\n",
              "    .dataframe tbody tr th:only-of-type {\n",
              "        vertical-align: middle;\n",
              "    }\n",
              "\n",
              "    .dataframe tbody tr th {\n",
              "        vertical-align: top;\n",
              "    }\n",
              "\n",
              "    .dataframe thead th {\n",
              "        text-align: right;\n",
              "    }\n",
              "</style>\n",
              "<table border=\"1\" class=\"dataframe\">\n",
              "  <thead>\n",
              "    <tr style=\"text-align: right;\">\n",
              "      <th></th>\n",
              "      <th>EmployeeId</th>\n",
              "      <th>LastName</th>\n",
              "      <th>FirstName</th>\n",
              "      <th>Title</th>\n",
              "      <th>ReportsTo</th>\n",
              "      <th>BirthDate</th>\n",
              "      <th>HireDate</th>\n",
              "      <th>Address</th>\n",
              "      <th>City</th>\n",
              "      <th>State</th>\n",
              "      <th>Country</th>\n",
              "      <th>PostalCode</th>\n",
              "      <th>Phone</th>\n",
              "      <th>Fax</th>\n",
              "      <th>Email</th>\n",
              "    </tr>\n",
              "  </thead>\n",
              "  <tbody>\n",
              "    <tr>\n",
              "      <th>0</th>\n",
              "      <td>1</td>\n",
              "      <td>Adams</td>\n",
              "      <td>Andrew</td>\n",
              "      <td>General Manager</td>\n",
              "      <td>NaN</td>\n",
              "      <td>1962-02-18 00:00:00</td>\n",
              "      <td>2002-08-14 00:00:00</td>\n",
              "      <td>11120 Jasper Ave NW</td>\n",
              "      <td>Edmonton</td>\n",
              "      <td>AB</td>\n",
              "      <td>Canada</td>\n",
              "      <td>T5K 2N1</td>\n",
              "      <td>+1 (780) 428-9482</td>\n",
              "      <td>+1 (780) 428-3457</td>\n",
              "      <td>andrew@chinookcorp.com</td>\n",
              "    </tr>\n",
              "    <tr>\n",
              "      <th>1</th>\n",
              "      <td>2</td>\n",
              "      <td>Edwards</td>\n",
              "      <td>Nancy</td>\n",
              "      <td>Sales Manager</td>\n",
              "      <td>1.0</td>\n",
              "      <td>1958-12-08 00:00:00</td>\n",
              "      <td>2002-05-01 00:00:00</td>\n",
              "      <td>825 8 Ave SW</td>\n",
              "      <td>Calgary</td>\n",
              "      <td>AB</td>\n",
              "      <td>Canada</td>\n",
              "      <td>T2P 2T3</td>\n",
              "      <td>+1 (403) 262-3443</td>\n",
              "      <td>+1 (403) 262-3322</td>\n",
              "      <td>nancy@chinookcorp.com</td>\n",
              "    </tr>\n",
              "    <tr>\n",
              "      <th>2</th>\n",
              "      <td>3</td>\n",
              "      <td>Peacock</td>\n",
              "      <td>Jane</td>\n",
              "      <td>Sales Support Agent</td>\n",
              "      <td>2.0</td>\n",
              "      <td>1973-08-29 00:00:00</td>\n",
              "      <td>2002-04-01 00:00:00</td>\n",
              "      <td>1111 6 Ave SW</td>\n",
              "      <td>Calgary</td>\n",
              "      <td>AB</td>\n",
              "      <td>Canada</td>\n",
              "      <td>T2P 5M5</td>\n",
              "      <td>+1 (403) 262-3443</td>\n",
              "      <td>+1 (403) 262-6712</td>\n",
              "      <td>jane@chinookcorp.com</td>\n",
              "    </tr>\n",
              "    <tr>\n",
              "      <th>3</th>\n",
              "      <td>4</td>\n",
              "      <td>Park</td>\n",
              "      <td>Margaret</td>\n",
              "      <td>Sales Support Agent</td>\n",
              "      <td>2.0</td>\n",
              "      <td>1947-09-19 00:00:00</td>\n",
              "      <td>2003-05-03 00:00:00</td>\n",
              "      <td>683 10 Street SW</td>\n",
              "      <td>Calgary</td>\n",
              "      <td>AB</td>\n",
              "      <td>Canada</td>\n",
              "      <td>T2P 5G3</td>\n",
              "      <td>+1 (403) 263-4423</td>\n",
              "      <td>+1 (403) 263-4289</td>\n",
              "      <td>margaret@chinookcorp.com</td>\n",
              "    </tr>\n",
              "    <tr>\n",
              "      <th>4</th>\n",
              "      <td>5</td>\n",
              "      <td>Johnson</td>\n",
              "      <td>Steve</td>\n",
              "      <td>Sales Support Agent</td>\n",
              "      <td>2.0</td>\n",
              "      <td>1965-03-03 00:00:00</td>\n",
              "      <td>2003-10-17 00:00:00</td>\n",
              "      <td>7727B 41 Ave</td>\n",
              "      <td>Calgary</td>\n",
              "      <td>AB</td>\n",
              "      <td>Canada</td>\n",
              "      <td>T3B 1Y7</td>\n",
              "      <td>1 (780) 836-9987</td>\n",
              "      <td>1 (780) 836-9543</td>\n",
              "      <td>steve@chinookcorp.com</td>\n",
              "    </tr>\n",
              "    <tr>\n",
              "      <th>5</th>\n",
              "      <td>6</td>\n",
              "      <td>Mitchell</td>\n",
              "      <td>Michael</td>\n",
              "      <td>IT Manager</td>\n",
              "      <td>1.0</td>\n",
              "      <td>1973-07-01 00:00:00</td>\n",
              "      <td>2003-10-17 00:00:00</td>\n",
              "      <td>5827 Bowness Road NW</td>\n",
              "      <td>Calgary</td>\n",
              "      <td>AB</td>\n",
              "      <td>Canada</td>\n",
              "      <td>T3B 0C5</td>\n",
              "      <td>+1 (403) 246-9887</td>\n",
              "      <td>+1 (403) 246-9899</td>\n",
              "      <td>michael@chinookcorp.com</td>\n",
              "    </tr>\n",
              "    <tr>\n",
              "      <th>6</th>\n",
              "      <td>7</td>\n",
              "      <td>King</td>\n",
              "      <td>Robert</td>\n",
              "      <td>IT Staff</td>\n",
              "      <td>6.0</td>\n",
              "      <td>1970-05-29 00:00:00</td>\n",
              "      <td>2004-01-02 00:00:00</td>\n",
              "      <td>590 Columbia Boulevard West</td>\n",
              "      <td>Lethbridge</td>\n",
              "      <td>AB</td>\n",
              "      <td>Canada</td>\n",
              "      <td>T1K 5N8</td>\n",
              "      <td>+1 (403) 456-9986</td>\n",
              "      <td>+1 (403) 456-8485</td>\n",
              "      <td>robert@chinookcorp.com</td>\n",
              "    </tr>\n",
              "    <tr>\n",
              "      <th>7</th>\n",
              "      <td>8</td>\n",
              "      <td>Callahan</td>\n",
              "      <td>Laura</td>\n",
              "      <td>IT Staff</td>\n",
              "      <td>6.0</td>\n",
              "      <td>1968-01-09 00:00:00</td>\n",
              "      <td>2004-03-04 00:00:00</td>\n",
              "      <td>923 7 ST NW</td>\n",
              "      <td>Lethbridge</td>\n",
              "      <td>AB</td>\n",
              "      <td>Canada</td>\n",
              "      <td>T1H 1Y8</td>\n",
              "      <td>+1 (403) 467-3351</td>\n",
              "      <td>+1 (403) 467-8772</td>\n",
              "      <td>laura@chinookcorp.com</td>\n",
              "    </tr>\n",
              "  </tbody>\n",
              "</table>\n",
              "</div>"
            ],
            "text/plain": [
              "   EmployeeId  LastName  ...                Fax                     Email\n",
              "0           1     Adams  ...  +1 (780) 428-3457    andrew@chinookcorp.com\n",
              "1           2   Edwards  ...  +1 (403) 262-3322     nancy@chinookcorp.com\n",
              "2           3   Peacock  ...  +1 (403) 262-6712      jane@chinookcorp.com\n",
              "3           4      Park  ...  +1 (403) 263-4289  margaret@chinookcorp.com\n",
              "4           5   Johnson  ...   1 (780) 836-9543     steve@chinookcorp.com\n",
              "5           6  Mitchell  ...  +1 (403) 246-9899   michael@chinookcorp.com\n",
              "6           7      King  ...  +1 (403) 456-8485    robert@chinookcorp.com\n",
              "7           8  Callahan  ...  +1 (403) 467-8772     laura@chinookcorp.com\n",
              "\n",
              "[8 rows x 15 columns]"
            ]
          },
          "metadata": {
            "tags": []
          },
          "execution_count": 12
        }
      ]
    },
    {
      "cell_type": "code",
      "metadata": {
        "id": "3N14mo6U9frs",
        "colab_type": "code",
        "outputId": "ba1ec301-4662-49ff-b577-92e19040180e",
        "colab": {
          "base_uri": "https://localhost:8080/",
          "height": 34
        }
      },
      "source": [
        "# let's see the shape\n",
        "employee_df.shape"
      ],
      "execution_count": 0,
      "outputs": [
        {
          "output_type": "execute_result",
          "data": {
            "text/plain": [
              "(8, 15)"
            ]
          },
          "metadata": {
            "tags": []
          },
          "execution_count": 13
        }
      ]
    },
    {
      "cell_type": "markdown",
      "metadata": {
        "id": "chrO1zuZ9wsb",
        "colab_type": "text"
      },
      "source": [
        "### Filtering your database records using SQL's WHERE\n",
        "You can now execute a basic SQL query to select records from any table in your database and you can also perform simple query customizations to select particular columns and numbers of rows.\n",
        "\n",
        "There are a couple more standard SQL query chops that will aid you in your journey to becoming an SQL ninja.\n",
        "\n",
        "Let's say, for example that you wanted to get all records from the Customer table of the Chinook database for which the Country is 'Canada'. You can do this very easily in SQL using a SELECT statement followed by a WHERE clause as follows:\n",
        "```\n",
        "SELECT * FROM Customer WHERE Country = 'Canada'\n",
        "```\n",
        "In fact, you can filter any SELECT statement by any condition using a WHERE clause. This is called filtering your records.\n",
        "\n",
        "Execute the query that selects all records from the Employee table where 'EmployeeId' is greater than or equal to 6. Use the >= operator and assign the results to rs.\n",
        "Apply the method fetchall() to rs in order to fetch all records in rs. Store them in the DataFrame df.\n",
        "Using the rs object, set the DataFrame's column names to the corresponding names of the table columns."
      ]
    },
    {
      "cell_type": "code",
      "metadata": {
        "id": "tJTBu3Ty9k19",
        "colab_type": "code",
        "outputId": "7578bfd3-07c3-4c14-9218-95e2cc9cf08f",
        "colab": {
          "base_uri": "https://localhost:8080/",
          "height": 186
        }
      },
      "source": [
        "# As usual lets establish a connection to the engine\n",
        "with engine.connect() as con:\n",
        "    rs = con.execute('select * from Employee where EmployeeId >= 6')  # select all records where EmployeeID >= 6\n",
        "    df = pd.DataFrame(rs.fetchall(), columns=rs.keys())\n",
        "df"
      ],
      "execution_count": 0,
      "outputs": [
        {
          "output_type": "execute_result",
          "data": {
            "text/html": [
              "<div>\n",
              "<style scoped>\n",
              "    .dataframe tbody tr th:only-of-type {\n",
              "        vertical-align: middle;\n",
              "    }\n",
              "\n",
              "    .dataframe tbody tr th {\n",
              "        vertical-align: top;\n",
              "    }\n",
              "\n",
              "    .dataframe thead th {\n",
              "        text-align: right;\n",
              "    }\n",
              "</style>\n",
              "<table border=\"1\" class=\"dataframe\">\n",
              "  <thead>\n",
              "    <tr style=\"text-align: right;\">\n",
              "      <th></th>\n",
              "      <th>EmployeeId</th>\n",
              "      <th>LastName</th>\n",
              "      <th>FirstName</th>\n",
              "      <th>Title</th>\n",
              "      <th>ReportsTo</th>\n",
              "      <th>BirthDate</th>\n",
              "      <th>HireDate</th>\n",
              "      <th>Address</th>\n",
              "      <th>City</th>\n",
              "      <th>State</th>\n",
              "      <th>Country</th>\n",
              "      <th>PostalCode</th>\n",
              "      <th>Phone</th>\n",
              "      <th>Fax</th>\n",
              "      <th>Email</th>\n",
              "    </tr>\n",
              "  </thead>\n",
              "  <tbody>\n",
              "    <tr>\n",
              "      <th>0</th>\n",
              "      <td>6</td>\n",
              "      <td>Mitchell</td>\n",
              "      <td>Michael</td>\n",
              "      <td>IT Manager</td>\n",
              "      <td>1</td>\n",
              "      <td>1973-07-01 00:00:00</td>\n",
              "      <td>2003-10-17 00:00:00</td>\n",
              "      <td>5827 Bowness Road NW</td>\n",
              "      <td>Calgary</td>\n",
              "      <td>AB</td>\n",
              "      <td>Canada</td>\n",
              "      <td>T3B 0C5</td>\n",
              "      <td>+1 (403) 246-9887</td>\n",
              "      <td>+1 (403) 246-9899</td>\n",
              "      <td>michael@chinookcorp.com</td>\n",
              "    </tr>\n",
              "    <tr>\n",
              "      <th>1</th>\n",
              "      <td>7</td>\n",
              "      <td>King</td>\n",
              "      <td>Robert</td>\n",
              "      <td>IT Staff</td>\n",
              "      <td>6</td>\n",
              "      <td>1970-05-29 00:00:00</td>\n",
              "      <td>2004-01-02 00:00:00</td>\n",
              "      <td>590 Columbia Boulevard West</td>\n",
              "      <td>Lethbridge</td>\n",
              "      <td>AB</td>\n",
              "      <td>Canada</td>\n",
              "      <td>T1K 5N8</td>\n",
              "      <td>+1 (403) 456-9986</td>\n",
              "      <td>+1 (403) 456-8485</td>\n",
              "      <td>robert@chinookcorp.com</td>\n",
              "    </tr>\n",
              "    <tr>\n",
              "      <th>2</th>\n",
              "      <td>8</td>\n",
              "      <td>Callahan</td>\n",
              "      <td>Laura</td>\n",
              "      <td>IT Staff</td>\n",
              "      <td>6</td>\n",
              "      <td>1968-01-09 00:00:00</td>\n",
              "      <td>2004-03-04 00:00:00</td>\n",
              "      <td>923 7 ST NW</td>\n",
              "      <td>Lethbridge</td>\n",
              "      <td>AB</td>\n",
              "      <td>Canada</td>\n",
              "      <td>T1H 1Y8</td>\n",
              "      <td>+1 (403) 467-3351</td>\n",
              "      <td>+1 (403) 467-8772</td>\n",
              "      <td>laura@chinookcorp.com</td>\n",
              "    </tr>\n",
              "  </tbody>\n",
              "</table>\n",
              "</div>"
            ],
            "text/plain": [
              "   EmployeeId  LastName  ...                Fax                    Email\n",
              "0           6  Mitchell  ...  +1 (403) 246-9899  michael@chinookcorp.com\n",
              "1           7      King  ...  +1 (403) 456-8485   robert@chinookcorp.com\n",
              "2           8  Callahan  ...  +1 (403) 467-8772    laura@chinookcorp.com\n",
              "\n",
              "[3 rows x 15 columns]"
            ]
          },
          "metadata": {
            "tags": []
          },
          "execution_count": 14
        }
      ]
    },
    {
      "cell_type": "markdown",
      "metadata": {
        "id": "cLQrwqupBNsW",
        "colab_type": "text"
      },
      "source": [
        "### Ordering your SQL records with ORDER BY\n",
        "You can also order your SQL query results. For example, if you wanted to get all records from the Customer table of the Chinook database and order them in increasing order by the column SupportRepId, you could do so with the following query:\n",
        "\n",
        "`\"SELECT * FROM Customer ORDER BY SupportRepId\"`\n",
        "In fact, you can order any SELECT statement by any column.\n",
        "\n",
        "In this interactive exercise, you'll select all records of the Employee table and order them in increasing order by the column BirthDate."
      ]
    },
    {
      "cell_type": "code",
      "metadata": {
        "id": "gVG-iwT2B3wW",
        "colab_type": "code",
        "outputId": "f286a935-aa75-402b-e524-e4d1c5fe2da5",
        "colab": {
          "base_uri": "https://localhost:8080/",
          "height": 553
        }
      },
      "source": [
        "# Let's establish a connection to the data base\n",
        "with engine.connect() as con:\n",
        "    rs = con.execute('select * from Employee order by BirthDate asc')\n",
        "    df = pd.DataFrame(rs.fetchall(), columns=rs.keys())\n",
        "df"
      ],
      "execution_count": 0,
      "outputs": [
        {
          "output_type": "execute_result",
          "data": {
            "text/html": [
              "<div>\n",
              "<style scoped>\n",
              "    .dataframe tbody tr th:only-of-type {\n",
              "        vertical-align: middle;\n",
              "    }\n",
              "\n",
              "    .dataframe tbody tr th {\n",
              "        vertical-align: top;\n",
              "    }\n",
              "\n",
              "    .dataframe thead th {\n",
              "        text-align: right;\n",
              "    }\n",
              "</style>\n",
              "<table border=\"1\" class=\"dataframe\">\n",
              "  <thead>\n",
              "    <tr style=\"text-align: right;\">\n",
              "      <th></th>\n",
              "      <th>EmployeeId</th>\n",
              "      <th>LastName</th>\n",
              "      <th>FirstName</th>\n",
              "      <th>Title</th>\n",
              "      <th>ReportsTo</th>\n",
              "      <th>BirthDate</th>\n",
              "      <th>HireDate</th>\n",
              "      <th>Address</th>\n",
              "      <th>City</th>\n",
              "      <th>State</th>\n",
              "      <th>Country</th>\n",
              "      <th>PostalCode</th>\n",
              "      <th>Phone</th>\n",
              "      <th>Fax</th>\n",
              "      <th>Email</th>\n",
              "    </tr>\n",
              "  </thead>\n",
              "  <tbody>\n",
              "    <tr>\n",
              "      <th>0</th>\n",
              "      <td>4</td>\n",
              "      <td>Park</td>\n",
              "      <td>Margaret</td>\n",
              "      <td>Sales Support Agent</td>\n",
              "      <td>2.0</td>\n",
              "      <td>1947-09-19 00:00:00</td>\n",
              "      <td>2003-05-03 00:00:00</td>\n",
              "      <td>683 10 Street SW</td>\n",
              "      <td>Calgary</td>\n",
              "      <td>AB</td>\n",
              "      <td>Canada</td>\n",
              "      <td>T2P 5G3</td>\n",
              "      <td>+1 (403) 263-4423</td>\n",
              "      <td>+1 (403) 263-4289</td>\n",
              "      <td>margaret@chinookcorp.com</td>\n",
              "    </tr>\n",
              "    <tr>\n",
              "      <th>1</th>\n",
              "      <td>2</td>\n",
              "      <td>Edwards</td>\n",
              "      <td>Nancy</td>\n",
              "      <td>Sales Manager</td>\n",
              "      <td>1.0</td>\n",
              "      <td>1958-12-08 00:00:00</td>\n",
              "      <td>2002-05-01 00:00:00</td>\n",
              "      <td>825 8 Ave SW</td>\n",
              "      <td>Calgary</td>\n",
              "      <td>AB</td>\n",
              "      <td>Canada</td>\n",
              "      <td>T2P 2T3</td>\n",
              "      <td>+1 (403) 262-3443</td>\n",
              "      <td>+1 (403) 262-3322</td>\n",
              "      <td>nancy@chinookcorp.com</td>\n",
              "    </tr>\n",
              "    <tr>\n",
              "      <th>2</th>\n",
              "      <td>1</td>\n",
              "      <td>Adams</td>\n",
              "      <td>Andrew</td>\n",
              "      <td>General Manager</td>\n",
              "      <td>NaN</td>\n",
              "      <td>1962-02-18 00:00:00</td>\n",
              "      <td>2002-08-14 00:00:00</td>\n",
              "      <td>11120 Jasper Ave NW</td>\n",
              "      <td>Edmonton</td>\n",
              "      <td>AB</td>\n",
              "      <td>Canada</td>\n",
              "      <td>T5K 2N1</td>\n",
              "      <td>+1 (780) 428-9482</td>\n",
              "      <td>+1 (780) 428-3457</td>\n",
              "      <td>andrew@chinookcorp.com</td>\n",
              "    </tr>\n",
              "    <tr>\n",
              "      <th>3</th>\n",
              "      <td>5</td>\n",
              "      <td>Johnson</td>\n",
              "      <td>Steve</td>\n",
              "      <td>Sales Support Agent</td>\n",
              "      <td>2.0</td>\n",
              "      <td>1965-03-03 00:00:00</td>\n",
              "      <td>2003-10-17 00:00:00</td>\n",
              "      <td>7727B 41 Ave</td>\n",
              "      <td>Calgary</td>\n",
              "      <td>AB</td>\n",
              "      <td>Canada</td>\n",
              "      <td>T3B 1Y7</td>\n",
              "      <td>1 (780) 836-9987</td>\n",
              "      <td>1 (780) 836-9543</td>\n",
              "      <td>steve@chinookcorp.com</td>\n",
              "    </tr>\n",
              "    <tr>\n",
              "      <th>4</th>\n",
              "      <td>8</td>\n",
              "      <td>Callahan</td>\n",
              "      <td>Laura</td>\n",
              "      <td>IT Staff</td>\n",
              "      <td>6.0</td>\n",
              "      <td>1968-01-09 00:00:00</td>\n",
              "      <td>2004-03-04 00:00:00</td>\n",
              "      <td>923 7 ST NW</td>\n",
              "      <td>Lethbridge</td>\n",
              "      <td>AB</td>\n",
              "      <td>Canada</td>\n",
              "      <td>T1H 1Y8</td>\n",
              "      <td>+1 (403) 467-3351</td>\n",
              "      <td>+1 (403) 467-8772</td>\n",
              "      <td>laura@chinookcorp.com</td>\n",
              "    </tr>\n",
              "    <tr>\n",
              "      <th>5</th>\n",
              "      <td>7</td>\n",
              "      <td>King</td>\n",
              "      <td>Robert</td>\n",
              "      <td>IT Staff</td>\n",
              "      <td>6.0</td>\n",
              "      <td>1970-05-29 00:00:00</td>\n",
              "      <td>2004-01-02 00:00:00</td>\n",
              "      <td>590 Columbia Boulevard West</td>\n",
              "      <td>Lethbridge</td>\n",
              "      <td>AB</td>\n",
              "      <td>Canada</td>\n",
              "      <td>T1K 5N8</td>\n",
              "      <td>+1 (403) 456-9986</td>\n",
              "      <td>+1 (403) 456-8485</td>\n",
              "      <td>robert@chinookcorp.com</td>\n",
              "    </tr>\n",
              "    <tr>\n",
              "      <th>6</th>\n",
              "      <td>6</td>\n",
              "      <td>Mitchell</td>\n",
              "      <td>Michael</td>\n",
              "      <td>IT Manager</td>\n",
              "      <td>1.0</td>\n",
              "      <td>1973-07-01 00:00:00</td>\n",
              "      <td>2003-10-17 00:00:00</td>\n",
              "      <td>5827 Bowness Road NW</td>\n",
              "      <td>Calgary</td>\n",
              "      <td>AB</td>\n",
              "      <td>Canada</td>\n",
              "      <td>T3B 0C5</td>\n",
              "      <td>+1 (403) 246-9887</td>\n",
              "      <td>+1 (403) 246-9899</td>\n",
              "      <td>michael@chinookcorp.com</td>\n",
              "    </tr>\n",
              "    <tr>\n",
              "      <th>7</th>\n",
              "      <td>3</td>\n",
              "      <td>Peacock</td>\n",
              "      <td>Jane</td>\n",
              "      <td>Sales Support Agent</td>\n",
              "      <td>2.0</td>\n",
              "      <td>1973-08-29 00:00:00</td>\n",
              "      <td>2002-04-01 00:00:00</td>\n",
              "      <td>1111 6 Ave SW</td>\n",
              "      <td>Calgary</td>\n",
              "      <td>AB</td>\n",
              "      <td>Canada</td>\n",
              "      <td>T2P 5M5</td>\n",
              "      <td>+1 (403) 262-3443</td>\n",
              "      <td>+1 (403) 262-6712</td>\n",
              "      <td>jane@chinookcorp.com</td>\n",
              "    </tr>\n",
              "  </tbody>\n",
              "</table>\n",
              "</div>"
            ],
            "text/plain": [
              "   EmployeeId  LastName  ...                Fax                     Email\n",
              "0           4      Park  ...  +1 (403) 263-4289  margaret@chinookcorp.com\n",
              "1           2   Edwards  ...  +1 (403) 262-3322     nancy@chinookcorp.com\n",
              "2           1     Adams  ...  +1 (780) 428-3457    andrew@chinookcorp.com\n",
              "3           5   Johnson  ...   1 (780) 836-9543     steve@chinookcorp.com\n",
              "4           8  Callahan  ...  +1 (403) 467-8772     laura@chinookcorp.com\n",
              "5           7      King  ...  +1 (403) 456-8485    robert@chinookcorp.com\n",
              "6           6  Mitchell  ...  +1 (403) 246-9899   michael@chinookcorp.com\n",
              "7           3   Peacock  ...  +1 (403) 262-6712      jane@chinookcorp.com\n",
              "\n",
              "[8 rows x 15 columns]"
            ]
          },
          "metadata": {
            "tags": []
          },
          "execution_count": 15
        }
      ]
    },
    {
      "cell_type": "markdown",
      "metadata": {
        "id": "qItgrAPtFEY-",
        "colab_type": "text"
      },
      "source": [
        "### Querying relational databases directly with pandas\n",
        "\n",
        "with just 4 lines of code we can read data from a relational database straight to pandas. that's cool. But imagine reading it in one line!!\n",
        "\n",
        "Introducing pandas: `pd.read_sql_query()` function. It takes 2 arguments. The first will be the quey string and the second the database connection engine object `engine` that we want to connect to."
      ]
    },
    {
      "cell_type": "markdown",
      "metadata": {
        "id": "iNl26bfDH2T-",
        "colab_type": "text"
      },
      "source": [
        "<h4>Pandas and The Hello World of SQL Queries!</h4>\n",
        "Here, you'll take advantage of the power of pandas to write the results of your SQL query to a DataFrame in one swift line of Python code!"
      ]
    },
    {
      "cell_type": "code",
      "metadata": {
        "id": "NbNKXAaNHUqu",
        "colab_type": "code",
        "outputId": "f85b0f19-4fc1-4354-a1fc-29709771e79b",
        "colab": {
          "base_uri": "https://localhost:8080/",
          "height": 279
        }
      },
      "source": [
        "# let's re-create the connection to the database engine\n",
        "engine = create_engine('sqlite:///Chinook.sqlite')\n",
        "\n",
        "# let's connect to the engine using pandas to read in the Customer table staright to a data frame\n",
        "customer_df = pd.read_sql_query('select * from Customer', engine)\n",
        "customer_df.head()"
      ],
      "execution_count": 0,
      "outputs": [
        {
          "output_type": "execute_result",
          "data": {
            "text/html": [
              "<div>\n",
              "<style scoped>\n",
              "    .dataframe tbody tr th:only-of-type {\n",
              "        vertical-align: middle;\n",
              "    }\n",
              "\n",
              "    .dataframe tbody tr th {\n",
              "        vertical-align: top;\n",
              "    }\n",
              "\n",
              "    .dataframe thead th {\n",
              "        text-align: right;\n",
              "    }\n",
              "</style>\n",
              "<table border=\"1\" class=\"dataframe\">\n",
              "  <thead>\n",
              "    <tr style=\"text-align: right;\">\n",
              "      <th></th>\n",
              "      <th>CustomerId</th>\n",
              "      <th>FirstName</th>\n",
              "      <th>LastName</th>\n",
              "      <th>Company</th>\n",
              "      <th>Address</th>\n",
              "      <th>City</th>\n",
              "      <th>State</th>\n",
              "      <th>Country</th>\n",
              "      <th>PostalCode</th>\n",
              "      <th>Phone</th>\n",
              "      <th>Fax</th>\n",
              "      <th>Email</th>\n",
              "      <th>SupportRepId</th>\n",
              "    </tr>\n",
              "  </thead>\n",
              "  <tbody>\n",
              "    <tr>\n",
              "      <th>0</th>\n",
              "      <td>1</td>\n",
              "      <td>Luís</td>\n",
              "      <td>Gonçalves</td>\n",
              "      <td>Embraer - Empresa Brasileira de Aeronáutica S.A.</td>\n",
              "      <td>Av. Brigadeiro Faria Lima, 2170</td>\n",
              "      <td>São José dos Campos</td>\n",
              "      <td>SP</td>\n",
              "      <td>Brazil</td>\n",
              "      <td>12227-000</td>\n",
              "      <td>+55 (12) 3923-5555</td>\n",
              "      <td>+55 (12) 3923-5566</td>\n",
              "      <td>luisg@embraer.com.br</td>\n",
              "      <td>3</td>\n",
              "    </tr>\n",
              "    <tr>\n",
              "      <th>1</th>\n",
              "      <td>2</td>\n",
              "      <td>Leonie</td>\n",
              "      <td>Köhler</td>\n",
              "      <td>None</td>\n",
              "      <td>Theodor-Heuss-Straße 34</td>\n",
              "      <td>Stuttgart</td>\n",
              "      <td>None</td>\n",
              "      <td>Germany</td>\n",
              "      <td>70174</td>\n",
              "      <td>+49 0711 2842222</td>\n",
              "      <td>None</td>\n",
              "      <td>leonekohler@surfeu.de</td>\n",
              "      <td>5</td>\n",
              "    </tr>\n",
              "    <tr>\n",
              "      <th>2</th>\n",
              "      <td>3</td>\n",
              "      <td>François</td>\n",
              "      <td>Tremblay</td>\n",
              "      <td>None</td>\n",
              "      <td>1498 rue Bélanger</td>\n",
              "      <td>Montréal</td>\n",
              "      <td>QC</td>\n",
              "      <td>Canada</td>\n",
              "      <td>H2G 1A7</td>\n",
              "      <td>+1 (514) 721-4711</td>\n",
              "      <td>None</td>\n",
              "      <td>ftremblay@gmail.com</td>\n",
              "      <td>3</td>\n",
              "    </tr>\n",
              "    <tr>\n",
              "      <th>3</th>\n",
              "      <td>4</td>\n",
              "      <td>Bjørn</td>\n",
              "      <td>Hansen</td>\n",
              "      <td>None</td>\n",
              "      <td>Ullevålsveien 14</td>\n",
              "      <td>Oslo</td>\n",
              "      <td>None</td>\n",
              "      <td>Norway</td>\n",
              "      <td>0171</td>\n",
              "      <td>+47 22 44 22 22</td>\n",
              "      <td>None</td>\n",
              "      <td>bjorn.hansen@yahoo.no</td>\n",
              "      <td>4</td>\n",
              "    </tr>\n",
              "    <tr>\n",
              "      <th>4</th>\n",
              "      <td>5</td>\n",
              "      <td>František</td>\n",
              "      <td>Wichterlová</td>\n",
              "      <td>JetBrains s.r.o.</td>\n",
              "      <td>Klanova 9/506</td>\n",
              "      <td>Prague</td>\n",
              "      <td>None</td>\n",
              "      <td>Czech Republic</td>\n",
              "      <td>14700</td>\n",
              "      <td>+420 2 4172 5555</td>\n",
              "      <td>+420 2 4172 5555</td>\n",
              "      <td>frantisekw@jetbrains.com</td>\n",
              "      <td>4</td>\n",
              "    </tr>\n",
              "  </tbody>\n",
              "</table>\n",
              "</div>"
            ],
            "text/plain": [
              "   CustomerId  FirstName  ...                     Email SupportRepId\n",
              "0           1       Luís  ...      luisg@embraer.com.br            3\n",
              "1           2     Leonie  ...     leonekohler@surfeu.de            5\n",
              "2           3   François  ...       ftremblay@gmail.com            3\n",
              "3           4      Bjørn  ...     bjorn.hansen@yahoo.no            4\n",
              "4           5  František  ...  frantisekw@jetbrains.com            4\n",
              "\n",
              "[5 rows x 13 columns]"
            ]
          },
          "metadata": {
            "tags": []
          },
          "execution_count": 16
        }
      ]
    },
    {
      "cell_type": "code",
      "metadata": {
        "id": "7G5w9oiuMOuG",
        "colab_type": "code",
        "outputId": "3833cac4-ba9a-4168-a743-31308637379d",
        "colab": {
          "base_uri": "https://localhost:8080/",
          "height": 34
        }
      },
      "source": [
        "customer_df.shape"
      ],
      "execution_count": 0,
      "outputs": [
        {
          "output_type": "execute_result",
          "data": {
            "text/plain": [
              "(59, 13)"
            ]
          },
          "metadata": {
            "tags": []
          },
          "execution_count": 17
        }
      ]
    },
    {
      "cell_type": "markdown",
      "metadata": {
        "id": "dEzJOEQJLvdK",
        "colab_type": "text"
      },
      "source": [
        "Notice that pandas reads it in fully with column names in place."
      ]
    },
    {
      "cell_type": "markdown",
      "metadata": {
        "id": "4MsNuTkxMDJ3",
        "colab_type": "text"
      },
      "source": [
        "<h4>Pandas for more complex querying</h4>\n",
        "Here, you'll become more familiar with the pandas function read_sql_query() by using it to execute a more complex query: a SELECT statement followed by both a WHERE clause AND an ORDER BY clause.\n",
        "\n",
        "You'll build a DataFrame that contains the rows of the Customer table for which the CustomerId is greater than or equal to 35 and you'll order these entries by Country descending alphabetically."
      ]
    },
    {
      "cell_type": "code",
      "metadata": {
        "id": "kpdQ68u1Ld_f",
        "colab_type": "code",
        "outputId": "1eae3508-7823-425d-91e8-554d5da6ea3e",
        "colab": {
          "base_uri": "https://localhost:8080/",
          "height": 195
        }
      },
      "source": [
        "df = pd.read_sql_query('select * from Customer where CustomerId >= 35 order by Country desc', engine)\n",
        "# the above code selects customer data for customers with Ids >= 35 and orders by Country names alphabetically from Z to A.\n",
        "df.head()"
      ],
      "execution_count": 0,
      "outputs": [
        {
          "output_type": "execute_result",
          "data": {
            "text/html": [
              "<div>\n",
              "<style scoped>\n",
              "    .dataframe tbody tr th:only-of-type {\n",
              "        vertical-align: middle;\n",
              "    }\n",
              "\n",
              "    .dataframe tbody tr th {\n",
              "        vertical-align: top;\n",
              "    }\n",
              "\n",
              "    .dataframe thead th {\n",
              "        text-align: right;\n",
              "    }\n",
              "</style>\n",
              "<table border=\"1\" class=\"dataframe\">\n",
              "  <thead>\n",
              "    <tr style=\"text-align: right;\">\n",
              "      <th></th>\n",
              "      <th>CustomerId</th>\n",
              "      <th>FirstName</th>\n",
              "      <th>LastName</th>\n",
              "      <th>Company</th>\n",
              "      <th>Address</th>\n",
              "      <th>City</th>\n",
              "      <th>State</th>\n",
              "      <th>Country</th>\n",
              "      <th>PostalCode</th>\n",
              "      <th>Phone</th>\n",
              "      <th>Fax</th>\n",
              "      <th>Email</th>\n",
              "      <th>SupportRepId</th>\n",
              "    </tr>\n",
              "  </thead>\n",
              "  <tbody>\n",
              "    <tr>\n",
              "      <th>0</th>\n",
              "      <td>52</td>\n",
              "      <td>Emma</td>\n",
              "      <td>Jones</td>\n",
              "      <td>None</td>\n",
              "      <td>202 Hoxton Street</td>\n",
              "      <td>London</td>\n",
              "      <td>None</td>\n",
              "      <td>United Kingdom</td>\n",
              "      <td>N1 5LH</td>\n",
              "      <td>+44 020 7707 0707</td>\n",
              "      <td>None</td>\n",
              "      <td>emma_jones@hotmail.com</td>\n",
              "      <td>3</td>\n",
              "    </tr>\n",
              "    <tr>\n",
              "      <th>1</th>\n",
              "      <td>53</td>\n",
              "      <td>Phil</td>\n",
              "      <td>Hughes</td>\n",
              "      <td>None</td>\n",
              "      <td>113 Lupus St</td>\n",
              "      <td>London</td>\n",
              "      <td>None</td>\n",
              "      <td>United Kingdom</td>\n",
              "      <td>SW1V 3EN</td>\n",
              "      <td>+44 020 7976 5722</td>\n",
              "      <td>None</td>\n",
              "      <td>phil.hughes@gmail.com</td>\n",
              "      <td>3</td>\n",
              "    </tr>\n",
              "    <tr>\n",
              "      <th>2</th>\n",
              "      <td>54</td>\n",
              "      <td>Steve</td>\n",
              "      <td>Murray</td>\n",
              "      <td>None</td>\n",
              "      <td>110 Raeburn Pl</td>\n",
              "      <td>Edinburgh</td>\n",
              "      <td>None</td>\n",
              "      <td>United Kingdom</td>\n",
              "      <td>EH4 1HH</td>\n",
              "      <td>+44 0131 315 3300</td>\n",
              "      <td>None</td>\n",
              "      <td>steve.murray@yahoo.uk</td>\n",
              "      <td>5</td>\n",
              "    </tr>\n",
              "    <tr>\n",
              "      <th>3</th>\n",
              "      <td>51</td>\n",
              "      <td>Joakim</td>\n",
              "      <td>Johansson</td>\n",
              "      <td>None</td>\n",
              "      <td>Celsiusg. 9</td>\n",
              "      <td>Stockholm</td>\n",
              "      <td>None</td>\n",
              "      <td>Sweden</td>\n",
              "      <td>11230</td>\n",
              "      <td>+46 08-651 52 52</td>\n",
              "      <td>None</td>\n",
              "      <td>joakim.johansson@yahoo.se</td>\n",
              "      <td>5</td>\n",
              "    </tr>\n",
              "    <tr>\n",
              "      <th>4</th>\n",
              "      <td>50</td>\n",
              "      <td>Enrique</td>\n",
              "      <td>Muñoz</td>\n",
              "      <td>None</td>\n",
              "      <td>C/ San Bernardo 85</td>\n",
              "      <td>Madrid</td>\n",
              "      <td>None</td>\n",
              "      <td>Spain</td>\n",
              "      <td>28015</td>\n",
              "      <td>+34 914 454 454</td>\n",
              "      <td>None</td>\n",
              "      <td>enrique_munoz@yahoo.es</td>\n",
              "      <td>5</td>\n",
              "    </tr>\n",
              "  </tbody>\n",
              "</table>\n",
              "</div>"
            ],
            "text/plain": [
              "   CustomerId FirstName  ...                      Email SupportRepId\n",
              "0          52      Emma  ...     emma_jones@hotmail.com            3\n",
              "1          53      Phil  ...      phil.hughes@gmail.com            3\n",
              "2          54     Steve  ...      steve.murray@yahoo.uk            5\n",
              "3          51    Joakim  ...  joakim.johansson@yahoo.se            5\n",
              "4          50   Enrique  ...     enrique_munoz@yahoo.es            5\n",
              "\n",
              "[5 rows x 13 columns]"
            ]
          },
          "metadata": {
            "tags": []
          },
          "execution_count": 21
        }
      ]
    },
    {
      "cell_type": "markdown",
      "metadata": {
        "id": "t8zFdTgZVq6c",
        "colab_type": "text"
      },
      "source": [
        "Let's read all the tables into individual data frames using pd.read_sql_query()"
      ]
    },
    {
      "cell_type": "code",
      "metadata": {
        "id": "ZpY2mF6cWAFr",
        "colab_type": "code",
        "colab": {}
      },
      "source": [
        "for table in table_names:\n",
        "    query = 'select * from ' + table\n",
        "    df = pd.read_sql_query(query, engine)\n",
        "    df.to_csv(table+'.csv',encoding='utf-8')"
      ],
      "execution_count": 0,
      "outputs": []
    },
    {
      "cell_type": "code",
      "metadata": {
        "id": "OnBUKikpj71R",
        "colab_type": "code",
        "outputId": "6ad01ef6-40b3-4859-d519-9e546100c962",
        "colab": {
          "base_uri": "https://localhost:8080/",
          "height": 67
        }
      },
      "source": [
        "# let's check for the files\n",
        "! ls"
      ],
      "execution_count": 0,
      "outputs": [
        {
          "output_type": "stream",
          "text": [
            "Album.csv\tCustomer.csv  Invoice.csv      Playlist.csv\t  Track.csv\n",
            "Artist.csv\tEmployee.csv  InvoiceLine.csv  PlaylistTrack.csv\n",
            "Chinook.sqlite\tGenre.csv     MediaType.csv    sample_data\n"
          ],
          "name": "stdout"
        }
      ]
    },
    {
      "cell_type": "markdown",
      "metadata": {
        "id": "SKri8aUshnIr",
        "colab_type": "text"
      },
      "source": [
        "So yay!! we can see all our tables saved away as CSV files that we can load in pandas. Let's load the Genre.csv file"
      ]
    },
    {
      "cell_type": "code",
      "metadata": {
        "id": "Xn2prDiSh2mf",
        "colab_type": "code",
        "outputId": "6c146834-9d83-404b-daf9-ef21fd8837c5",
        "colab": {
          "base_uri": "https://localhost:8080/",
          "height": 195
        }
      },
      "source": [
        "genre_df = pd.read_csv('Genre.csv')\n",
        "genre_df.head()"
      ],
      "execution_count": 0,
      "outputs": [
        {
          "output_type": "execute_result",
          "data": {
            "text/html": [
              "<div>\n",
              "<style scoped>\n",
              "    .dataframe tbody tr th:only-of-type {\n",
              "        vertical-align: middle;\n",
              "    }\n",
              "\n",
              "    .dataframe tbody tr th {\n",
              "        vertical-align: top;\n",
              "    }\n",
              "\n",
              "    .dataframe thead th {\n",
              "        text-align: right;\n",
              "    }\n",
              "</style>\n",
              "<table border=\"1\" class=\"dataframe\">\n",
              "  <thead>\n",
              "    <tr style=\"text-align: right;\">\n",
              "      <th></th>\n",
              "      <th>Unnamed: 0</th>\n",
              "      <th>GenreId</th>\n",
              "      <th>Name</th>\n",
              "    </tr>\n",
              "  </thead>\n",
              "  <tbody>\n",
              "    <tr>\n",
              "      <th>0</th>\n",
              "      <td>0</td>\n",
              "      <td>1</td>\n",
              "      <td>Rock</td>\n",
              "    </tr>\n",
              "    <tr>\n",
              "      <th>1</th>\n",
              "      <td>1</td>\n",
              "      <td>2</td>\n",
              "      <td>Jazz</td>\n",
              "    </tr>\n",
              "    <tr>\n",
              "      <th>2</th>\n",
              "      <td>2</td>\n",
              "      <td>3</td>\n",
              "      <td>Metal</td>\n",
              "    </tr>\n",
              "    <tr>\n",
              "      <th>3</th>\n",
              "      <td>3</td>\n",
              "      <td>4</td>\n",
              "      <td>Alternative &amp; Punk</td>\n",
              "    </tr>\n",
              "    <tr>\n",
              "      <th>4</th>\n",
              "      <td>4</td>\n",
              "      <td>5</td>\n",
              "      <td>Rock And Roll</td>\n",
              "    </tr>\n",
              "  </tbody>\n",
              "</table>\n",
              "</div>"
            ],
            "text/plain": [
              "   Unnamed: 0  GenreId                Name\n",
              "0           0        1                Rock\n",
              "1           1        2                Jazz\n",
              "2           2        3               Metal\n",
              "3           3        4  Alternative & Punk\n",
              "4           4        5       Rock And Roll"
            ]
          },
          "metadata": {
            "tags": []
          },
          "execution_count": 34
        }
      ]
    },
    {
      "cell_type": "markdown",
      "metadata": {
        "id": "jaoiJb3OiK1V",
        "colab_type": "text"
      },
      "source": [
        "We seem to be getting double index. let's do it again but set index to false"
      ]
    },
    {
      "cell_type": "code",
      "metadata": {
        "id": "YZSP2-bDhhbR",
        "colab_type": "code",
        "colab": {}
      },
      "source": [
        "for table in table_names:\n",
        "    query = 'select * from ' + table\n",
        "    df = pd.read_sql_query(query, engine)\n",
        "    df.to_csv(table+'.csv',encoding='utf-8', index=False)"
      ],
      "execution_count": 0,
      "outputs": []
    },
    {
      "cell_type": "code",
      "metadata": {
        "id": "lJ3hxC7fianT",
        "colab_type": "code",
        "outputId": "a557a370-e6bd-498d-cb5a-7def0811b1f6",
        "colab": {
          "base_uri": "https://localhost:8080/",
          "height": 195
        }
      },
      "source": [
        "# let's see the genre table again\n",
        "genre_df = pd.read_csv('Genre.csv')\n",
        "genre_df.head()"
      ],
      "execution_count": 0,
      "outputs": [
        {
          "output_type": "execute_result",
          "data": {
            "text/html": [
              "<div>\n",
              "<style scoped>\n",
              "    .dataframe tbody tr th:only-of-type {\n",
              "        vertical-align: middle;\n",
              "    }\n",
              "\n",
              "    .dataframe tbody tr th {\n",
              "        vertical-align: top;\n",
              "    }\n",
              "\n",
              "    .dataframe thead th {\n",
              "        text-align: right;\n",
              "    }\n",
              "</style>\n",
              "<table border=\"1\" class=\"dataframe\">\n",
              "  <thead>\n",
              "    <tr style=\"text-align: right;\">\n",
              "      <th></th>\n",
              "      <th>GenreId</th>\n",
              "      <th>Name</th>\n",
              "    </tr>\n",
              "  </thead>\n",
              "  <tbody>\n",
              "    <tr>\n",
              "      <th>0</th>\n",
              "      <td>1</td>\n",
              "      <td>Rock</td>\n",
              "    </tr>\n",
              "    <tr>\n",
              "      <th>1</th>\n",
              "      <td>2</td>\n",
              "      <td>Jazz</td>\n",
              "    </tr>\n",
              "    <tr>\n",
              "      <th>2</th>\n",
              "      <td>3</td>\n",
              "      <td>Metal</td>\n",
              "    </tr>\n",
              "    <tr>\n",
              "      <th>3</th>\n",
              "      <td>4</td>\n",
              "      <td>Alternative &amp; Punk</td>\n",
              "    </tr>\n",
              "    <tr>\n",
              "      <th>4</th>\n",
              "      <td>5</td>\n",
              "      <td>Rock And Roll</td>\n",
              "    </tr>\n",
              "  </tbody>\n",
              "</table>\n",
              "</div>"
            ],
            "text/plain": [
              "   GenreId                Name\n",
              "0        1                Rock\n",
              "1        2                Jazz\n",
              "2        3               Metal\n",
              "3        4  Alternative & Punk\n",
              "4        5       Rock And Roll"
            ]
          },
          "metadata": {
            "tags": []
          },
          "execution_count": 37
        }
      ]
    },
    {
      "cell_type": "markdown",
      "metadata": {
        "id": "ngLV03WkjMr3",
        "colab_type": "text"
      },
      "source": [
        "Much better!! let's also check the Invoice table"
      ]
    },
    {
      "cell_type": "code",
      "metadata": {
        "id": "gkwdWryWjihX",
        "colab_type": "code",
        "outputId": "7c053451-2e2b-4eef-ff01-06e9ea3aadc5",
        "colab": {
          "base_uri": "https://localhost:8080/",
          "height": 195
        }
      },
      "source": [
        "invoice_df = pd.read_csv('Invoice.csv')\n",
        "invoice_df.head()"
      ],
      "execution_count": 0,
      "outputs": [
        {
          "output_type": "execute_result",
          "data": {
            "text/html": [
              "<div>\n",
              "<style scoped>\n",
              "    .dataframe tbody tr th:only-of-type {\n",
              "        vertical-align: middle;\n",
              "    }\n",
              "\n",
              "    .dataframe tbody tr th {\n",
              "        vertical-align: top;\n",
              "    }\n",
              "\n",
              "    .dataframe thead th {\n",
              "        text-align: right;\n",
              "    }\n",
              "</style>\n",
              "<table border=\"1\" class=\"dataframe\">\n",
              "  <thead>\n",
              "    <tr style=\"text-align: right;\">\n",
              "      <th></th>\n",
              "      <th>InvoiceId</th>\n",
              "      <th>CustomerId</th>\n",
              "      <th>InvoiceDate</th>\n",
              "      <th>BillingAddress</th>\n",
              "      <th>BillingCity</th>\n",
              "      <th>BillingState</th>\n",
              "      <th>BillingCountry</th>\n",
              "      <th>BillingPostalCode</th>\n",
              "      <th>Total</th>\n",
              "    </tr>\n",
              "  </thead>\n",
              "  <tbody>\n",
              "    <tr>\n",
              "      <th>0</th>\n",
              "      <td>1</td>\n",
              "      <td>2</td>\n",
              "      <td>2007-01-01 00:00:00</td>\n",
              "      <td>Theodor-Heuss-Straße 34</td>\n",
              "      <td>Stuttgart</td>\n",
              "      <td>NaN</td>\n",
              "      <td>Germany</td>\n",
              "      <td>70174</td>\n",
              "      <td>1.98</td>\n",
              "    </tr>\n",
              "    <tr>\n",
              "      <th>1</th>\n",
              "      <td>2</td>\n",
              "      <td>4</td>\n",
              "      <td>2007-01-02 00:00:00</td>\n",
              "      <td>Ullevålsveien 14</td>\n",
              "      <td>Oslo</td>\n",
              "      <td>NaN</td>\n",
              "      <td>Norway</td>\n",
              "      <td>0171</td>\n",
              "      <td>3.96</td>\n",
              "    </tr>\n",
              "    <tr>\n",
              "      <th>2</th>\n",
              "      <td>3</td>\n",
              "      <td>8</td>\n",
              "      <td>2007-01-03 00:00:00</td>\n",
              "      <td>Grétrystraat 63</td>\n",
              "      <td>Brussels</td>\n",
              "      <td>NaN</td>\n",
              "      <td>Belgium</td>\n",
              "      <td>1000</td>\n",
              "      <td>5.94</td>\n",
              "    </tr>\n",
              "    <tr>\n",
              "      <th>3</th>\n",
              "      <td>4</td>\n",
              "      <td>14</td>\n",
              "      <td>2007-01-06 00:00:00</td>\n",
              "      <td>8210 111 ST NW</td>\n",
              "      <td>Edmonton</td>\n",
              "      <td>AB</td>\n",
              "      <td>Canada</td>\n",
              "      <td>T6G 2C7</td>\n",
              "      <td>8.91</td>\n",
              "    </tr>\n",
              "    <tr>\n",
              "      <th>4</th>\n",
              "      <td>5</td>\n",
              "      <td>23</td>\n",
              "      <td>2007-01-11 00:00:00</td>\n",
              "      <td>69 Salem Street</td>\n",
              "      <td>Boston</td>\n",
              "      <td>MA</td>\n",
              "      <td>USA</td>\n",
              "      <td>2113</td>\n",
              "      <td>13.86</td>\n",
              "    </tr>\n",
              "  </tbody>\n",
              "</table>\n",
              "</div>"
            ],
            "text/plain": [
              "   InvoiceId  CustomerId  ... BillingPostalCode  Total\n",
              "0          1           2  ...             70174   1.98\n",
              "1          2           4  ...              0171   3.96\n",
              "2          3           8  ...              1000   5.94\n",
              "3          4          14  ...           T6G 2C7   8.91\n",
              "4          5          23  ...              2113  13.86\n",
              "\n",
              "[5 rows x 9 columns]"
            ]
          },
          "metadata": {
            "tags": []
          },
          "execution_count": 38
        }
      ]
    },
    {
      "cell_type": "markdown",
      "metadata": {
        "id": "Yjb8aTTnd7KG",
        "colab_type": "text"
      },
      "source": [
        "### Advanced querying: exploiting table relationships\n"
      ]
    },
    {
      "cell_type": "markdown",
      "metadata": {
        "id": "3yb-lzXrpsW8",
        "colab_type": "text"
      },
      "source": [
        "The power of SQL lies in relationships between tables: INNER JOIN\n",
        "Here, you'll perform your first INNER JOIN! You'll be working with your favourite SQLite database, Chinook.sqlite. For each record in the Album table, you'll extract the Title along with the Name of the Artist. The latter will come from the Artist table and so you will need to INNER JOIN these two tables on the ArtistID column of both.\n",
        "\n",
        "Recall that to INNER JOIN the Orders and Customers tables from the Northwind database, Hugo executed the following SQL query:\n",
        "\n",
        "`\"SELECT OrderID, CompanyName FROM Orders INNER JOIN Customers on Orders.CustomerID = Customers.CustomerID\"`\n"
      ]
    },
    {
      "cell_type": "markdown",
      "metadata": {
        "id": "V1royVa3qIBx",
        "colab_type": "text"
      },
      "source": [
        "Assign to rs the results from the following query: select all the records, extracting the Title of the record and Name of the artist of each record from the Album table and the Artist table, respectively. To do so, INNER JOIN these two tables on the ArtistID column of both.\n",
        "In a call to pd.DataFrame(), apply the method fetchall() to rs in order to fetch all records in rs. Store them in the DataFrame df.\n",
        "Set the DataFrame's column names to the corresponding names of the table columns."
      ]
    },
    {
      "cell_type": "code",
      "metadata": {
        "id": "eoyQ8z42q7yR",
        "colab_type": "code",
        "outputId": "83a544f4-9db9-4817-f880-c9bda36ab37e",
        "colab": {
          "base_uri": "https://localhost:8080/",
          "height": 235
        }
      },
      "source": [
        "# let's see the two tables briefly\n",
        "print(album_df.head())\n",
        "print()\n",
        "artist_df = pd.read_csv('Artist.csv')\n",
        "print(artist_df.head())"
      ],
      "execution_count": 0,
      "outputs": [
        {
          "output_type": "stream",
          "text": [
            "   AlbumId                                  Title  ArtistId\n",
            "0        1  For Those About To Rock We Salute You         1\n",
            "1        2                      Balls to the Wall         2\n",
            "2        3                      Restless and Wild         2\n",
            "3        4                      Let There Be Rock         1\n",
            "4        5                               Big Ones         3\n",
            "\n",
            "   ArtistId               Name\n",
            "0         1              AC/DC\n",
            "1         2             Accept\n",
            "2         3          Aerosmith\n",
            "3         4  Alanis Morissette\n",
            "4         5    Alice In Chains\n"
          ],
          "name": "stdout"
        }
      ]
    },
    {
      "cell_type": "code",
      "metadata": {
        "id": "y40lbeqQyayo",
        "colab_type": "code",
        "outputId": "7a0013b4-6b14-462b-9868-3a59a7bd96f3",
        "colab": {
          "base_uri": "https://localhost:8080/",
          "height": 34
        }
      },
      "source": [
        "engine"
      ],
      "execution_count": 0,
      "outputs": [
        {
          "output_type": "execute_result",
          "data": {
            "text/plain": [
              "Engine(sqlite:///Chinook.sqlite)"
            ]
          },
          "metadata": {
            "tags": []
          },
          "execution_count": 46
        }
      ]
    },
    {
      "cell_type": "markdown",
      "metadata": {
        "id": "2yC0jZI_3frL",
        "colab_type": "text"
      },
      "source": [
        "First let's use the connection syntax"
      ]
    },
    {
      "cell_type": "code",
      "metadata": {
        "id": "W4sP4yPLWUzj",
        "colab_type": "code",
        "outputId": "8c5e0da9-97fd-4a0f-ab46-850247ae2ee9",
        "colab": {
          "base_uri": "https://localhost:8080/",
          "height": 195
        }
      },
      "source": [
        "# Lets set the connection\n",
        "with engine.connect() as con:\n",
        "    rs = con.execute('select Album.Title, Artist.Name from Album inner join Artist on Album.ArtistId = Artist.ArtistId')\n",
        "    df = pd.DataFrame(rs.fetchall(), columns=rs.keys())\n",
        "df.head()"
      ],
      "execution_count": 0,
      "outputs": [
        {
          "output_type": "execute_result",
          "data": {
            "text/html": [
              "<div>\n",
              "<style scoped>\n",
              "    .dataframe tbody tr th:only-of-type {\n",
              "        vertical-align: middle;\n",
              "    }\n",
              "\n",
              "    .dataframe tbody tr th {\n",
              "        vertical-align: top;\n",
              "    }\n",
              "\n",
              "    .dataframe thead th {\n",
              "        text-align: right;\n",
              "    }\n",
              "</style>\n",
              "<table border=\"1\" class=\"dataframe\">\n",
              "  <thead>\n",
              "    <tr style=\"text-align: right;\">\n",
              "      <th></th>\n",
              "      <th>Title</th>\n",
              "      <th>Name</th>\n",
              "    </tr>\n",
              "  </thead>\n",
              "  <tbody>\n",
              "    <tr>\n",
              "      <th>0</th>\n",
              "      <td>For Those About To Rock We Salute You</td>\n",
              "      <td>AC/DC</td>\n",
              "    </tr>\n",
              "    <tr>\n",
              "      <th>1</th>\n",
              "      <td>Balls to the Wall</td>\n",
              "      <td>Accept</td>\n",
              "    </tr>\n",
              "    <tr>\n",
              "      <th>2</th>\n",
              "      <td>Restless and Wild</td>\n",
              "      <td>Accept</td>\n",
              "    </tr>\n",
              "    <tr>\n",
              "      <th>3</th>\n",
              "      <td>Let There Be Rock</td>\n",
              "      <td>AC/DC</td>\n",
              "    </tr>\n",
              "    <tr>\n",
              "      <th>4</th>\n",
              "      <td>Big Ones</td>\n",
              "      <td>Aerosmith</td>\n",
              "    </tr>\n",
              "  </tbody>\n",
              "</table>\n",
              "</div>"
            ],
            "text/plain": [
              "                                   Title       Name\n",
              "0  For Those About To Rock We Salute You      AC/DC\n",
              "1                      Balls to the Wall     Accept\n",
              "2                      Restless and Wild     Accept\n",
              "3                      Let There Be Rock      AC/DC\n",
              "4                               Big Ones  Aerosmith"
            ]
          },
          "metadata": {
            "tags": []
          },
          "execution_count": 57
        }
      ]
    },
    {
      "cell_type": "markdown",
      "metadata": {
        "id": "Cipw4paB3nzO",
        "colab_type": "text"
      },
      "source": [
        "Next let's use pandas read-sql-query"
      ]
    },
    {
      "cell_type": "code",
      "metadata": {
        "id": "dJ8imymu2xaz",
        "colab_type": "code",
        "outputId": "8c24631a-727b-48c5-d244-08b51230aae1",
        "colab": {
          "base_uri": "https://localhost:8080/",
          "height": 195
        }
      },
      "source": [
        "# Lets set the connection\n",
        "\n",
        "query = 'select Album.Title, Artist.Name from Album inner join Artist on Album.ArtistId = Artist.ArtistId'\n",
        "df = pd.read_sql_query(query, engine)\n",
        "df.head()"
      ],
      "execution_count": 0,
      "outputs": [
        {
          "output_type": "execute_result",
          "data": {
            "text/html": [
              "<div>\n",
              "<style scoped>\n",
              "    .dataframe tbody tr th:only-of-type {\n",
              "        vertical-align: middle;\n",
              "    }\n",
              "\n",
              "    .dataframe tbody tr th {\n",
              "        vertical-align: top;\n",
              "    }\n",
              "\n",
              "    .dataframe thead th {\n",
              "        text-align: right;\n",
              "    }\n",
              "</style>\n",
              "<table border=\"1\" class=\"dataframe\">\n",
              "  <thead>\n",
              "    <tr style=\"text-align: right;\">\n",
              "      <th></th>\n",
              "      <th>Title</th>\n",
              "      <th>Name</th>\n",
              "    </tr>\n",
              "  </thead>\n",
              "  <tbody>\n",
              "    <tr>\n",
              "      <th>0</th>\n",
              "      <td>For Those About To Rock We Salute You</td>\n",
              "      <td>AC/DC</td>\n",
              "    </tr>\n",
              "    <tr>\n",
              "      <th>1</th>\n",
              "      <td>Balls to the Wall</td>\n",
              "      <td>Accept</td>\n",
              "    </tr>\n",
              "    <tr>\n",
              "      <th>2</th>\n",
              "      <td>Restless and Wild</td>\n",
              "      <td>Accept</td>\n",
              "    </tr>\n",
              "    <tr>\n",
              "      <th>3</th>\n",
              "      <td>Let There Be Rock</td>\n",
              "      <td>AC/DC</td>\n",
              "    </tr>\n",
              "    <tr>\n",
              "      <th>4</th>\n",
              "      <td>Big Ones</td>\n",
              "      <td>Aerosmith</td>\n",
              "    </tr>\n",
              "  </tbody>\n",
              "</table>\n",
              "</div>"
            ],
            "text/plain": [
              "                                   Title       Name\n",
              "0  For Those About To Rock We Salute You      AC/DC\n",
              "1                      Balls to the Wall     Accept\n",
              "2                      Restless and Wild     Accept\n",
              "3                      Let There Be Rock      AC/DC\n",
              "4                               Big Ones  Aerosmith"
            ]
          },
          "metadata": {
            "tags": []
          },
          "execution_count": 59
        }
      ]
    },
    {
      "cell_type": "markdown",
      "metadata": {
        "id": "p576fkrm3vqX",
        "colab_type": "text"
      },
      "source": [
        "### Filtering your INNER JOIN\n",
        "Congrats on performing your first INNER JOIN! You're now going to finish this chapter with one final exercise in which you perform an INNER JOIN and filter the result using a WHERE clause.\n",
        "\n",
        "Recall that to INNER JOIN the Orders and Customers tables from the Northwind database, Hugo executed the following SQL query:\n",
        "```\n",
        "\"SELECT OrderID, CompanyName FROM Orders INNER JOIN Customers on Orders.CustomerID = Customers.CustomerID\"\n",
        "``` \n",
        "Use the pandas function read_sql_query() to assign to the variable df the DataFrame of results from the following query: select all records from PlaylistTrack INNER JOIN Track on PlaylistTrack.TrackId = Track.TrackId that satisfy the condition Milliseconds < 250000"
      ]
    },
    {
      "cell_type": "code",
      "metadata": {
        "id": "8C7u-VNy40u_",
        "colab_type": "code",
        "outputId": "75cbca54-666b-401d-d524-64c1142b9ab6",
        "colab": {
          "base_uri": "https://localhost:8080/",
          "height": 269
        }
      },
      "source": [
        "playlist_track_df = pd.read_csv('PlaylistTrack.csv')\n",
        "print(playlist_track_df.head())\n",
        "print()\n",
        "track_df = pd.read_csv('Track.csv')\n",
        "print(track_df.head())"
      ],
      "execution_count": 0,
      "outputs": [
        {
          "output_type": "stream",
          "text": [
            "   PlaylistId  TrackId\n",
            "0           1     3402\n",
            "1           1     3389\n",
            "2           1     3390\n",
            "3           1     3391\n",
            "4           1     3392\n",
            "\n",
            "   TrackId                                     Name  ...     Bytes  UnitPrice\n",
            "0        1  For Those About To Rock (We Salute You)  ...  11170334       0.99\n",
            "1        2                        Balls to the Wall  ...   5510424       0.99\n",
            "2        3                          Fast As a Shark  ...   3990994       0.99\n",
            "3        4                        Restless and Wild  ...   4331779       0.99\n",
            "4        5                     Princess of the Dawn  ...   6290521       0.99\n",
            "\n",
            "[5 rows x 9 columns]\n"
          ],
          "name": "stdout"
        }
      ]
    },
    {
      "cell_type": "code",
      "metadata": {
        "id": "eKImkK9e5yy8",
        "colab_type": "code",
        "outputId": "4d7c0f81-0203-436a-c7e6-d30d4527a000",
        "colab": {
          "base_uri": "https://localhost:8080/",
          "height": 118
        }
      },
      "source": [
        "track_df.Milliseconds.head()"
      ],
      "execution_count": 0,
      "outputs": [
        {
          "output_type": "execute_result",
          "data": {
            "text/plain": [
              "0    343719\n",
              "1    342562\n",
              "2    230619\n",
              "3    252051\n",
              "4    375418\n",
              "Name: Milliseconds, dtype: int64"
            ]
          },
          "metadata": {
            "tags": []
          },
          "execution_count": 65
        }
      ]
    },
    {
      "cell_type": "code",
      "metadata": {
        "id": "0vzDT0CY6EbA",
        "colab_type": "code",
        "outputId": "b24dc370-1218-41f4-b1fb-14c77605ac4d",
        "colab": {
          "base_uri": "https://localhost:8080/",
          "height": 195
        }
      },
      "source": [
        "query = 'select * from PlaylistTrack inner join Track on PlaylistTrack.TrackId = Track.TrackId where Milliseconds < 250000'\n",
        "df = pd.read_sql_query(query, engine)\n",
        "df.head()"
      ],
      "execution_count": 0,
      "outputs": [
        {
          "output_type": "execute_result",
          "data": {
            "text/html": [
              "<div>\n",
              "<style scoped>\n",
              "    .dataframe tbody tr th:only-of-type {\n",
              "        vertical-align: middle;\n",
              "    }\n",
              "\n",
              "    .dataframe tbody tr th {\n",
              "        vertical-align: top;\n",
              "    }\n",
              "\n",
              "    .dataframe thead th {\n",
              "        text-align: right;\n",
              "    }\n",
              "</style>\n",
              "<table border=\"1\" class=\"dataframe\">\n",
              "  <thead>\n",
              "    <tr style=\"text-align: right;\">\n",
              "      <th></th>\n",
              "      <th>PlaylistId</th>\n",
              "      <th>TrackId</th>\n",
              "      <th>TrackId</th>\n",
              "      <th>Name</th>\n",
              "      <th>AlbumId</th>\n",
              "      <th>MediaTypeId</th>\n",
              "      <th>GenreId</th>\n",
              "      <th>Composer</th>\n",
              "      <th>Milliseconds</th>\n",
              "      <th>Bytes</th>\n",
              "      <th>UnitPrice</th>\n",
              "    </tr>\n",
              "  </thead>\n",
              "  <tbody>\n",
              "    <tr>\n",
              "      <th>0</th>\n",
              "      <td>1</td>\n",
              "      <td>3390</td>\n",
              "      <td>3390</td>\n",
              "      <td>One and the Same</td>\n",
              "      <td>271</td>\n",
              "      <td>2</td>\n",
              "      <td>23</td>\n",
              "      <td>None</td>\n",
              "      <td>217732</td>\n",
              "      <td>3559040</td>\n",
              "      <td>0.99</td>\n",
              "    </tr>\n",
              "    <tr>\n",
              "      <th>1</th>\n",
              "      <td>1</td>\n",
              "      <td>3392</td>\n",
              "      <td>3392</td>\n",
              "      <td>Until We Fall</td>\n",
              "      <td>271</td>\n",
              "      <td>2</td>\n",
              "      <td>23</td>\n",
              "      <td>None</td>\n",
              "      <td>230758</td>\n",
              "      <td>3766605</td>\n",
              "      <td>0.99</td>\n",
              "    </tr>\n",
              "    <tr>\n",
              "      <th>2</th>\n",
              "      <td>1</td>\n",
              "      <td>3393</td>\n",
              "      <td>3393</td>\n",
              "      <td>Original Fire</td>\n",
              "      <td>271</td>\n",
              "      <td>2</td>\n",
              "      <td>23</td>\n",
              "      <td>None</td>\n",
              "      <td>218916</td>\n",
              "      <td>3577821</td>\n",
              "      <td>0.99</td>\n",
              "    </tr>\n",
              "    <tr>\n",
              "      <th>3</th>\n",
              "      <td>1</td>\n",
              "      <td>3394</td>\n",
              "      <td>3394</td>\n",
              "      <td>Broken City</td>\n",
              "      <td>271</td>\n",
              "      <td>2</td>\n",
              "      <td>23</td>\n",
              "      <td>None</td>\n",
              "      <td>228366</td>\n",
              "      <td>3728955</td>\n",
              "      <td>0.99</td>\n",
              "    </tr>\n",
              "    <tr>\n",
              "      <th>4</th>\n",
              "      <td>1</td>\n",
              "      <td>3395</td>\n",
              "      <td>3395</td>\n",
              "      <td>Somedays</td>\n",
              "      <td>271</td>\n",
              "      <td>2</td>\n",
              "      <td>23</td>\n",
              "      <td>None</td>\n",
              "      <td>213831</td>\n",
              "      <td>3497176</td>\n",
              "      <td>0.99</td>\n",
              "    </tr>\n",
              "  </tbody>\n",
              "</table>\n",
              "</div>"
            ],
            "text/plain": [
              "   PlaylistId  TrackId  TrackId  ... Milliseconds    Bytes  UnitPrice\n",
              "0           1     3390     3390  ...       217732  3559040       0.99\n",
              "1           1     3392     3392  ...       230758  3766605       0.99\n",
              "2           1     3393     3393  ...       218916  3577821       0.99\n",
              "3           1     3394     3394  ...       228366  3728955       0.99\n",
              "4           1     3395     3395  ...       213831  3497176       0.99\n",
              "\n",
              "[5 rows x 11 columns]"
            ]
          },
          "metadata": {
            "tags": []
          },
          "execution_count": 72
        }
      ]
    },
    {
      "cell_type": "markdown",
      "metadata": {
        "id": "bxMVb6gcBlUr",
        "colab_type": "text"
      },
      "source": [
        "Do project,\n",
        "\n",
        "PROJECT: TV, HALFTIME SHOWS, AND THE BIG GAME"
      ]
    },
    {
      "cell_type": "code",
      "metadata": {
        "id": "RraHfsLvBkl8",
        "colab_type": "code",
        "colab": {}
      },
      "source": [
        ""
      ],
      "execution_count": 0,
      "outputs": []
    }
  ]
}